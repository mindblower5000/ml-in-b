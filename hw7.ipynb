{
 "cells": [
  {
   "cell_type": "markdown",
   "metadata": {},
   "source": [
    "HW7"
   ]
  },
  {
   "cell_type": "markdown",
   "metadata": {},
   "source": [
    "Построить обобщенную линейную модель (GLM) для прогнозирования наступления страховых случаев на рассмотренных в ноутбуке данных. Придумать и использовать дополнительные факторы при построении модели (например, пересечения признаков и т.д.). Оценить результаты построенной модели при помощи различных метрик (можно использовать и другие метрики помимо представленных в ноутбуке), выявить проблемы. Попробовать улучшить результат и предложить способы решения обнаруженных проблем."
   ]
  },
  {
   "cell_type": "code",
   "execution_count": 1,
   "metadata": {
    "colab": {},
    "colab_type": "code",
    "id": "Fj2E6mVkFR10"
   },
   "outputs": [],
   "source": [
    "import numpy as np\n",
    "import pandas as pd"
   ]
  },
  {
   "cell_type": "code",
   "execution_count": 2,
   "metadata": {
    "colab": {
     "base_uri": "https://localhost:8080/",
     "height": 442
    },
    "colab_type": "code",
    "executionInfo": {
     "elapsed": 3920,
     "status": "ok",
     "timestamp": 1581008058389,
     "user": {
      "displayName": "Aleksandr Shchegolev",
      "photoUrl": "",
      "userId": "00652555022685556919"
     },
     "user_tz": -180
    },
    "id": "_Vs8YR9eFgvy",
    "outputId": "a6611783-1ff7-45db-a9bd-a0292fa59152"
   },
   "outputs": [
    {
     "name": "stdout",
     "output_type": "stream",
     "text": [
      "<class 'pandas.core.frame.DataFrame'>\n",
      "RangeIndex: 115155 entries, 0 to 115154\n",
      "Data columns (total 20 columns):\n",
      "Exposure             115155 non-null float64\n",
      "LicAge               115155 non-null int64\n",
      "RecordBeg            115155 non-null object\n",
      "RecordEnd            59455 non-null object\n",
      "Gender               115155 non-null object\n",
      "MariStat             115155 non-null object\n",
      "SocioCateg           115155 non-null object\n",
      "VehUsage             115155 non-null object\n",
      "DrivAge              115155 non-null int64\n",
      "HasKmLimit           115155 non-null int64\n",
      "BonusMalus           115155 non-null int64\n",
      "ClaimAmount          115155 non-null float64\n",
      "ClaimInd             115155 non-null int64\n",
      "ClaimNbResp          115155 non-null float64\n",
      "ClaimNbNonResp       115155 non-null float64\n",
      "ClaimNbParking       115155 non-null float64\n",
      "ClaimNbFireTheft     115155 non-null float64\n",
      "ClaimNbWindscreen    115155 non-null float64\n",
      "OutUseNb             115155 non-null float64\n",
      "RiskArea             115155 non-null float64\n",
      "dtypes: float64(9), int64(5), object(6)\n",
      "memory usage: 17.6+ MB\n"
     ]
    }
   ],
   "source": [
    "# Загрузим набор данных\n",
    "\n",
    "df = pd.read_csv('freMPL-R.csv', low_memory=False)\n",
    "df = df.loc[df.Dataset.isin([5, 6, 7, 8, 9])]\n",
    "df.drop('Dataset', axis=1, inplace=True)\n",
    "df.dropna(axis=1, how='all', inplace=True)\n",
    "df.drop_duplicates(inplace=True)\n",
    "df.reset_index(drop=True, inplace=True)\n",
    "df.info()"
   ]
  },
  {
   "cell_type": "markdown",
   "metadata": {
    "colab_type": "text",
    "id": "AtfDb_BWWXqQ"
   },
   "source": [
    "В предыдущем уроке мы заметили отрицательную величину убытка для некоторых наблюдений. Заметим, что для всех таких полисов переменная \"ClaimInd\" принимает только значение 0. Поэтому заменим все соответствующие значения \"ClaimAmount\" нулями."
   ]
  },
  {
   "cell_type": "code",
   "execution_count": 3,
   "metadata": {
    "colab": {
     "base_uri": "https://localhost:8080/",
     "height": 221
    },
    "colab_type": "code",
    "executionInfo": {
     "elapsed": 3906,
     "status": "ok",
     "timestamp": 1581008058390,
     "user": {
      "displayName": "Aleksandr Shchegolev",
      "photoUrl": "",
      "userId": "00652555022685556919"
     },
     "user_tz": -180
    },
    "id": "AklwJWsoWnAV",
    "outputId": "027387aa-ba3a-415f-97ae-0ecb2c71cd3c"
   },
   "outputs": [
    {
     "name": "stdout",
     "output_type": "stream",
     "text": [
      "Unique values of ClaimInd: [0]\n"
     ]
    },
    {
     "data": {
      "text/plain": [
       "(967, 2)"
      ]
     },
     "execution_count": 3,
     "metadata": {},
     "output_type": "execute_result"
    }
   ],
   "source": [
    "NegClaimAmount = df.loc[df.ClaimAmount < 0, ['ClaimAmount','ClaimInd']]\n",
    "print('Unique values of ClaimInd:', NegClaimAmount.ClaimInd.unique())\n",
    "NegClaimAmount.shape"
   ]
  },
  {
   "cell_type": "code",
   "execution_count": 4,
   "metadata": {},
   "outputs": [
    {
     "data": {
      "text/html": [
       "<div>\n",
       "<style scoped>\n",
       "    .dataframe tbody tr th:only-of-type {\n",
       "        vertical-align: middle;\n",
       "    }\n",
       "\n",
       "    .dataframe tbody tr th {\n",
       "        vertical-align: top;\n",
       "    }\n",
       "\n",
       "    .dataframe thead th {\n",
       "        text-align: right;\n",
       "    }\n",
       "</style>\n",
       "<table border=\"1\" class=\"dataframe\">\n",
       "  <thead>\n",
       "    <tr style=\"text-align: right;\">\n",
       "      <th></th>\n",
       "      <th>ClaimAmount</th>\n",
       "      <th>ClaimInd</th>\n",
       "    </tr>\n",
       "  </thead>\n",
       "  <tbody>\n",
       "    <tr>\n",
       "      <th>82</th>\n",
       "      <td>-74.206042</td>\n",
       "      <td>0</td>\n",
       "    </tr>\n",
       "    <tr>\n",
       "      <th>175</th>\n",
       "      <td>-1222.585196</td>\n",
       "      <td>0</td>\n",
       "    </tr>\n",
       "    <tr>\n",
       "      <th>177</th>\n",
       "      <td>-316.288822</td>\n",
       "      <td>0</td>\n",
       "    </tr>\n",
       "    <tr>\n",
       "      <th>363</th>\n",
       "      <td>-666.758610</td>\n",
       "      <td>0</td>\n",
       "    </tr>\n",
       "    <tr>\n",
       "      <th>375</th>\n",
       "      <td>-1201.600604</td>\n",
       "      <td>0</td>\n",
       "    </tr>\n",
       "  </tbody>\n",
       "</table>\n",
       "</div>"
      ],
      "text/plain": [
       "     ClaimAmount  ClaimInd\n",
       "82    -74.206042         0\n",
       "175 -1222.585196         0\n",
       "177  -316.288822         0\n",
       "363  -666.758610         0\n",
       "375 -1201.600604         0"
      ]
     },
     "execution_count": 4,
     "metadata": {},
     "output_type": "execute_result"
    }
   ],
   "source": [
    "NegClaimAmount.head()"
   ]
  },
  {
   "cell_type": "code",
   "execution_count": 5,
   "metadata": {
    "colab": {},
    "colab_type": "code",
    "id": "R7laRWoCYF4V"
   },
   "outputs": [],
   "source": [
    "df.loc[df.ClaimAmount < 0, 'ClaimAmount'] = 0"
   ]
  },
  {
   "cell_type": "markdown",
   "metadata": {
    "colab_type": "text",
    "id": "6VuWyv7EGONj"
   },
   "source": [
    "Перекодируем переменные типа `object` с помощью числовых значений"
   ]
  },
  {
   "cell_type": "code",
   "execution_count": 6,
   "metadata": {
    "colab": {},
    "colab_type": "code",
    "id": "yivIrqGaGbSa"
   },
   "outputs": [],
   "source": [
    "def SeriesFactorizer(series):\n",
    "    series, unique = pd.factorize(series)\n",
    "    reference = {x: i for x, i in enumerate(unique)}\n",
    "    print(reference)\n",
    "    return series, reference"
   ]
  },
  {
   "cell_type": "code",
   "execution_count": 7,
   "metadata": {
    "colab": {
     "base_uri": "https://localhost:8080/",
     "height": 34
    },
    "colab_type": "code",
    "executionInfo": {
     "elapsed": 3878,
     "status": "ok",
     "timestamp": 1581008058392,
     "user": {
      "displayName": "Aleksandr Shchegolev",
      "photoUrl": "",
      "userId": "00652555022685556919"
     },
     "user_tz": -180
    },
    "id": "G3SgrIBXGe3J",
    "outputId": "996cd638-4b2d-4826-c0ae-4420fb31e486"
   },
   "outputs": [
    {
     "name": "stdout",
     "output_type": "stream",
     "text": [
      "{0: 'Male', 1: 'Female'}\n"
     ]
    }
   ],
   "source": [
    "df.Gender, GenderRef = SeriesFactorizer(df.Gender)"
   ]
  },
  {
   "cell_type": "code",
   "execution_count": 8,
   "metadata": {
    "colab": {
     "base_uri": "https://localhost:8080/",
     "height": 34
    },
    "colab_type": "code",
    "executionInfo": {
     "elapsed": 3866,
     "status": "ok",
     "timestamp": 1581008058393,
     "user": {
      "displayName": "Aleksandr Shchegolev",
      "photoUrl": "",
      "userId": "00652555022685556919"
     },
     "user_tz": -180
    },
    "id": "HD6_Ie-2GggO",
    "outputId": "c441aeef-2c4a-4594-f716-2941f9068c62"
   },
   "outputs": [
    {
     "name": "stdout",
     "output_type": "stream",
     "text": [
      "{0: 'Other', 1: 'Alone'}\n"
     ]
    }
   ],
   "source": [
    "df.MariStat, MariStatRef = SeriesFactorizer(df.MariStat)"
   ]
  },
  {
   "cell_type": "markdown",
   "metadata": {
    "colab_type": "text",
    "id": "ZdTe9JpiGvt9"
   },
   "source": [
    "Для переменных, содержащих более 2 значений, различия между которыми не могут упорядочены, используем фиктивные переменные (one-hot encoding).\n",
    "\n",
    "**NB**: В H2O не рекомендуется использовать one-hot encoding, поскольку данный фреймворк корректно работает с категориальными признаками, тогда как применение one-hot encoding приводит к неэффективности. Тем не менее, используем здесь фиктивные переменные, чтобы в дальнейшем сохранить возможность сравнения результатов построенных моделей."
   ]
  },
  {
   "cell_type": "code",
   "execution_count": 9,
   "metadata": {
    "colab": {
     "base_uri": "https://localhost:8080/",
     "height": 34
    },
    "colab_type": "code",
    "executionInfo": {
     "elapsed": 3854,
     "status": "ok",
     "timestamp": 1581008058393,
     "user": {
      "displayName": "Aleksandr Shchegolev",
      "photoUrl": "",
      "userId": "00652555022685556919"
     },
     "user_tz": -180
    },
    "id": "VrN99Iv8Ht-G",
    "outputId": "e5acf2a6-ca17-4aab-cd8b-edca0ffbeee3"
   },
   "outputs": [
    {
     "data": {
      "text/plain": [
       "['Professional', 'Private+trip to office', 'Private', 'Professional run']"
      ]
     },
     "execution_count": 9,
     "metadata": {},
     "output_type": "execute_result"
    }
   ],
   "source": [
    "list(df.VehUsage.unique())"
   ]
  },
  {
   "cell_type": "code",
   "execution_count": 10,
   "metadata": {
    "colab": {
     "base_uri": "https://localhost:8080/",
     "height": 204
    },
    "colab_type": "code",
    "executionInfo": {
     "elapsed": 3842,
     "status": "ok",
     "timestamp": 1581008058394,
     "user": {
      "displayName": "Aleksandr Shchegolev",
      "photoUrl": "",
      "userId": "00652555022685556919"
     },
     "user_tz": -180
    },
    "id": "WXfZa7lUH0Jf",
    "outputId": "0ee97476-8bdd-43d3-9765-5bc0cf239456"
   },
   "outputs": [
    {
     "data": {
      "text/html": [
       "<div>\n",
       "<style scoped>\n",
       "    .dataframe tbody tr th:only-of-type {\n",
       "        vertical-align: middle;\n",
       "    }\n",
       "\n",
       "    .dataframe tbody tr th {\n",
       "        vertical-align: top;\n",
       "    }\n",
       "\n",
       "    .dataframe thead th {\n",
       "        text-align: right;\n",
       "    }\n",
       "</style>\n",
       "<table border=\"1\" class=\"dataframe\">\n",
       "  <thead>\n",
       "    <tr style=\"text-align: right;\">\n",
       "      <th></th>\n",
       "      <th>VehUsg_Private</th>\n",
       "      <th>VehUsg_Private+trip to office</th>\n",
       "      <th>VehUsg_Professional</th>\n",
       "      <th>VehUsg_Professional run</th>\n",
       "    </tr>\n",
       "  </thead>\n",
       "  <tbody>\n",
       "    <tr>\n",
       "      <th>0</th>\n",
       "      <td>0</td>\n",
       "      <td>0</td>\n",
       "      <td>1</td>\n",
       "      <td>0</td>\n",
       "    </tr>\n",
       "    <tr>\n",
       "      <th>1</th>\n",
       "      <td>0</td>\n",
       "      <td>0</td>\n",
       "      <td>1</td>\n",
       "      <td>0</td>\n",
       "    </tr>\n",
       "    <tr>\n",
       "      <th>2</th>\n",
       "      <td>0</td>\n",
       "      <td>1</td>\n",
       "      <td>0</td>\n",
       "      <td>0</td>\n",
       "    </tr>\n",
       "    <tr>\n",
       "      <th>3</th>\n",
       "      <td>0</td>\n",
       "      <td>1</td>\n",
       "      <td>0</td>\n",
       "      <td>0</td>\n",
       "    </tr>\n",
       "    <tr>\n",
       "      <th>4</th>\n",
       "      <td>1</td>\n",
       "      <td>0</td>\n",
       "      <td>0</td>\n",
       "      <td>0</td>\n",
       "    </tr>\n",
       "  </tbody>\n",
       "</table>\n",
       "</div>"
      ],
      "text/plain": [
       "   VehUsg_Private  VehUsg_Private+trip to office  VehUsg_Professional  \\\n",
       "0               0                              0                    1   \n",
       "1               0                              0                    1   \n",
       "2               0                              1                    0   \n",
       "3               0                              1                    0   \n",
       "4               1                              0                    0   \n",
       "\n",
       "   VehUsg_Professional run  \n",
       "0                        0  \n",
       "1                        0  \n",
       "2                        0  \n",
       "3                        0  \n",
       "4                        0  "
      ]
     },
     "execution_count": 10,
     "metadata": {},
     "output_type": "execute_result"
    }
   ],
   "source": [
    "VU_dummies = pd.get_dummies(df.VehUsage, prefix='VehUsg', drop_first=False)\n",
    "VU_dummies.head()"
   ]
  },
  {
   "cell_type": "markdown",
   "metadata": {
    "colab_type": "text",
    "id": "vSlx8FxWH9P2"
   },
   "source": [
    "Фактор \"SocioCateg\" содержит информацию о социальной категории в виде кодов классификации CSP. Агрегируем имеющиеся коды до 1 знака, а затем закодируем их с помощью one-hot encoding.\n",
    "\n",
    "[Wiki](https://fr.wikipedia.org/wiki/Professions_et_cat%C3%A9gories_socioprofessionnelles_en_France#Cr%C3%A9ation_de_la_nomenclature_des_PCS)\n",
    "\n",
    "[Более подробный классификатор](https://www.ast74.fr/upload/administratif/liste-des-codes-csp-copie.pdf)"
   ]
  },
  {
   "cell_type": "code",
   "execution_count": 11,
   "metadata": {
    "colab": {
     "base_uri": "https://localhost:8080/",
     "height": 136
    },
    "colab_type": "code",
    "executionInfo": {
     "elapsed": 3828,
     "status": "ok",
     "timestamp": 1581008058394,
     "user": {
      "displayName": "Aleksandr Shchegolev",
      "photoUrl": "",
      "userId": "00652555022685556919"
     },
     "user_tz": -180
    },
    "id": "o-JmQOrFLjt1",
    "outputId": "a930641c-36da-46ca-a1f8-af633c9238c4"
   },
   "outputs": [
    {
     "data": {
      "text/plain": [
       "array(['CSP50', 'CSP55', 'CSP60', 'CSP48', 'CSP6', 'CSP66', 'CSP1',\n",
       "       'CSP46', 'CSP21', 'CSP47', 'CSP42', 'CSP37', 'CSP22', 'CSP3',\n",
       "       'CSP49', 'CSP20', 'CSP2', 'CSP40', 'CSP7', 'CSP26', 'CSP65',\n",
       "       'CSP41', 'CSP17', 'CSP57', 'CSP56', 'CSP38', 'CSP51', 'CSP59',\n",
       "       'CSP30', 'CSP44', 'CSP61', 'CSP63', 'CSP45', 'CSP16', 'CSP43',\n",
       "       'CSP39', 'CSP5', 'CSP32', 'CSP35', 'CSP73', 'CSP62', 'CSP52',\n",
       "       'CSP27', 'CSP24', 'CSP19', 'CSP70'], dtype=object)"
      ]
     },
     "execution_count": 11,
     "metadata": {},
     "output_type": "execute_result"
    }
   ],
   "source": [
    "df['SocioCateg'].unique()"
   ]
  },
  {
   "cell_type": "code",
   "execution_count": 12,
   "metadata": {
    "colab": {},
    "colab_type": "code",
    "id": "6knnpiia1a-D"
   },
   "outputs": [],
   "source": [
    "df['SocioCateg'] = df.SocioCateg.str.slice(0,4)"
   ]
  },
  {
   "cell_type": "code",
   "execution_count": 13,
   "metadata": {
    "colab": {
     "base_uri": "https://localhost:8080/",
     "height": 266
    },
    "colab_type": "code",
    "executionInfo": {
     "elapsed": 3803,
     "status": "ok",
     "timestamp": 1581008058395,
     "user": {
      "displayName": "Aleksandr Shchegolev",
      "photoUrl": "",
      "userId": "00652555022685556919"
     },
     "user_tz": -180
    },
    "id": "Xa8XgQB306yD",
    "outputId": "00c7ffd0-6b5e-4460-e046-105cd2820d3d"
   },
   "outputs": [
    {
     "data": {
      "text/html": [
       "<div>\n",
       "<style scoped>\n",
       "    .dataframe tbody tr th:only-of-type {\n",
       "        vertical-align: middle;\n",
       "    }\n",
       "\n",
       "    .dataframe tbody tr th {\n",
       "        vertical-align: top;\n",
       "    }\n",
       "\n",
       "    .dataframe thead th {\n",
       "        text-align: right;\n",
       "    }\n",
       "</style>\n",
       "<table border=\"1\" class=\"dataframe\">\n",
       "  <thead>\n",
       "    <tr style=\"text-align: right;\">\n",
       "      <th></th>\n",
       "      <th>Frequency</th>\n",
       "    </tr>\n",
       "  </thead>\n",
       "  <tbody>\n",
       "    <tr>\n",
       "      <th>CSP7</th>\n",
       "      <td>14</td>\n",
       "    </tr>\n",
       "    <tr>\n",
       "      <th>CSP3</th>\n",
       "      <td>1210</td>\n",
       "    </tr>\n",
       "    <tr>\n",
       "      <th>CSP1</th>\n",
       "      <td>2740</td>\n",
       "    </tr>\n",
       "    <tr>\n",
       "      <th>CSP2</th>\n",
       "      <td>3254</td>\n",
       "    </tr>\n",
       "    <tr>\n",
       "      <th>CSP4</th>\n",
       "      <td>7648</td>\n",
       "    </tr>\n",
       "    <tr>\n",
       "      <th>CSP6</th>\n",
       "      <td>24833</td>\n",
       "    </tr>\n",
       "    <tr>\n",
       "      <th>CSP5</th>\n",
       "      <td>75456</td>\n",
       "    </tr>\n",
       "  </tbody>\n",
       "</table>\n",
       "</div>"
      ],
      "text/plain": [
       "      Frequency\n",
       "CSP7         14\n",
       "CSP3       1210\n",
       "CSP1       2740\n",
       "CSP2       3254\n",
       "CSP4       7648\n",
       "CSP6      24833\n",
       "CSP5      75456"
      ]
     },
     "execution_count": 13,
     "metadata": {},
     "output_type": "execute_result"
    }
   ],
   "source": [
    "pd.DataFrame(df.SocioCateg.value_counts().sort_values()).rename({'SocioCateg': 'Frequency'}, axis=1)"
   ]
  },
  {
   "cell_type": "code",
   "execution_count": 14,
   "metadata": {
    "colab": {},
    "colab_type": "code",
    "id": "zPfpFjNiKHtj"
   },
   "outputs": [],
   "source": [
    "df = pd.get_dummies(df, columns=['VehUsage','SocioCateg'])"
   ]
  },
  {
   "cell_type": "markdown",
   "metadata": {
    "colab_type": "text",
    "id": "xuMe7c-wKT3H"
   },
   "source": [
    "Теперь, когда большинство переменных типа `object` обработаны, исключим их из набора данных за ненадобностью."
   ]
  },
  {
   "cell_type": "code",
   "execution_count": 15,
   "metadata": {
    "colab": {},
    "colab_type": "code",
    "id": "HBbmRHUFKRql"
   },
   "outputs": [],
   "source": [
    "df = df.select_dtypes(exclude=['object'])"
   ]
  },
  {
   "cell_type": "markdown",
   "metadata": {
    "colab_type": "text",
    "id": "SYrDMnrEAFwG"
   },
   "source": [
    "Также создадим такую переменную, как квадрат возраста."
   ]
  },
  {
   "cell_type": "code",
   "execution_count": 16,
   "metadata": {
    "colab": {
     "base_uri": "https://localhost:8080/",
     "height": 241
    },
    "colab_type": "code",
    "executionInfo": {
     "elapsed": 4232,
     "status": "ok",
     "timestamp": 1581008058852,
     "user": {
      "displayName": "Aleksandr Shchegolev",
      "photoUrl": "",
      "userId": "00652555022685556919"
     },
     "user_tz": -180
    },
    "id": "Sduuts5fAAmK",
    "outputId": "2affcb26-2aa4-444f-d755-0b69168be9f1"
   },
   "outputs": [
    {
     "data": {
      "text/html": [
       "<div>\n",
       "<style scoped>\n",
       "    .dataframe tbody tr th:only-of-type {\n",
       "        vertical-align: middle;\n",
       "    }\n",
       "\n",
       "    .dataframe tbody tr th {\n",
       "        vertical-align: top;\n",
       "    }\n",
       "\n",
       "    .dataframe thead th {\n",
       "        text-align: right;\n",
       "    }\n",
       "</style>\n",
       "<table border=\"1\" class=\"dataframe\">\n",
       "  <thead>\n",
       "    <tr style=\"text-align: right;\">\n",
       "      <th></th>\n",
       "      <th>Exposure</th>\n",
       "      <th>LicAge</th>\n",
       "      <th>Gender</th>\n",
       "      <th>MariStat</th>\n",
       "      <th>DrivAge</th>\n",
       "      <th>HasKmLimit</th>\n",
       "      <th>BonusMalus</th>\n",
       "      <th>ClaimAmount</th>\n",
       "      <th>ClaimInd</th>\n",
       "      <th>ClaimNbResp</th>\n",
       "      <th>...</th>\n",
       "      <th>VehUsage_Professional</th>\n",
       "      <th>VehUsage_Professional run</th>\n",
       "      <th>SocioCateg_CSP1</th>\n",
       "      <th>SocioCateg_CSP2</th>\n",
       "      <th>SocioCateg_CSP3</th>\n",
       "      <th>SocioCateg_CSP4</th>\n",
       "      <th>SocioCateg_CSP5</th>\n",
       "      <th>SocioCateg_CSP6</th>\n",
       "      <th>SocioCateg_CSP7</th>\n",
       "      <th>DrivAgeSq</th>\n",
       "    </tr>\n",
       "  </thead>\n",
       "  <tbody>\n",
       "    <tr>\n",
       "      <th>0</th>\n",
       "      <td>0.083</td>\n",
       "      <td>332</td>\n",
       "      <td>0</td>\n",
       "      <td>0</td>\n",
       "      <td>46</td>\n",
       "      <td>0</td>\n",
       "      <td>50</td>\n",
       "      <td>0.0</td>\n",
       "      <td>0</td>\n",
       "      <td>0.0</td>\n",
       "      <td>...</td>\n",
       "      <td>1</td>\n",
       "      <td>0</td>\n",
       "      <td>0</td>\n",
       "      <td>0</td>\n",
       "      <td>0</td>\n",
       "      <td>0</td>\n",
       "      <td>1</td>\n",
       "      <td>0</td>\n",
       "      <td>0</td>\n",
       "      <td>2116</td>\n",
       "    </tr>\n",
       "    <tr>\n",
       "      <th>1</th>\n",
       "      <td>0.916</td>\n",
       "      <td>333</td>\n",
       "      <td>0</td>\n",
       "      <td>0</td>\n",
       "      <td>46</td>\n",
       "      <td>0</td>\n",
       "      <td>50</td>\n",
       "      <td>0.0</td>\n",
       "      <td>0</td>\n",
       "      <td>0.0</td>\n",
       "      <td>...</td>\n",
       "      <td>1</td>\n",
       "      <td>0</td>\n",
       "      <td>0</td>\n",
       "      <td>0</td>\n",
       "      <td>0</td>\n",
       "      <td>0</td>\n",
       "      <td>1</td>\n",
       "      <td>0</td>\n",
       "      <td>0</td>\n",
       "      <td>2116</td>\n",
       "    </tr>\n",
       "    <tr>\n",
       "      <th>2</th>\n",
       "      <td>0.550</td>\n",
       "      <td>173</td>\n",
       "      <td>0</td>\n",
       "      <td>0</td>\n",
       "      <td>32</td>\n",
       "      <td>0</td>\n",
       "      <td>68</td>\n",
       "      <td>0.0</td>\n",
       "      <td>0</td>\n",
       "      <td>0.0</td>\n",
       "      <td>...</td>\n",
       "      <td>0</td>\n",
       "      <td>0</td>\n",
       "      <td>0</td>\n",
       "      <td>0</td>\n",
       "      <td>0</td>\n",
       "      <td>0</td>\n",
       "      <td>1</td>\n",
       "      <td>0</td>\n",
       "      <td>0</td>\n",
       "      <td>1024</td>\n",
       "    </tr>\n",
       "    <tr>\n",
       "      <th>3</th>\n",
       "      <td>0.089</td>\n",
       "      <td>364</td>\n",
       "      <td>1</td>\n",
       "      <td>0</td>\n",
       "      <td>52</td>\n",
       "      <td>0</td>\n",
       "      <td>50</td>\n",
       "      <td>0.0</td>\n",
       "      <td>0</td>\n",
       "      <td>0.0</td>\n",
       "      <td>...</td>\n",
       "      <td>0</td>\n",
       "      <td>0</td>\n",
       "      <td>0</td>\n",
       "      <td>0</td>\n",
       "      <td>0</td>\n",
       "      <td>0</td>\n",
       "      <td>1</td>\n",
       "      <td>0</td>\n",
       "      <td>0</td>\n",
       "      <td>2704</td>\n",
       "    </tr>\n",
       "    <tr>\n",
       "      <th>4</th>\n",
       "      <td>0.233</td>\n",
       "      <td>426</td>\n",
       "      <td>0</td>\n",
       "      <td>0</td>\n",
       "      <td>57</td>\n",
       "      <td>0</td>\n",
       "      <td>50</td>\n",
       "      <td>0.0</td>\n",
       "      <td>0</td>\n",
       "      <td>0.0</td>\n",
       "      <td>...</td>\n",
       "      <td>0</td>\n",
       "      <td>0</td>\n",
       "      <td>0</td>\n",
       "      <td>0</td>\n",
       "      <td>0</td>\n",
       "      <td>0</td>\n",
       "      <td>0</td>\n",
       "      <td>1</td>\n",
       "      <td>0</td>\n",
       "      <td>3249</td>\n",
       "    </tr>\n",
       "  </tbody>\n",
       "</table>\n",
       "<p>5 rows × 28 columns</p>\n",
       "</div>"
      ],
      "text/plain": [
       "   Exposure  LicAge  Gender  MariStat  DrivAge  HasKmLimit  BonusMalus  \\\n",
       "0     0.083     332       0         0       46           0          50   \n",
       "1     0.916     333       0         0       46           0          50   \n",
       "2     0.550     173       0         0       32           0          68   \n",
       "3     0.089     364       1         0       52           0          50   \n",
       "4     0.233     426       0         0       57           0          50   \n",
       "\n",
       "   ClaimAmount  ClaimInd  ClaimNbResp  ...  VehUsage_Professional  \\\n",
       "0          0.0         0          0.0  ...                      1   \n",
       "1          0.0         0          0.0  ...                      1   \n",
       "2          0.0         0          0.0  ...                      0   \n",
       "3          0.0         0          0.0  ...                      0   \n",
       "4          0.0         0          0.0  ...                      0   \n",
       "\n",
       "   VehUsage_Professional run  SocioCateg_CSP1  SocioCateg_CSP2  \\\n",
       "0                          0                0                0   \n",
       "1                          0                0                0   \n",
       "2                          0                0                0   \n",
       "3                          0                0                0   \n",
       "4                          0                0                0   \n",
       "\n",
       "   SocioCateg_CSP3  SocioCateg_CSP4  SocioCateg_CSP5  SocioCateg_CSP6  \\\n",
       "0                0                0                1                0   \n",
       "1                0                0                1                0   \n",
       "2                0                0                1                0   \n",
       "3                0                0                1                0   \n",
       "4                0                0                0                1   \n",
       "\n",
       "   SocioCateg_CSP7  DrivAgeSq  \n",
       "0                0       2116  \n",
       "1                0       2116  \n",
       "2                0       1024  \n",
       "3                0       2704  \n",
       "4                0       3249  \n",
       "\n",
       "[5 rows x 28 columns]"
      ]
     },
     "execution_count": 16,
     "metadata": {},
     "output_type": "execute_result"
    }
   ],
   "source": [
    "df['DrivAgeSq'] = df.DrivAge.apply(lambda x: x**2)\n",
    "df.head()"
   ]
  },
  {
   "cell_type": "markdown",
   "metadata": {
    "colab_type": "text",
    "id": "XE_3dSsW3J3X"
   },
   "source": [
    "Для моделирования частоты убытков сгенерируем показатель как сумму индикатора того, что убыток произошел (\"ClaimInd\") и количества заявленных убытков по различным видам ущерба за 4 предшествующих года (\"ClaimNbResp\", \"ClaimNbNonResp\", \"ClaimNbParking\", \"ClaimNbFireTheft\", \"ClaimNbWindscreen\").\n",
    "\n",
    "В случаях, если соответствующая величина убытка равняется нулю, сгенерированную частоту также обнулим."
   ]
  },
  {
   "cell_type": "code",
   "execution_count": 17,
   "metadata": {
    "colab": {},
    "colab_type": "code",
    "id": "R6rz5Oko3rbr"
   },
   "outputs": [],
   "source": [
    "df['ClaimsCount'] = df.ClaimInd + df.ClaimNbResp + df.ClaimNbNonResp + df.ClaimNbParking + df.ClaimNbFireTheft + df.ClaimNbWindscreen\n",
    "df.loc[df.ClaimAmount == 0, 'ClaimsCount'] = 0\n",
    "df.drop([\"ClaimNbResp\", \"ClaimNbNonResp\", \"ClaimNbParking\", \"ClaimNbFireTheft\", \"ClaimNbWindscreen\"], axis=1, inplace=True)"
   ]
  },
  {
   "cell_type": "code",
   "execution_count": 18,
   "metadata": {
    "colab": {
     "base_uri": "https://localhost:8080/",
     "height": 390
    },
    "colab_type": "code",
    "executionInfo": {
     "elapsed": 4675,
     "status": "ok",
     "timestamp": 1581008059318,
     "user": {
      "displayName": "Aleksandr Shchegolev",
      "photoUrl": "",
      "userId": "00652555022685556919"
     },
     "user_tz": -180
    },
    "id": "cJ5_aqnx4FcZ",
    "outputId": "bd26a961-725a-46f4-abeb-ebafcfe8edf2"
   },
   "outputs": [
    {
     "data": {
      "text/html": [
       "<div>\n",
       "<style scoped>\n",
       "    .dataframe tbody tr th:only-of-type {\n",
       "        vertical-align: middle;\n",
       "    }\n",
       "\n",
       "    .dataframe tbody tr th {\n",
       "        vertical-align: top;\n",
       "    }\n",
       "\n",
       "    .dataframe thead th {\n",
       "        text-align: right;\n",
       "    }\n",
       "</style>\n",
       "<table border=\"1\" class=\"dataframe\">\n",
       "  <thead>\n",
       "    <tr style=\"text-align: right;\">\n",
       "      <th></th>\n",
       "      <th>Policies</th>\n",
       "    </tr>\n",
       "  </thead>\n",
       "  <tbody>\n",
       "    <tr>\n",
       "      <th>0.0</th>\n",
       "      <td>104286</td>\n",
       "    </tr>\n",
       "    <tr>\n",
       "      <th>2.0</th>\n",
       "      <td>3529</td>\n",
       "    </tr>\n",
       "    <tr>\n",
       "      <th>1.0</th>\n",
       "      <td>3339</td>\n",
       "    </tr>\n",
       "    <tr>\n",
       "      <th>3.0</th>\n",
       "      <td>2310</td>\n",
       "    </tr>\n",
       "    <tr>\n",
       "      <th>4.0</th>\n",
       "      <td>1101</td>\n",
       "    </tr>\n",
       "    <tr>\n",
       "      <th>5.0</th>\n",
       "      <td>428</td>\n",
       "    </tr>\n",
       "    <tr>\n",
       "      <th>6.0</th>\n",
       "      <td>127</td>\n",
       "    </tr>\n",
       "    <tr>\n",
       "      <th>7.0</th>\n",
       "      <td>26</td>\n",
       "    </tr>\n",
       "    <tr>\n",
       "      <th>8.0</th>\n",
       "      <td>6</td>\n",
       "    </tr>\n",
       "    <tr>\n",
       "      <th>9.0</th>\n",
       "      <td>2</td>\n",
       "    </tr>\n",
       "    <tr>\n",
       "      <th>11.0</th>\n",
       "      <td>1</td>\n",
       "    </tr>\n",
       "  </tbody>\n",
       "</table>\n",
       "</div>"
      ],
      "text/plain": [
       "      Policies\n",
       "0.0     104286\n",
       "2.0       3529\n",
       "1.0       3339\n",
       "3.0       2310\n",
       "4.0       1101\n",
       "5.0        428\n",
       "6.0        127\n",
       "7.0         26\n",
       "8.0          6\n",
       "9.0          2\n",
       "11.0         1"
      ]
     },
     "execution_count": 18,
     "metadata": {},
     "output_type": "execute_result"
    }
   ],
   "source": [
    "pd.DataFrame(df.ClaimsCount.value_counts()).rename({'ClaimsCount': 'Policies'}, axis=1)"
   ]
  },
  {
   "cell_type": "code",
   "execution_count": 19,
   "metadata": {
    "colab": {
     "base_uri": "https://localhost:8080/",
     "height": 562
    },
    "colab_type": "code",
    "executionInfo": {
     "elapsed": 20314,
     "status": "ok",
     "timestamp": 1581008075050,
     "user": {
      "displayName": "Aleksandr Shchegolev",
      "photoUrl": "",
      "userId": "00652555022685556919"
     },
     "user_tz": -180
    },
    "id": "KSdsMa-agl-6",
    "outputId": "e72cd3f1-dd71-498c-8498-fcbaea625e7e",
    "scrolled": true
   },
   "outputs": [
    {
     "name": "stdout",
     "output_type": "stream",
     "text": [
      "Checking whether there is an H2O instance running at http://localhost:54321 ..... not found.\n",
      "Attempting to start a local H2O server...\n",
      "  Java Version: openjdk version \"13.0.1\" 2019-10-15; OpenJDK Runtime Environment (build 13.0.1+9); OpenJDK 64-Bit Server VM (build 13.0.1+9, mixed mode, sharing)\n",
      "  Starting server from /usr/local/anaconda3/lib/python3.7/site-packages/h2o/backend/bin/h2o.jar\n",
      "  Ice root: /var/folders/_1/v8k_p9n93ls8tlpzq5b5thsh0000gn/T/tmpx5wz_47n\n",
      "  JVM stdout: /var/folders/_1/v8k_p9n93ls8tlpzq5b5thsh0000gn/T/tmpx5wz_47n/h2o_root1_started_from_python.out\n",
      "  JVM stderr: /var/folders/_1/v8k_p9n93ls8tlpzq5b5thsh0000gn/T/tmpx5wz_47n/h2o_root1_started_from_python.err\n",
      "  Server is running at http://127.0.0.1:54321\n",
      "Connecting to H2O server at http://127.0.0.1:54321 ... successful.\n"
     ]
    },
    {
     "data": {
      "text/html": [
       "<div style=\"overflow:auto\"><table style=\"width:50%\"><tr><td>H2O cluster uptime:</td>\n",
       "<td>02 secs</td></tr>\n",
       "<tr><td>H2O cluster timezone:</td>\n",
       "<td>Europe/Moscow</td></tr>\n",
       "<tr><td>H2O data parsing timezone:</td>\n",
       "<td>UTC</td></tr>\n",
       "<tr><td>H2O cluster version:</td>\n",
       "<td>3.28.0.3</td></tr>\n",
       "<tr><td>H2O cluster version age:</td>\n",
       "<td>13 days </td></tr>\n",
       "<tr><td>H2O cluster name:</td>\n",
       "<td>H2O_from_python_root1_5o6v73</td></tr>\n",
       "<tr><td>H2O cluster total nodes:</td>\n",
       "<td>1</td></tr>\n",
       "<tr><td>H2O cluster free memory:</td>\n",
       "<td>4 Gb</td></tr>\n",
       "<tr><td>H2O cluster total cores:</td>\n",
       "<td>8</td></tr>\n",
       "<tr><td>H2O cluster allowed cores:</td>\n",
       "<td>8</td></tr>\n",
       "<tr><td>H2O cluster status:</td>\n",
       "<td>accepting new members, healthy</td></tr>\n",
       "<tr><td>H2O connection url:</td>\n",
       "<td>http://127.0.0.1:54321</td></tr>\n",
       "<tr><td>H2O connection proxy:</td>\n",
       "<td>{'http': None, 'https': None}</td></tr>\n",
       "<tr><td>H2O internal security:</td>\n",
       "<td>False</td></tr>\n",
       "<tr><td>H2O API Extensions:</td>\n",
       "<td>Amazon S3, XGBoost, Algos, AutoML, Core V3, TargetEncoder, Core V4</td></tr>\n",
       "<tr><td>Python version:</td>\n",
       "<td>3.7.6 final</td></tr></table></div>"
      ],
      "text/plain": [
       "--------------------------  ------------------------------------------------------------------\n",
       "H2O cluster uptime:         02 secs\n",
       "H2O cluster timezone:       Europe/Moscow\n",
       "H2O data parsing timezone:  UTC\n",
       "H2O cluster version:        3.28.0.3\n",
       "H2O cluster version age:    13 days\n",
       "H2O cluster name:           H2O_from_python_root1_5o6v73\n",
       "H2O cluster total nodes:    1\n",
       "H2O cluster free memory:    4 Gb\n",
       "H2O cluster total cores:    8\n",
       "H2O cluster allowed cores:  8\n",
       "H2O cluster status:         accepting new members, healthy\n",
       "H2O connection url:         http://127.0.0.1:54321\n",
       "H2O connection proxy:       {'http': None, 'https': None}\n",
       "H2O internal security:      False\n",
       "H2O API Extensions:         Amazon S3, XGBoost, Algos, AutoML, Core V3, TargetEncoder, Core V4\n",
       "Python version:             3.7.6 final\n",
       "--------------------------  ------------------------------------------------------------------"
      ]
     },
     "metadata": {},
     "output_type": "display_data"
    }
   ],
   "source": [
    "import h2o\n",
    "from h2o.estimators.glm import H2OGeneralizedLinearEstimator\n",
    "h2o.init()"
   ]
  },
  {
   "cell_type": "code",
   "execution_count": 20,
   "metadata": {},
   "outputs": [
    {
     "name": "stdout",
     "output_type": "stream",
     "text": [
      "Parse progress: |█████████████████████████████████████████████████████████| 100%\n"
     ]
    }
   ],
   "source": [
    "h2o_df = h2o.H2OFrame(df)"
   ]
  },
  {
   "cell_type": "code",
   "execution_count": 21,
   "metadata": {},
   "outputs": [],
   "source": [
    "from sklearn.model_selection import train_test_split"
   ]
  },
  {
   "cell_type": "markdown",
   "metadata": {},
   "source": [
    "## * Домашнее задание: GLM для прогнозирования наступления страхового случая"
   ]
  },
  {
   "cell_type": "code",
   "execution_count": 22,
   "metadata": {
    "colab": {},
    "colab_type": "code",
    "id": "EgD9hvYAIury"
   },
   "outputs": [],
   "source": [
    "# Разбиение датасета на train/val/test\n",
    "\n",
    "x_train_ind, x_test_ind, y_train_ind, y_test_ind = train_test_split(df.drop(['ClaimInd', 'ClaimAmount', 'ClaimsCount'], axis=1), df.ClaimInd, test_size=0.3, random_state=1)\n",
    "x_valid_ind, x_test_ind, y_valid_ind, y_test_ind = train_test_split(x_train_ind, y_train_ind, test_size=0.5, random_state=1)"
   ]
  },
  {
   "cell_type": "code",
   "execution_count": 23,
   "metadata": {
    "colab": {
     "base_uri": "https://localhost:8080/"
    },
    "colab_type": "code",
    "executionInfo": {
     "elapsed": 87289,
     "status": "ok",
     "timestamp": 1576771260224,
     "user": {
      "displayName": "Aleksandr Shchegolev",
      "photoUrl": "",
      "userId": "00652555022685556919"
     },
     "user_tz": -180
    },
    "id": "Bt_i4clofGFR",
    "outputId": "aa0a2454-a71d-4d0e-fb5b-1903137b4e18",
    "scrolled": true
   },
   "outputs": [
    {
     "name": "stdout",
     "output_type": "stream",
     "text": [
      "Parse progress: |█████████████████████████████████████████████████████████| 100%\n",
      "Parse progress: |█████████████████████████████████████████████████████████| 100%\n",
      "Parse progress: |█████████████████████████████████████████████████████████| 100%\n"
     ]
    }
   ],
   "source": [
    "# Преобразование в H2O-Frame\n",
    "\n",
    "h2o_train_ind = h2o.H2OFrame(pd.concat([x_train_ind, y_train_ind], axis=1))\n",
    "h2o_valid_ind = h2o.H2OFrame(pd.concat([x_valid_ind, y_valid_ind], axis=1))\n",
    "h2o_test_ind = h2o.H2OFrame(pd.concat([x_test_ind, y_test_ind], axis=1))"
   ]
  },
  {
   "cell_type": "code",
   "execution_count": 24,
   "metadata": {
    "colab": {
     "base_uri": "https://localhost:8080/"
    },
    "colab_type": "code",
    "executionInfo": {
     "elapsed": 87284,
     "status": "ok",
     "timestamp": 1576771260224,
     "user": {
      "displayName": "Aleksandr Shchegolev",
      "photoUrl": "",
      "userId": "00652555022685556919"
     },
     "user_tz": -180
    },
    "id": "5ETBVckIjIRC",
    "outputId": "323cda4d-7a22-4c17-a4bf-6dc878bb9c37"
   },
   "outputs": [],
   "source": [
    "# Преобразуем целевую переменную ClaimInd в категориальную при помощи метода asfactor во всех наборах данных\n",
    "\n",
    "h2o_train_ind['ClaimInd'] = h2o_train_ind['ClaimInd'].asfactor()\n",
    "h2o_valid_ind['ClaimInd'] = h2o_valid_ind['ClaimInd'].asfactor()\n",
    "h2o_test_ind['ClaimInd'] = h2o_test_ind['ClaimInd'].asfactor()"
   ]
  },
  {
   "cell_type": "code",
   "execution_count": 25,
   "metadata": {
    "colab": {
     "base_uri": "https://localhost:8080/"
    },
    "colab_type": "code",
    "executionInfo": {
     "elapsed": 87275,
     "status": "ok",
     "timestamp": 1576771260225,
     "user": {
      "displayName": "Aleksandr Shchegolev",
      "photoUrl": "",
      "userId": "00652555022685556919"
     },
     "user_tz": -180
    },
    "id": "xoT7OG9ljwKY",
    "outputId": "874df7ed-3b2c-41e7-e32a-52c3f26b7df0"
   },
   "outputs": [
    {
     "name": "stdout",
     "output_type": "stream",
     "text": [
      "glm Model Build progress: |███████████████████████████████████████████████| 100%\n"
     ]
    }
   ],
   "source": [
    "# Инициализируем и обучим GLM модель c кросс-валидацией\n",
    "\n",
    "glm_binomial = H2OGeneralizedLinearEstimator(family = \"binomial\", nfolds=5)\n",
    "glm_binomial.train(y=\"ClaimInd\", x = h2o_train_ind.names[1:-1], training_frame = h2o_train_ind, validation_frame = h2o_valid_ind)"
   ]
  },
  {
   "cell_type": "code",
   "execution_count": 26,
   "metadata": {
    "colab": {
     "base_uri": "https://localhost:8080/"
    },
    "colab_type": "code",
    "executionInfo": {
     "elapsed": 87269,
     "status": "ok",
     "timestamp": 1576771260225,
     "user": {
      "displayName": "Aleksandr Shchegolev",
      "photoUrl": "",
      "userId": "00652555022685556919"
     },
     "user_tz": -180
    },
    "id": "WXbmbcSDoOXs",
    "outputId": "f0b1bda6-3cc3-4fa3-99b6-b7d03e1b7480"
   },
   "outputs": [
    {
     "name": "stdout",
     "output_type": "stream",
     "text": [
      "\n",
      "GLM Model: summary\n"
     ]
    },
    {
     "data": {
      "text/html": [
       "<div>\n",
       "<style scoped>\n",
       "    .dataframe tbody tr th:only-of-type {\n",
       "        vertical-align: middle;\n",
       "    }\n",
       "\n",
       "    .dataframe tbody tr th {\n",
       "        vertical-align: top;\n",
       "    }\n",
       "\n",
       "    .dataframe thead th {\n",
       "        text-align: right;\n",
       "    }\n",
       "</style>\n",
       "<table border=\"1\" class=\"dataframe\">\n",
       "  <thead>\n",
       "    <tr style=\"text-align: right;\">\n",
       "      <th></th>\n",
       "      <th></th>\n",
       "      <th>family</th>\n",
       "      <th>link</th>\n",
       "      <th>regularization</th>\n",
       "      <th>number_of_predictors_total</th>\n",
       "      <th>number_of_active_predictors</th>\n",
       "      <th>number_of_iterations</th>\n",
       "      <th>training_frame</th>\n",
       "    </tr>\n",
       "  </thead>\n",
       "  <tbody>\n",
       "    <tr>\n",
       "      <th>0</th>\n",
       "      <td></td>\n",
       "      <td>binomial</td>\n",
       "      <td>logit</td>\n",
       "      <td>Elastic Net (alpha = 0.5, lambda = 2.368E-5 )</td>\n",
       "      <td>20</td>\n",
       "      <td>20</td>\n",
       "      <td>3</td>\n",
       "      <td>py_1_sid_bda7</td>\n",
       "    </tr>\n",
       "  </tbody>\n",
       "</table>\n",
       "</div>"
      ],
      "text/plain": [
       "       family   link                                 regularization  \\\n",
       "0    binomial  logit  Elastic Net (alpha = 0.5, lambda = 2.368E-5 )   \n",
       "\n",
       "   number_of_predictors_total number_of_active_predictors  \\\n",
       "0                          20                          20   \n",
       "\n",
       "   number_of_iterations training_frame  \n",
       "0                     3  py_1_sid_bda7  "
      ]
     },
     "metadata": {},
     "output_type": "display_data"
    },
    {
     "data": {
      "text/plain": []
     },
     "execution_count": 26,
     "metadata": {},
     "output_type": "execute_result"
    }
   ],
   "source": [
    "# Параметры модели: распределение, функция связи, гиперпараметры регуляризации, количество использованных объясняющих переменных\n",
    "\n",
    "glm_binomial.summary()"
   ]
  },
  {
   "cell_type": "code",
   "execution_count": 27,
   "metadata": {
    "colab": {
     "base_uri": "https://localhost:8080/"
    },
    "colab_type": "code",
    "executionInfo": {
     "elapsed": 87264,
     "status": "ok",
     "timestamp": 1576771260225,
     "user": {
      "displayName": "Aleksandr Shchegolev",
      "photoUrl": "",
      "userId": "00652555022685556919"
     },
     "user_tz": -180
    },
    "id": "mUvoWpAkoRir",
    "outputId": "9cfa94ff-b9db-4a0f-8c16-405c962168ae"
   },
   "outputs": [
    {
     "data": {
      "text/html": [
       "<div>\n",
       "<style scoped>\n",
       "    .dataframe tbody tr th:only-of-type {\n",
       "        vertical-align: middle;\n",
       "    }\n",
       "\n",
       "    .dataframe tbody tr th {\n",
       "        vertical-align: top;\n",
       "    }\n",
       "\n",
       "    .dataframe thead th {\n",
       "        text-align: right;\n",
       "    }\n",
       "</style>\n",
       "<table border=\"1\" class=\"dataframe\">\n",
       "  <thead>\n",
       "    <tr style=\"text-align: right;\">\n",
       "      <th></th>\n",
       "      <th></th>\n",
       "      <th>mean</th>\n",
       "      <th>sd</th>\n",
       "      <th>cv_1_valid</th>\n",
       "      <th>cv_2_valid</th>\n",
       "      <th>cv_3_valid</th>\n",
       "      <th>cv_4_valid</th>\n",
       "      <th>cv_5_valid</th>\n",
       "    </tr>\n",
       "  </thead>\n",
       "  <tbody>\n",
       "    <tr>\n",
       "      <th>0</th>\n",
       "      <td>accuracy</td>\n",
       "      <td>0.4989949</td>\n",
       "      <td>0.097696476</td>\n",
       "      <td>0.5488712</td>\n",
       "      <td>0.3687558</td>\n",
       "      <td>0.45590153</td>\n",
       "      <td>0.6287332</td>\n",
       "      <td>0.49271262</td>\n",
       "    </tr>\n",
       "    <tr>\n",
       "      <th>1</th>\n",
       "      <td>auc</td>\n",
       "      <td>0.5636197</td>\n",
       "      <td>0.006893701</td>\n",
       "      <td>0.56173456</td>\n",
       "      <td>0.55975866</td>\n",
       "      <td>0.5575829</td>\n",
       "      <td>0.5752457</td>\n",
       "      <td>0.56377655</td>\n",
       "    </tr>\n",
       "    <tr>\n",
       "      <th>2</th>\n",
       "      <td>aucpr</td>\n",
       "      <td>0.11421678</td>\n",
       "      <td>0.0021531337</td>\n",
       "      <td>0.11185258</td>\n",
       "      <td>0.11325577</td>\n",
       "      <td>0.11505778</td>\n",
       "      <td>0.11748842</td>\n",
       "      <td>0.113429345</td>\n",
       "    </tr>\n",
       "    <tr>\n",
       "      <th>3</th>\n",
       "      <td>err</td>\n",
       "      <td>0.5010051</td>\n",
       "      <td>0.097696476</td>\n",
       "      <td>0.45112875</td>\n",
       "      <td>0.6312442</td>\n",
       "      <td>0.54409844</td>\n",
       "      <td>0.3712668</td>\n",
       "      <td>0.5072874</td>\n",
       "    </tr>\n",
       "    <tr>\n",
       "      <th>4</th>\n",
       "      <td>err_count</td>\n",
       "      <td>8081.4</td>\n",
       "      <td>1603.9016</td>\n",
       "      <td>7214.0</td>\n",
       "      <td>10223.0</td>\n",
       "      <td>8754.0</td>\n",
       "      <td>5967.0</td>\n",
       "      <td>8249.0</td>\n",
       "    </tr>\n",
       "    <tr>\n",
       "      <th>5</th>\n",
       "      <td>f0point5</td>\n",
       "      <td>0.1330819</td>\n",
       "      <td>0.003528048</td>\n",
       "      <td>0.13250056</td>\n",
       "      <td>0.12905629</td>\n",
       "      <td>0.13078707</td>\n",
       "      <td>0.13797529</td>\n",
       "      <td>0.13509025</td>\n",
       "    </tr>\n",
       "    <tr>\n",
       "      <th>6</th>\n",
       "      <td>f1</td>\n",
       "      <td>0.18760657</td>\n",
       "      <td>0.0022391086</td>\n",
       "      <td>0.18541102</td>\n",
       "      <td>0.18729629</td>\n",
       "      <td>0.18658242</td>\n",
       "      <td>0.18738934</td>\n",
       "      <td>0.19135378</td>\n",
       "    </tr>\n",
       "    <tr>\n",
       "      <th>7</th>\n",
       "      <td>f2</td>\n",
       "      <td>0.319057</td>\n",
       "      <td>0.019092575</td>\n",
       "      <td>0.30866984</td>\n",
       "      <td>0.34133056</td>\n",
       "      <td>0.3254035</td>\n",
       "      <td>0.29194602</td>\n",
       "      <td>0.32793495</td>\n",
       "    </tr>\n",
       "    <tr>\n",
       "      <th>8</th>\n",
       "      <td>lift_top_group</td>\n",
       "      <td>1.4048964</td>\n",
       "      <td>0.2556131</td>\n",
       "      <td>1.5521312</td>\n",
       "      <td>1.090106</td>\n",
       "      <td>1.3495597</td>\n",
       "      <td>1.7537016</td>\n",
       "      <td>1.2789838</td>\n",
       "    </tr>\n",
       "    <tr>\n",
       "      <th>9</th>\n",
       "      <td>logloss</td>\n",
       "      <td>0.31119063</td>\n",
       "      <td>0.005265177</td>\n",
       "      <td>0.30661613</td>\n",
       "      <td>0.3148433</td>\n",
       "      <td>0.31579804</td>\n",
       "      <td>0.3044183</td>\n",
       "      <td>0.31427735</td>\n",
       "    </tr>\n",
       "    <tr>\n",
       "      <th>10</th>\n",
       "      <td>max_per_class_error</td>\n",
       "      <td>0.5490138</td>\n",
       "      <td>0.08046949</td>\n",
       "      <td>0.4516885</td>\n",
       "      <td>0.6724515</td>\n",
       "      <td>0.56440073</td>\n",
       "      <td>0.53513515</td>\n",
       "      <td>0.5213931</td>\n",
       "    </tr>\n",
       "    <tr>\n",
       "      <th>11</th>\n",
       "      <td>mcc</td>\n",
       "      <td>0.05771322</td>\n",
       "      <td>0.007089547</td>\n",
       "      <td>0.059704475</td>\n",
       "      <td>0.052602746</td>\n",
       "      <td>0.048529956</td>\n",
       "      <td>0.066205055</td>\n",
       "      <td>0.061523873</td>\n",
       "    </tr>\n",
       "    <tr>\n",
       "      <th>12</th>\n",
       "      <td>mean_per_class_accuracy</td>\n",
       "      <td>0.54815525</td>\n",
       "      <td>0.006596908</td>\n",
       "      <td>0.5513333</td>\n",
       "      <td>0.54158056</td>\n",
       "      <td>0.5406292</td>\n",
       "      <td>0.55510926</td>\n",
       "      <td>0.55212396</td>\n",
       "    </tr>\n",
       "    <tr>\n",
       "      <th>13</th>\n",
       "      <td>mean_per_class_error</td>\n",
       "      <td>0.45184475</td>\n",
       "      <td>0.006596908</td>\n",
       "      <td>0.44866666</td>\n",
       "      <td>0.45841947</td>\n",
       "      <td>0.45937076</td>\n",
       "      <td>0.44489077</td>\n",
       "      <td>0.44787604</td>\n",
       "    </tr>\n",
       "    <tr>\n",
       "      <th>14</th>\n",
       "      <td>mse</td>\n",
       "      <td>0.08538778</td>\n",
       "      <td>0.0018254998</td>\n",
       "      <td>0.08371823</td>\n",
       "      <td>0.086692184</td>\n",
       "      <td>0.08699267</td>\n",
       "      <td>0.08311008</td>\n",
       "      <td>0.08642573</td>\n",
       "    </tr>\n",
       "    <tr>\n",
       "      <th>15</th>\n",
       "      <td>null_deviance</td>\n",
       "      <td>10102.804</td>\n",
       "      <td>208.8834</td>\n",
       "      <td>9869.195</td>\n",
       "      <td>10261.739</td>\n",
       "      <td>10222.723</td>\n",
       "      <td>9881.068</td>\n",
       "      <td>10279.293</td>\n",
       "    </tr>\n",
       "    <tr>\n",
       "      <th>16</th>\n",
       "      <td>pr_auc</td>\n",
       "      <td>0.11421678</td>\n",
       "      <td>0.0021531337</td>\n",
       "      <td>0.11185258</td>\n",
       "      <td>0.11325577</td>\n",
       "      <td>0.11505778</td>\n",
       "      <td>0.11748842</td>\n",
       "      <td>0.113429345</td>\n",
       "    </tr>\n",
       "    <tr>\n",
       "      <th>17</th>\n",
       "      <td>precision</td>\n",
       "      <td>0.1115124</td>\n",
       "      <td>0.003984855</td>\n",
       "      <td>0.11132203</td>\n",
       "      <td>0.10689655</td>\n",
       "      <td>0.109047465</td>\n",
       "      <td>0.11734607</td>\n",
       "      <td>0.11294989</td>\n",
       "    </tr>\n",
       "    <tr>\n",
       "      <th>18</th>\n",
       "      <td>r2</td>\n",
       "      <td>0.0040757917</td>\n",
       "      <td>0.0010426521</td>\n",
       "      <td>0.0037947728</td>\n",
       "      <td>0.0035091212</td>\n",
       "      <td>0.0036194515</td>\n",
       "      <td>0.0059298696</td>\n",
       "      <td>0.0035257426</td>\n",
       "    </tr>\n",
       "    <tr>\n",
       "      <th>19</th>\n",
       "      <td>recall</td>\n",
       "      <td>0.6092266</td>\n",
       "      <td>0.10825526</td>\n",
       "      <td>0.55435514</td>\n",
       "      <td>0.75561255</td>\n",
       "      <td>0.64565915</td>\n",
       "      <td>0.46486485</td>\n",
       "      <td>0.62564105</td>\n",
       "    </tr>\n",
       "    <tr>\n",
       "      <th>20</th>\n",
       "      <td>residual_deviance</td>\n",
       "      <td>10034.374</td>\n",
       "      <td>219.01363</td>\n",
       "      <td>9806.197</td>\n",
       "      <td>10197.774</td>\n",
       "      <td>10161.749</td>\n",
       "      <td>9785.222</td>\n",
       "      <td>10220.928</td>\n",
       "    </tr>\n",
       "    <tr>\n",
       "      <th>21</th>\n",
       "      <td>rmse</td>\n",
       "      <td>0.29219848</td>\n",
       "      <td>0.0031299512</td>\n",
       "      <td>0.28934103</td>\n",
       "      <td>0.29443535</td>\n",
       "      <td>0.2949452</td>\n",
       "      <td>0.2882882</td>\n",
       "      <td>0.29398254</td>\n",
       "    </tr>\n",
       "    <tr>\n",
       "      <th>22</th>\n",
       "      <td>specificity</td>\n",
       "      <td>0.48708397</td>\n",
       "      <td>0.11934424</td>\n",
       "      <td>0.54831153</td>\n",
       "      <td>0.3275485</td>\n",
       "      <td>0.4355993</td>\n",
       "      <td>0.6453536</td>\n",
       "      <td>0.4786069</td>\n",
       "    </tr>\n",
       "  </tbody>\n",
       "</table>\n",
       "</div>"
      ],
      "text/plain": [
       "                                     mean            sd    cv_1_valid  \\\n",
       "0                  accuracy     0.4989949   0.097696476     0.5488712   \n",
       "1                       auc     0.5636197   0.006893701    0.56173456   \n",
       "2                     aucpr    0.11421678  0.0021531337    0.11185258   \n",
       "3                       err     0.5010051   0.097696476    0.45112875   \n",
       "4                 err_count        8081.4     1603.9016        7214.0   \n",
       "5                  f0point5     0.1330819   0.003528048    0.13250056   \n",
       "6                        f1    0.18760657  0.0022391086    0.18541102   \n",
       "7                        f2      0.319057   0.019092575    0.30866984   \n",
       "8            lift_top_group     1.4048964     0.2556131     1.5521312   \n",
       "9                   logloss    0.31119063   0.005265177    0.30661613   \n",
       "10      max_per_class_error     0.5490138    0.08046949     0.4516885   \n",
       "11                      mcc    0.05771322   0.007089547   0.059704475   \n",
       "12  mean_per_class_accuracy    0.54815525   0.006596908     0.5513333   \n",
       "13     mean_per_class_error    0.45184475   0.006596908    0.44866666   \n",
       "14                      mse    0.08538778  0.0018254998    0.08371823   \n",
       "15            null_deviance     10102.804      208.8834      9869.195   \n",
       "16                   pr_auc    0.11421678  0.0021531337    0.11185258   \n",
       "17                precision     0.1115124   0.003984855    0.11132203   \n",
       "18                       r2  0.0040757917  0.0010426521  0.0037947728   \n",
       "19                   recall     0.6092266    0.10825526    0.55435514   \n",
       "20        residual_deviance     10034.374     219.01363      9806.197   \n",
       "21                     rmse    0.29219848  0.0031299512    0.28934103   \n",
       "22              specificity    0.48708397    0.11934424    0.54831153   \n",
       "\n",
       "      cv_2_valid    cv_3_valid    cv_4_valid    cv_5_valid  \n",
       "0      0.3687558    0.45590153     0.6287332    0.49271262  \n",
       "1     0.55975866     0.5575829     0.5752457    0.56377655  \n",
       "2     0.11325577    0.11505778    0.11748842   0.113429345  \n",
       "3      0.6312442    0.54409844     0.3712668     0.5072874  \n",
       "4        10223.0        8754.0        5967.0        8249.0  \n",
       "5     0.12905629    0.13078707    0.13797529    0.13509025  \n",
       "6     0.18729629    0.18658242    0.18738934    0.19135378  \n",
       "7     0.34133056     0.3254035    0.29194602    0.32793495  \n",
       "8       1.090106     1.3495597     1.7537016     1.2789838  \n",
       "9      0.3148433    0.31579804     0.3044183    0.31427735  \n",
       "10     0.6724515    0.56440073    0.53513515     0.5213931  \n",
       "11   0.052602746   0.048529956   0.066205055   0.061523873  \n",
       "12    0.54158056     0.5406292    0.55510926    0.55212396  \n",
       "13    0.45841947    0.45937076    0.44489077    0.44787604  \n",
       "14   0.086692184    0.08699267    0.08311008    0.08642573  \n",
       "15     10261.739     10222.723      9881.068     10279.293  \n",
       "16    0.11325577    0.11505778    0.11748842   0.113429345  \n",
       "17    0.10689655   0.109047465    0.11734607    0.11294989  \n",
       "18  0.0035091212  0.0036194515  0.0059298696  0.0035257426  \n",
       "19    0.75561255    0.64565915    0.46486485    0.62564105  \n",
       "20     10197.774     10161.749      9785.222     10220.928  \n",
       "21    0.29443535     0.2949452     0.2882882    0.29398254  \n",
       "22     0.3275485     0.4355993     0.6453536     0.4786069  "
      ]
     },
     "execution_count": 27,
     "metadata": {},
     "output_type": "execute_result"
    }
   ],
   "source": [
    "# Метрики качества модели - по всем данным и на кросс-валидации\n",
    "\n",
    "glm_binomial.cross_validation_metrics_summary().as_data_frame()"
   ]
  },
  {
   "cell_type": "code",
   "execution_count": 28,
   "metadata": {
    "colab": {
     "base_uri": "https://localhost:8080/"
    },
    "colab_type": "code",
    "executionInfo": {
     "elapsed": 87259,
     "status": "ok",
     "timestamp": 1576771260226,
     "user": {
      "displayName": "Aleksandr Shchegolev",
      "photoUrl": "",
      "userId": "00652555022685556919"
     },
     "user_tz": -180
    },
    "id": "D8USRdSmoYy_",
    "outputId": "596810a0-a21f-4a78-e8d1-e660c98e2ea9"
   },
   "outputs": [
    {
     "data": {
      "text/html": [
       "<div>\n",
       "<style scoped>\n",
       "    .dataframe tbody tr th:only-of-type {\n",
       "        vertical-align: middle;\n",
       "    }\n",
       "\n",
       "    .dataframe tbody tr th {\n",
       "        vertical-align: top;\n",
       "    }\n",
       "\n",
       "    .dataframe thead th {\n",
       "        text-align: right;\n",
       "    }\n",
       "</style>\n",
       "<table border=\"1\" class=\"dataframe\">\n",
       "  <thead>\n",
       "    <tr style=\"text-align: right;\">\n",
       "      <th></th>\n",
       "      <th>names</th>\n",
       "      <th>coefficients</th>\n",
       "      <th>standardized_coefficients</th>\n",
       "    </tr>\n",
       "  </thead>\n",
       "  <tbody>\n",
       "    <tr>\n",
       "      <th>0</th>\n",
       "      <td>Intercept</td>\n",
       "      <td>-2.534238</td>\n",
       "      <td>-2.279643</td>\n",
       "    </tr>\n",
       "    <tr>\n",
       "      <th>1</th>\n",
       "      <td>LicAge</td>\n",
       "      <td>-0.000312</td>\n",
       "      <td>-0.049906</td>\n",
       "    </tr>\n",
       "    <tr>\n",
       "      <th>2</th>\n",
       "      <td>Gender</td>\n",
       "      <td>0.010311</td>\n",
       "      <td>0.004998</td>\n",
       "    </tr>\n",
       "    <tr>\n",
       "      <th>3</th>\n",
       "      <td>MariStat</td>\n",
       "      <td>-0.066143</td>\n",
       "      <td>-0.023827</td>\n",
       "    </tr>\n",
       "    <tr>\n",
       "      <th>4</th>\n",
       "      <td>DrivAge</td>\n",
       "      <td>-0.001085</td>\n",
       "      <td>-0.016265</td>\n",
       "    </tr>\n",
       "    <tr>\n",
       "      <th>5</th>\n",
       "      <td>HasKmLimit</td>\n",
       "      <td>-0.366059</td>\n",
       "      <td>-0.114316</td>\n",
       "    </tr>\n",
       "    <tr>\n",
       "      <th>6</th>\n",
       "      <td>BonusMalus</td>\n",
       "      <td>0.006341</td>\n",
       "      <td>0.097335</td>\n",
       "    </tr>\n",
       "    <tr>\n",
       "      <th>7</th>\n",
       "      <td>OutUseNb</td>\n",
       "      <td>0.061289</td>\n",
       "      <td>0.042639</td>\n",
       "    </tr>\n",
       "    <tr>\n",
       "      <th>8</th>\n",
       "      <td>RiskArea</td>\n",
       "      <td>0.009015</td>\n",
       "      <td>0.019975</td>\n",
       "    </tr>\n",
       "    <tr>\n",
       "      <th>9</th>\n",
       "      <td>VehUsage_Private</td>\n",
       "      <td>-0.146273</td>\n",
       "      <td>-0.069170</td>\n",
       "    </tr>\n",
       "    <tr>\n",
       "      <th>10</th>\n",
       "      <td>VehUsage_Private+trip to office</td>\n",
       "      <td>-0.020743</td>\n",
       "      <td>-0.010364</td>\n",
       "    </tr>\n",
       "    <tr>\n",
       "      <th>11</th>\n",
       "      <td>VehUsage_Professional</td>\n",
       "      <td>0.226068</td>\n",
       "      <td>0.074715</td>\n",
       "    </tr>\n",
       "    <tr>\n",
       "      <th>12</th>\n",
       "      <td>VehUsage_Professional run</td>\n",
       "      <td>0.296197</td>\n",
       "      <td>0.039739</td>\n",
       "    </tr>\n",
       "    <tr>\n",
       "      <th>13</th>\n",
       "      <td>SocioCateg_CSP1</td>\n",
       "      <td>-0.090657</td>\n",
       "      <td>-0.013736</td>\n",
       "    </tr>\n",
       "    <tr>\n",
       "      <th>14</th>\n",
       "      <td>SocioCateg_CSP2</td>\n",
       "      <td>-0.138184</td>\n",
       "      <td>-0.023021</td>\n",
       "    </tr>\n",
       "    <tr>\n",
       "      <th>15</th>\n",
       "      <td>SocioCateg_CSP3</td>\n",
       "      <td>0.126034</td>\n",
       "      <td>0.013074</td>\n",
       "    </tr>\n",
       "    <tr>\n",
       "      <th>16</th>\n",
       "      <td>SocioCateg_CSP4</td>\n",
       "      <td>0.042206</td>\n",
       "      <td>0.010554</td>\n",
       "    </tr>\n",
       "    <tr>\n",
       "      <th>17</th>\n",
       "      <td>SocioCateg_CSP5</td>\n",
       "      <td>-0.016242</td>\n",
       "      <td>-0.007721</td>\n",
       "    </tr>\n",
       "    <tr>\n",
       "      <th>18</th>\n",
       "      <td>SocioCateg_CSP6</td>\n",
       "      <td>0.059170</td>\n",
       "      <td>0.024302</td>\n",
       "    </tr>\n",
       "    <tr>\n",
       "      <th>19</th>\n",
       "      <td>SocioCateg_CSP7</td>\n",
       "      <td>-0.178004</td>\n",
       "      <td>-0.001881</td>\n",
       "    </tr>\n",
       "    <tr>\n",
       "      <th>20</th>\n",
       "      <td>DrivAgeSq</td>\n",
       "      <td>0.000008</td>\n",
       "      <td>0.012084</td>\n",
       "    </tr>\n",
       "  </tbody>\n",
       "</table>\n",
       "</div>"
      ],
      "text/plain": [
       "                              names  coefficients  standardized_coefficients\n",
       "0                         Intercept     -2.534238                  -2.279643\n",
       "1                            LicAge     -0.000312                  -0.049906\n",
       "2                            Gender      0.010311                   0.004998\n",
       "3                          MariStat     -0.066143                  -0.023827\n",
       "4                           DrivAge     -0.001085                  -0.016265\n",
       "5                        HasKmLimit     -0.366059                  -0.114316\n",
       "6                        BonusMalus      0.006341                   0.097335\n",
       "7                          OutUseNb      0.061289                   0.042639\n",
       "8                          RiskArea      0.009015                   0.019975\n",
       "9                  VehUsage_Private     -0.146273                  -0.069170\n",
       "10  VehUsage_Private+trip to office     -0.020743                  -0.010364\n",
       "11            VehUsage_Professional      0.226068                   0.074715\n",
       "12        VehUsage_Professional run      0.296197                   0.039739\n",
       "13                  SocioCateg_CSP1     -0.090657                  -0.013736\n",
       "14                  SocioCateg_CSP2     -0.138184                  -0.023021\n",
       "15                  SocioCateg_CSP3      0.126034                   0.013074\n",
       "16                  SocioCateg_CSP4      0.042206                   0.010554\n",
       "17                  SocioCateg_CSP5     -0.016242                  -0.007721\n",
       "18                  SocioCateg_CSP6      0.059170                   0.024302\n",
       "19                  SocioCateg_CSP7     -0.178004                  -0.001881\n",
       "20                        DrivAgeSq      0.000008                   0.012084"
      ]
     },
     "execution_count": 28,
     "metadata": {},
     "output_type": "execute_result"
    }
   ],
   "source": [
    "# Таблица коэффициентов модели (в зависимости от модели могут выводиться также стандартная ошибка, z-score и p-value)\n",
    "\n",
    "glm_binomial._model_json['output']['coefficients_table'].as_data_frame()"
   ]
  },
  {
   "cell_type": "code",
   "execution_count": 29,
   "metadata": {
    "colab": {
     "base_uri": "https://localhost:8080/"
    },
    "colab_type": "code",
    "executionInfo": {
     "elapsed": 87254,
     "status": "ok",
     "timestamp": 1576771260226,
     "user": {
      "displayName": "Aleksandr Shchegolev",
      "photoUrl": "",
      "userId": "00652555022685556919"
     },
     "user_tz": -180
    },
    "id": "KZ_XqTchoiYX",
    "outputId": "a48d5223-c9f2-479e-9f36-abd09f9b3947"
   },
   "outputs": [
    {
     "data": {
      "text/html": [
       "<div>\n",
       "<style scoped>\n",
       "    .dataframe tbody tr th:only-of-type {\n",
       "        vertical-align: middle;\n",
       "    }\n",
       "\n",
       "    .dataframe tbody tr th {\n",
       "        vertical-align: top;\n",
       "    }\n",
       "\n",
       "    .dataframe thead th {\n",
       "        text-align: right;\n",
       "    }\n",
       "</style>\n",
       "<table border=\"1\" class=\"dataframe\">\n",
       "  <thead>\n",
       "    <tr style=\"text-align: right;\">\n",
       "      <th></th>\n",
       "      <th>overall</th>\n",
       "      <th>0</th>\n",
       "      <th>1</th>\n",
       "      <th>2</th>\n",
       "      <th>3</th>\n",
       "      <th>4</th>\n",
       "    </tr>\n",
       "  </thead>\n",
       "  <tbody>\n",
       "    <tr>\n",
       "      <th>Intercept</th>\n",
       "      <td>-2.27964</td>\n",
       "      <td>-2.27412</td>\n",
       "      <td>-2.28467</td>\n",
       "      <td>-2.28621</td>\n",
       "      <td>-2.27023</td>\n",
       "      <td>-2.28439</td>\n",
       "    </tr>\n",
       "    <tr>\n",
       "      <th>LicAge</th>\n",
       "      <td>-0.04991</td>\n",
       "      <td>-0.06056</td>\n",
       "      <td>-0.02989</td>\n",
       "      <td>-0.06488</td>\n",
       "      <td>-0.04887</td>\n",
       "      <td>-0.04591</td>\n",
       "    </tr>\n",
       "    <tr>\n",
       "      <th>Gender</th>\n",
       "      <td>0.00500</td>\n",
       "      <td>-0.00814</td>\n",
       "      <td>0.00592</td>\n",
       "      <td>0.00800</td>\n",
       "      <td>0.00641</td>\n",
       "      <td>0.01365</td>\n",
       "    </tr>\n",
       "    <tr>\n",
       "      <th>MariStat</th>\n",
       "      <td>-0.02383</td>\n",
       "      <td>-0.02894</td>\n",
       "      <td>-0.01516</td>\n",
       "      <td>-0.02738</td>\n",
       "      <td>-0.02649</td>\n",
       "      <td>-0.02192</td>\n",
       "    </tr>\n",
       "    <tr>\n",
       "      <th>DrivAge</th>\n",
       "      <td>-0.01626</td>\n",
       "      <td>-0.00039</td>\n",
       "      <td>-0.01926</td>\n",
       "      <td>0.00160</td>\n",
       "      <td>-0.04582</td>\n",
       "      <td>-0.03731</td>\n",
       "    </tr>\n",
       "    <tr>\n",
       "      <th>HasKmLimit</th>\n",
       "      <td>-0.11432</td>\n",
       "      <td>-0.11996</td>\n",
       "      <td>-0.10425</td>\n",
       "      <td>-0.11407</td>\n",
       "      <td>-0.10975</td>\n",
       "      <td>-0.12427</td>\n",
       "    </tr>\n",
       "    <tr>\n",
       "      <th>BonusMalus</th>\n",
       "      <td>0.09734</td>\n",
       "      <td>0.09806</td>\n",
       "      <td>0.10260</td>\n",
       "      <td>0.10616</td>\n",
       "      <td>0.08156</td>\n",
       "      <td>0.09762</td>\n",
       "    </tr>\n",
       "    <tr>\n",
       "      <th>OutUseNb</th>\n",
       "      <td>0.04264</td>\n",
       "      <td>0.04145</td>\n",
       "      <td>0.04063</td>\n",
       "      <td>0.04449</td>\n",
       "      <td>0.04107</td>\n",
       "      <td>0.04579</td>\n",
       "    </tr>\n",
       "    <tr>\n",
       "      <th>RiskArea</th>\n",
       "      <td>0.01997</td>\n",
       "      <td>0.02284</td>\n",
       "      <td>0.02115</td>\n",
       "      <td>0.02359</td>\n",
       "      <td>0.01745</td>\n",
       "      <td>0.01507</td>\n",
       "    </tr>\n",
       "    <tr>\n",
       "      <th>VehUsage_Private</th>\n",
       "      <td>-0.06917</td>\n",
       "      <td>-0.06312</td>\n",
       "      <td>-0.07678</td>\n",
       "      <td>-0.07634</td>\n",
       "      <td>-0.06413</td>\n",
       "      <td>-0.06078</td>\n",
       "    </tr>\n",
       "    <tr>\n",
       "      <th>VehUsage_Private+trip to office</th>\n",
       "      <td>-0.01036</td>\n",
       "      <td>-0.00801</td>\n",
       "      <td>-0.00850</td>\n",
       "      <td>-0.00459</td>\n",
       "      <td>-0.01048</td>\n",
       "      <td>-0.01333</td>\n",
       "    </tr>\n",
       "    <tr>\n",
       "      <th>VehUsage_Professional</th>\n",
       "      <td>0.07471</td>\n",
       "      <td>0.07030</td>\n",
       "      <td>0.08615</td>\n",
       "      <td>0.07070</td>\n",
       "      <td>0.07741</td>\n",
       "      <td>0.07421</td>\n",
       "    </tr>\n",
       "    <tr>\n",
       "      <th>VehUsage_Professional run</th>\n",
       "      <td>0.03974</td>\n",
       "      <td>0.02808</td>\n",
       "      <td>0.04124</td>\n",
       "      <td>0.04800</td>\n",
       "      <td>0.03937</td>\n",
       "      <td>0.04395</td>\n",
       "    </tr>\n",
       "    <tr>\n",
       "      <th>SocioCateg_CSP1</th>\n",
       "      <td>-0.01374</td>\n",
       "      <td>-0.02031</td>\n",
       "      <td>-0.00834</td>\n",
       "      <td>-0.00956</td>\n",
       "      <td>-0.00811</td>\n",
       "      <td>-0.01782</td>\n",
       "    </tr>\n",
       "    <tr>\n",
       "      <th>SocioCateg_CSP2</th>\n",
       "      <td>-0.02302</td>\n",
       "      <td>-0.01965</td>\n",
       "      <td>-0.03016</td>\n",
       "      <td>-0.01698</td>\n",
       "      <td>-0.01817</td>\n",
       "      <td>-0.02529</td>\n",
       "    </tr>\n",
       "    <tr>\n",
       "      <th>SocioCateg_CSP3</th>\n",
       "      <td>0.01307</td>\n",
       "      <td>0.00961</td>\n",
       "      <td>0.01854</td>\n",
       "      <td>0.00957</td>\n",
       "      <td>0.00719</td>\n",
       "      <td>0.02626</td>\n",
       "    </tr>\n",
       "    <tr>\n",
       "      <th>SocioCateg_CSP4</th>\n",
       "      <td>0.01055</td>\n",
       "      <td>0.02300</td>\n",
       "      <td>0.01546</td>\n",
       "      <td>0.00659</td>\n",
       "      <td>0.00729</td>\n",
       "      <td>0.00892</td>\n",
       "    </tr>\n",
       "    <tr>\n",
       "      <th>SocioCateg_CSP5</th>\n",
       "      <td>-0.00772</td>\n",
       "      <td>-0.00321</td>\n",
       "      <td>0.00000</td>\n",
       "      <td>-0.01090</td>\n",
       "      <td>-0.00695</td>\n",
       "      <td>0.00000</td>\n",
       "    </tr>\n",
       "    <tr>\n",
       "      <th>SocioCateg_CSP6</th>\n",
       "      <td>0.02430</td>\n",
       "      <td>0.02723</td>\n",
       "      <td>0.02952</td>\n",
       "      <td>0.02955</td>\n",
       "      <td>0.02580</td>\n",
       "      <td>0.02399</td>\n",
       "    </tr>\n",
       "    <tr>\n",
       "      <th>SocioCateg_CSP7</th>\n",
       "      <td>-0.00188</td>\n",
       "      <td>0.00000</td>\n",
       "      <td>0.00090</td>\n",
       "      <td>-0.00108</td>\n",
       "      <td>0.00219</td>\n",
       "      <td>-0.03278</td>\n",
       "    </tr>\n",
       "    <tr>\n",
       "      <th>DrivAgeSq</th>\n",
       "      <td>0.01208</td>\n",
       "      <td>-0.00108</td>\n",
       "      <td>0.00956</td>\n",
       "      <td>0.01429</td>\n",
       "      <td>0.03158</td>\n",
       "      <td>0.02784</td>\n",
       "    </tr>\n",
       "  </tbody>\n",
       "</table>\n",
       "</div>"
      ],
      "text/plain": [
       "                                 overall        0        1        2        3  \\\n",
       "Intercept                       -2.27964 -2.27412 -2.28467 -2.28621 -2.27023   \n",
       "LicAge                          -0.04991 -0.06056 -0.02989 -0.06488 -0.04887   \n",
       "Gender                           0.00500 -0.00814  0.00592  0.00800  0.00641   \n",
       "MariStat                        -0.02383 -0.02894 -0.01516 -0.02738 -0.02649   \n",
       "DrivAge                         -0.01626 -0.00039 -0.01926  0.00160 -0.04582   \n",
       "HasKmLimit                      -0.11432 -0.11996 -0.10425 -0.11407 -0.10975   \n",
       "BonusMalus                       0.09734  0.09806  0.10260  0.10616  0.08156   \n",
       "OutUseNb                         0.04264  0.04145  0.04063  0.04449  0.04107   \n",
       "RiskArea                         0.01997  0.02284  0.02115  0.02359  0.01745   \n",
       "VehUsage_Private                -0.06917 -0.06312 -0.07678 -0.07634 -0.06413   \n",
       "VehUsage_Private+trip to office -0.01036 -0.00801 -0.00850 -0.00459 -0.01048   \n",
       "VehUsage_Professional            0.07471  0.07030  0.08615  0.07070  0.07741   \n",
       "VehUsage_Professional run        0.03974  0.02808  0.04124  0.04800  0.03937   \n",
       "SocioCateg_CSP1                 -0.01374 -0.02031 -0.00834 -0.00956 -0.00811   \n",
       "SocioCateg_CSP2                 -0.02302 -0.01965 -0.03016 -0.01698 -0.01817   \n",
       "SocioCateg_CSP3                  0.01307  0.00961  0.01854  0.00957  0.00719   \n",
       "SocioCateg_CSP4                  0.01055  0.02300  0.01546  0.00659  0.00729   \n",
       "SocioCateg_CSP5                 -0.00772 -0.00321  0.00000 -0.01090 -0.00695   \n",
       "SocioCateg_CSP6                  0.02430  0.02723  0.02952  0.02955  0.02580   \n",
       "SocioCateg_CSP7                 -0.00188  0.00000  0.00090 -0.00108  0.00219   \n",
       "DrivAgeSq                        0.01208 -0.00108  0.00956  0.01429  0.03158   \n",
       "\n",
       "                                       4  \n",
       "Intercept                       -2.28439  \n",
       "LicAge                          -0.04591  \n",
       "Gender                           0.01365  \n",
       "MariStat                        -0.02192  \n",
       "DrivAge                         -0.03731  \n",
       "HasKmLimit                      -0.12427  \n",
       "BonusMalus                       0.09762  \n",
       "OutUseNb                         0.04579  \n",
       "RiskArea                         0.01507  \n",
       "VehUsage_Private                -0.06078  \n",
       "VehUsage_Private+trip to office -0.01333  \n",
       "VehUsage_Professional            0.07421  \n",
       "VehUsage_Professional run        0.04395  \n",
       "SocioCateg_CSP1                 -0.01782  \n",
       "SocioCateg_CSP2                 -0.02529  \n",
       "SocioCateg_CSP3                  0.02626  \n",
       "SocioCateg_CSP4                  0.00892  \n",
       "SocioCateg_CSP5                  0.00000  \n",
       "SocioCateg_CSP6                  0.02399  \n",
       "SocioCateg_CSP7                 -0.03278  \n",
       "DrivAgeSq                        0.02784  "
      ]
     },
     "execution_count": 29,
     "metadata": {},
     "output_type": "execute_result"
    }
   ],
   "source": [
    "# Таблица нормированных коэффициентов по всем данным и на кросс-валидации\n",
    "\n",
    "pmodels = {}\n",
    "pmodels['overall'] = glm_binomial.coef_norm()\n",
    "for x in range(len(glm_binomial.cross_validation_models())):\n",
    "    pmodels[x] = glm_binomial.cross_validation_models()[x].coef_norm()\n",
    "pd.DataFrame.from_dict(pmodels).round(5)"
   ]
  },
  {
   "cell_type": "code",
   "execution_count": 30,
   "metadata": {
    "colab": {
     "base_uri": "https://localhost:8080/"
    },
    "colab_type": "code",
    "executionInfo": {
     "elapsed": 87249,
     "status": "ok",
     "timestamp": 1576771260227,
     "user": {
      "displayName": "Aleksandr Shchegolev",
      "photoUrl": "",
      "userId": "00652555022685556919"
     },
     "user_tz": -180
    },
    "id": "T9I59UXGpYlh",
    "outputId": "b2724135-2b85-4e15-9135-c324a7b1bf75"
   },
   "outputs": [
    {
     "name": "stdout",
     "output_type": "stream",
     "text": [
      "glm prediction progress: |████████████████████████████████████████████████| 100%\n",
      "glm prediction progress: |████████████████████████████████████████████████| 100%\n",
      "glm prediction progress: |████████████████████████████████████████████████| 100%\n"
     ]
    }
   ],
   "source": [
    "# Построение прогнозных значений для обучающей, валидационной и тестовой выборок\n",
    "\n",
    "ind_train_pred = glm_binomial.predict(h2o_train_ind).as_data_frame()\n",
    "ind_valid_pred = glm_binomial.predict(h2o_valid_ind).as_data_frame()\n",
    "ind_test_pred = glm_binomial.predict(h2o_test_ind).as_data_frame()"
   ]
  },
  {
   "cell_type": "code",
   "execution_count": 31,
   "metadata": {
    "colab": {},
    "colab_type": "code",
    "id": "g00U1gQBp_Wq"
   },
   "outputs": [],
   "source": [
    "from sklearn.metrics import accuracy_score, f1_score, confusion_matrix"
   ]
  },
  {
   "cell_type": "code",
   "execution_count": 32,
   "metadata": {
    "colab": {
     "base_uri": "https://localhost:8080/"
    },
    "colab_type": "code",
    "executionInfo": {
     "elapsed": 87242,
     "status": "ok",
     "timestamp": 1576771260228,
     "user": {
      "displayName": "Aleksandr Shchegolev",
      "photoUrl": "",
      "userId": "00652555022685556919"
     },
     "user_tz": -180
    },
    "id": "oVwiMaWlqRCz",
    "outputId": "c6f65b9c-b2be-4cd9-b1d4-410255c41a90"
   },
   "outputs": [
    {
     "data": {
      "text/plain": [
       "(0.4550913060738388, 0.45608376339817386, 0.4540988487495038)"
      ]
     },
     "execution_count": 32,
     "metadata": {},
     "output_type": "execute_result"
    }
   ],
   "source": [
    "# Выведем импортированные выше метрики классификации для обучающей, валидационной и тестовой выборок\n",
    "\n",
    "accuracy_score(y_train_ind, ind_train_pred['predict']), \\\n",
    "accuracy_score(y_valid_ind, ind_valid_pred['predict']), \\\n",
    "accuracy_score(y_test_ind, ind_test_pred['predict'])"
   ]
  },
  {
   "cell_type": "code",
   "execution_count": 33,
   "metadata": {},
   "outputs": [
    {
     "data": {
      "text/plain": [
       "(0.18614044839725774, 0.18915520047344284, 0.18311427934952104)"
      ]
     },
     "execution_count": 33,
     "metadata": {},
     "output_type": "execute_result"
    }
   ],
   "source": [
    "f1_score(y_train_ind, ind_train_pred['predict']), \\\n",
    "f1_score(y_valid_ind, ind_valid_pred['predict']), \\\n",
    "f1_score(y_test_ind, ind_test_pred['predict'])"
   ]
  },
  {
   "cell_type": "code",
   "execution_count": 34,
   "metadata": {},
   "outputs": [
    {
     "name": "stdout",
     "output_type": "stream",
     "text": [
      "[[31661 41312]\n",
      " [ 2612  5023]] \n",
      "[[15825 20629]\n",
      " [ 1293  2557]] \n",
      "[[15836 20683]\n",
      " [ 1319  2466]]\n"
     ]
    }
   ],
   "source": [
    "print(f\"{confusion_matrix(y_train_ind, ind_train_pred['predict'])} \\n\"  \\\n",
    "f\"{confusion_matrix(y_valid_ind, ind_valid_pred['predict'])} \\n\" \\\n",
    "f\"{confusion_matrix(y_test_ind, ind_test_pred['predict'])}\")"
   ]
  },
  {
   "cell_type": "markdown",
   "metadata": {
    "colab_type": "text",
    "id": "2TNOSiKDs-U6"
   },
   "source": [
    "Какие проблемы вы здесь видите? Как можно улучшить данный результат?"
   ]
  },
  {
   "cell_type": "markdown",
   "metadata": {},
   "source": [
    "\n",
    "Модель дает плохие результаты.\n",
    "Проблемы: не сбалансированная выборка от носительно целевой переменной, в Confusion matrix видно много ложных срабатываний.\n",
    "Как улучшить: ввести параметр stratify,  использовать другое распределение, нелениейную модель, почистить данные."
   ]
  },
  {
   "cell_type": "code",
   "execution_count": 35,
   "metadata": {},
   "outputs": [],
   "source": [
    "new_model_path = h2o.save_model(glm_binomial)"
   ]
  },
  {
   "cell_type": "code",
   "execution_count": 36,
   "metadata": {},
   "outputs": [
    {
     "data": {
      "text/plain": [
       "'/Users/root1/Desktop/GU/ml-in-b/ml-in-b/GLM_model_python_1582117943665_1'"
      ]
     },
     "execution_count": 36,
     "metadata": {},
     "output_type": "execute_result"
    }
   ],
   "source": [
    "new_model_path"
   ]
  },
  {
   "cell_type": "code",
   "execution_count": null,
   "metadata": {},
   "outputs": [],
   "source": []
  }
 ],
 "metadata": {
  "kernelspec": {
   "display_name": "Python 3",
   "language": "python",
   "name": "python3"
  },
  "language_info": {
   "codemirror_mode": {
    "name": "ipython",
    "version": 3
   },
   "file_extension": ".py",
   "mimetype": "text/x-python",
   "name": "python",
   "nbconvert_exporter": "python",
   "pygments_lexer": "ipython3",
   "version": "3.7.6"
  }
 },
 "nbformat": 4,
 "nbformat_minor": 2
}
