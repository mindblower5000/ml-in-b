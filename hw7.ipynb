{
 "cells": [
  {
   "cell_type": "markdown",
   "metadata": {},
   "source": [
    "HW7"
   ]
  },
  {
   "cell_type": "markdown",
   "metadata": {},
   "source": [
    "Построить обобщенную линейную модель (GLM) для прогнозирования наступления страховых случаев на рассмотренных в ноутбуке данных. Придумать и использовать дополнительные факторы при построении модели (например, пересечения признаков и т.д.). Оценить результаты построенной модели при помощи различных метрик (можно использовать и другие метрики помимо представленных в ноутбуке), выявить проблемы. Попробовать улучшить результат и предложить способы решения обнаруженных проблем."
   ]
  },
  {
   "cell_type": "code",
   "execution_count": 48,
   "metadata": {
    "colab": {},
    "colab_type": "code",
    "id": "Fj2E6mVkFR10"
   },
   "outputs": [],
   "source": [
    "import numpy as np\n",
    "import pandas as pd"
   ]
  },
  {
   "cell_type": "code",
   "execution_count": 49,
   "metadata": {
    "colab": {
     "base_uri": "https://localhost:8080/",
     "height": 442
    },
    "colab_type": "code",
    "executionInfo": {
     "elapsed": 3920,
     "status": "ok",
     "timestamp": 1581008058389,
     "user": {
      "displayName": "Aleksandr Shchegolev",
      "photoUrl": "",
      "userId": "00652555022685556919"
     },
     "user_tz": -180
    },
    "id": "_Vs8YR9eFgvy",
    "outputId": "a6611783-1ff7-45db-a9bd-a0292fa59152"
   },
   "outputs": [
    {
     "name": "stdout",
     "output_type": "stream",
     "text": [
      "<class 'pandas.core.frame.DataFrame'>\n",
      "RangeIndex: 115155 entries, 0 to 115154\n",
      "Data columns (total 20 columns):\n",
      "Exposure             115155 non-null float64\n",
      "LicAge               115155 non-null int64\n",
      "RecordBeg            115155 non-null object\n",
      "RecordEnd            59455 non-null object\n",
      "Gender               115155 non-null object\n",
      "MariStat             115155 non-null object\n",
      "SocioCateg           115155 non-null object\n",
      "VehUsage             115155 non-null object\n",
      "DrivAge              115155 non-null int64\n",
      "HasKmLimit           115155 non-null int64\n",
      "BonusMalus           115155 non-null int64\n",
      "ClaimAmount          115155 non-null float64\n",
      "ClaimInd             115155 non-null int64\n",
      "ClaimNbResp          115155 non-null float64\n",
      "ClaimNbNonResp       115155 non-null float64\n",
      "ClaimNbParking       115155 non-null float64\n",
      "ClaimNbFireTheft     115155 non-null float64\n",
      "ClaimNbWindscreen    115155 non-null float64\n",
      "OutUseNb             115155 non-null float64\n",
      "RiskArea             115155 non-null float64\n",
      "dtypes: float64(9), int64(5), object(6)\n",
      "memory usage: 17.6+ MB\n"
     ]
    }
   ],
   "source": [
    "# Загрузим набор данных\n",
    "\n",
    "df = pd.read_csv('freMPL-R.csv', low_memory=False)\n",
    "df = df.loc[df.Dataset.isin([5, 6, 7, 8, 9])]\n",
    "df.drop('Dataset', axis=1, inplace=True)\n",
    "df.dropna(axis=1, how='all', inplace=True)\n",
    "df.drop_duplicates(inplace=True)\n",
    "df.reset_index(drop=True, inplace=True)\n",
    "df.info()"
   ]
  },
  {
   "cell_type": "markdown",
   "metadata": {
    "colab_type": "text",
    "id": "AtfDb_BWWXqQ"
   },
   "source": [
    "В предыдущем уроке мы заметили отрицательную величину убытка для некоторых наблюдений. Заметим, что для всех таких полисов переменная \"ClaimInd\" принимает только значение 0. Поэтому заменим все соответствующие значения \"ClaimAmount\" нулями."
   ]
  },
  {
   "cell_type": "code",
   "execution_count": 50,
   "metadata": {
    "colab": {
     "base_uri": "https://localhost:8080/",
     "height": 221
    },
    "colab_type": "code",
    "executionInfo": {
     "elapsed": 3906,
     "status": "ok",
     "timestamp": 1581008058390,
     "user": {
      "displayName": "Aleksandr Shchegolev",
      "photoUrl": "",
      "userId": "00652555022685556919"
     },
     "user_tz": -180
    },
    "id": "AklwJWsoWnAV",
    "outputId": "027387aa-ba3a-415f-97ae-0ecb2c71cd3c"
   },
   "outputs": [
    {
     "name": "stdout",
     "output_type": "stream",
     "text": [
      "Unique values of ClaimInd: [0]\n"
     ]
    },
    {
     "data": {
      "text/plain": [
       "(967, 2)"
      ]
     },
     "execution_count": 50,
     "metadata": {},
     "output_type": "execute_result"
    }
   ],
   "source": [
    "NegClaimAmount = df.loc[df.ClaimAmount < 0, ['ClaimAmount','ClaimInd']]\n",
    "print('Unique values of ClaimInd:', NegClaimAmount.ClaimInd.unique())\n",
    "NegClaimAmount.shape"
   ]
  },
  {
   "cell_type": "code",
   "execution_count": 51,
   "metadata": {},
   "outputs": [
    {
     "data": {
      "text/html": [
       "<div>\n",
       "<style scoped>\n",
       "    .dataframe tbody tr th:only-of-type {\n",
       "        vertical-align: middle;\n",
       "    }\n",
       "\n",
       "    .dataframe tbody tr th {\n",
       "        vertical-align: top;\n",
       "    }\n",
       "\n",
       "    .dataframe thead th {\n",
       "        text-align: right;\n",
       "    }\n",
       "</style>\n",
       "<table border=\"1\" class=\"dataframe\">\n",
       "  <thead>\n",
       "    <tr style=\"text-align: right;\">\n",
       "      <th></th>\n",
       "      <th>ClaimAmount</th>\n",
       "      <th>ClaimInd</th>\n",
       "    </tr>\n",
       "  </thead>\n",
       "  <tbody>\n",
       "    <tr>\n",
       "      <th>82</th>\n",
       "      <td>-74.206042</td>\n",
       "      <td>0</td>\n",
       "    </tr>\n",
       "    <tr>\n",
       "      <th>175</th>\n",
       "      <td>-1222.585196</td>\n",
       "      <td>0</td>\n",
       "    </tr>\n",
       "    <tr>\n",
       "      <th>177</th>\n",
       "      <td>-316.288822</td>\n",
       "      <td>0</td>\n",
       "    </tr>\n",
       "    <tr>\n",
       "      <th>363</th>\n",
       "      <td>-666.758610</td>\n",
       "      <td>0</td>\n",
       "    </tr>\n",
       "    <tr>\n",
       "      <th>375</th>\n",
       "      <td>-1201.600604</td>\n",
       "      <td>0</td>\n",
       "    </tr>\n",
       "  </tbody>\n",
       "</table>\n",
       "</div>"
      ],
      "text/plain": [
       "     ClaimAmount  ClaimInd\n",
       "82    -74.206042         0\n",
       "175 -1222.585196         0\n",
       "177  -316.288822         0\n",
       "363  -666.758610         0\n",
       "375 -1201.600604         0"
      ]
     },
     "execution_count": 51,
     "metadata": {},
     "output_type": "execute_result"
    }
   ],
   "source": [
    "NegClaimAmount.head()"
   ]
  },
  {
   "cell_type": "code",
   "execution_count": 52,
   "metadata": {
    "colab": {},
    "colab_type": "code",
    "id": "R7laRWoCYF4V"
   },
   "outputs": [],
   "source": [
    "df.loc[df.ClaimAmount < 0, 'ClaimAmount'] = 0"
   ]
  },
  {
   "cell_type": "markdown",
   "metadata": {
    "colab_type": "text",
    "id": "6VuWyv7EGONj"
   },
   "source": [
    "Перекодируем переменные типа `object` с помощью числовых значений"
   ]
  },
  {
   "cell_type": "code",
   "execution_count": 53,
   "metadata": {
    "colab": {},
    "colab_type": "code",
    "id": "yivIrqGaGbSa"
   },
   "outputs": [],
   "source": [
    "def SeriesFactorizer(series):\n",
    "    series, unique = pd.factorize(series)\n",
    "    reference = {x: i for x, i in enumerate(unique)}\n",
    "    print(reference)\n",
    "    return series, reference"
   ]
  },
  {
   "cell_type": "code",
   "execution_count": 54,
   "metadata": {
    "colab": {
     "base_uri": "https://localhost:8080/",
     "height": 34
    },
    "colab_type": "code",
    "executionInfo": {
     "elapsed": 3878,
     "status": "ok",
     "timestamp": 1581008058392,
     "user": {
      "displayName": "Aleksandr Shchegolev",
      "photoUrl": "",
      "userId": "00652555022685556919"
     },
     "user_tz": -180
    },
    "id": "G3SgrIBXGe3J",
    "outputId": "996cd638-4b2d-4826-c0ae-4420fb31e486"
   },
   "outputs": [
    {
     "name": "stdout",
     "output_type": "stream",
     "text": [
      "{0: 'Male', 1: 'Female'}\n"
     ]
    }
   ],
   "source": [
    "df.Gender, GenderRef = SeriesFactorizer(df.Gender)"
   ]
  },
  {
   "cell_type": "code",
   "execution_count": 55,
   "metadata": {
    "colab": {
     "base_uri": "https://localhost:8080/",
     "height": 34
    },
    "colab_type": "code",
    "executionInfo": {
     "elapsed": 3866,
     "status": "ok",
     "timestamp": 1581008058393,
     "user": {
      "displayName": "Aleksandr Shchegolev",
      "photoUrl": "",
      "userId": "00652555022685556919"
     },
     "user_tz": -180
    },
    "id": "HD6_Ie-2GggO",
    "outputId": "c441aeef-2c4a-4594-f716-2941f9068c62"
   },
   "outputs": [
    {
     "name": "stdout",
     "output_type": "stream",
     "text": [
      "{0: 'Other', 1: 'Alone'}\n"
     ]
    }
   ],
   "source": [
    "df.MariStat, MariStatRef = SeriesFactorizer(df.MariStat)"
   ]
  },
  {
   "cell_type": "markdown",
   "metadata": {
    "colab_type": "text",
    "id": "ZdTe9JpiGvt9"
   },
   "source": [
    "Для переменных, содержащих более 2 значений, различия между которыми не могут упорядочены, используем фиктивные переменные (one-hot encoding).\n",
    "\n",
    "**NB**: В H2O не рекомендуется использовать one-hot encoding, поскольку данный фреймворк корректно работает с категориальными признаками, тогда как применение one-hot encoding приводит к неэффективности. Тем не менее, используем здесь фиктивные переменные, чтобы в дальнейшем сохранить возможность сравнения результатов построенных моделей."
   ]
  },
  {
   "cell_type": "code",
   "execution_count": 56,
   "metadata": {
    "colab": {
     "base_uri": "https://localhost:8080/",
     "height": 34
    },
    "colab_type": "code",
    "executionInfo": {
     "elapsed": 3854,
     "status": "ok",
     "timestamp": 1581008058393,
     "user": {
      "displayName": "Aleksandr Shchegolev",
      "photoUrl": "",
      "userId": "00652555022685556919"
     },
     "user_tz": -180
    },
    "id": "VrN99Iv8Ht-G",
    "outputId": "e5acf2a6-ca17-4aab-cd8b-edca0ffbeee3"
   },
   "outputs": [
    {
     "data": {
      "text/plain": [
       "['Professional', 'Private+trip to office', 'Private', 'Professional run']"
      ]
     },
     "execution_count": 56,
     "metadata": {},
     "output_type": "execute_result"
    }
   ],
   "source": [
    "list(df.VehUsage.unique())"
   ]
  },
  {
   "cell_type": "code",
   "execution_count": 57,
   "metadata": {
    "colab": {
     "base_uri": "https://localhost:8080/",
     "height": 204
    },
    "colab_type": "code",
    "executionInfo": {
     "elapsed": 3842,
     "status": "ok",
     "timestamp": 1581008058394,
     "user": {
      "displayName": "Aleksandr Shchegolev",
      "photoUrl": "",
      "userId": "00652555022685556919"
     },
     "user_tz": -180
    },
    "id": "WXfZa7lUH0Jf",
    "outputId": "0ee97476-8bdd-43d3-9765-5bc0cf239456"
   },
   "outputs": [
    {
     "data": {
      "text/html": [
       "<div>\n",
       "<style scoped>\n",
       "    .dataframe tbody tr th:only-of-type {\n",
       "        vertical-align: middle;\n",
       "    }\n",
       "\n",
       "    .dataframe tbody tr th {\n",
       "        vertical-align: top;\n",
       "    }\n",
       "\n",
       "    .dataframe thead th {\n",
       "        text-align: right;\n",
       "    }\n",
       "</style>\n",
       "<table border=\"1\" class=\"dataframe\">\n",
       "  <thead>\n",
       "    <tr style=\"text-align: right;\">\n",
       "      <th></th>\n",
       "      <th>VehUsg_Private</th>\n",
       "      <th>VehUsg_Private+trip to office</th>\n",
       "      <th>VehUsg_Professional</th>\n",
       "      <th>VehUsg_Professional run</th>\n",
       "    </tr>\n",
       "  </thead>\n",
       "  <tbody>\n",
       "    <tr>\n",
       "      <th>0</th>\n",
       "      <td>0</td>\n",
       "      <td>0</td>\n",
       "      <td>1</td>\n",
       "      <td>0</td>\n",
       "    </tr>\n",
       "    <tr>\n",
       "      <th>1</th>\n",
       "      <td>0</td>\n",
       "      <td>0</td>\n",
       "      <td>1</td>\n",
       "      <td>0</td>\n",
       "    </tr>\n",
       "    <tr>\n",
       "      <th>2</th>\n",
       "      <td>0</td>\n",
       "      <td>1</td>\n",
       "      <td>0</td>\n",
       "      <td>0</td>\n",
       "    </tr>\n",
       "    <tr>\n",
       "      <th>3</th>\n",
       "      <td>0</td>\n",
       "      <td>1</td>\n",
       "      <td>0</td>\n",
       "      <td>0</td>\n",
       "    </tr>\n",
       "    <tr>\n",
       "      <th>4</th>\n",
       "      <td>1</td>\n",
       "      <td>0</td>\n",
       "      <td>0</td>\n",
       "      <td>0</td>\n",
       "    </tr>\n",
       "  </tbody>\n",
       "</table>\n",
       "</div>"
      ],
      "text/plain": [
       "   VehUsg_Private  VehUsg_Private+trip to office  VehUsg_Professional  \\\n",
       "0               0                              0                    1   \n",
       "1               0                              0                    1   \n",
       "2               0                              1                    0   \n",
       "3               0                              1                    0   \n",
       "4               1                              0                    0   \n",
       "\n",
       "   VehUsg_Professional run  \n",
       "0                        0  \n",
       "1                        0  \n",
       "2                        0  \n",
       "3                        0  \n",
       "4                        0  "
      ]
     },
     "execution_count": 57,
     "metadata": {},
     "output_type": "execute_result"
    }
   ],
   "source": [
    "VU_dummies = pd.get_dummies(df.VehUsage, prefix='VehUsg', drop_first=False)\n",
    "VU_dummies.head()"
   ]
  },
  {
   "cell_type": "markdown",
   "metadata": {
    "colab_type": "text",
    "id": "vSlx8FxWH9P2"
   },
   "source": [
    "Фактор \"SocioCateg\" содержит информацию о социальной категории в виде кодов классификации CSP. Агрегируем имеющиеся коды до 1 знака, а затем закодируем их с помощью one-hot encoding.\n",
    "\n",
    "[Wiki](https://fr.wikipedia.org/wiki/Professions_et_cat%C3%A9gories_socioprofessionnelles_en_France#Cr%C3%A9ation_de_la_nomenclature_des_PCS)\n",
    "\n",
    "[Более подробный классификатор](https://www.ast74.fr/upload/administratif/liste-des-codes-csp-copie.pdf)"
   ]
  },
  {
   "cell_type": "code",
   "execution_count": 58,
   "metadata": {
    "colab": {
     "base_uri": "https://localhost:8080/",
     "height": 136
    },
    "colab_type": "code",
    "executionInfo": {
     "elapsed": 3828,
     "status": "ok",
     "timestamp": 1581008058394,
     "user": {
      "displayName": "Aleksandr Shchegolev",
      "photoUrl": "",
      "userId": "00652555022685556919"
     },
     "user_tz": -180
    },
    "id": "o-JmQOrFLjt1",
    "outputId": "a930641c-36da-46ca-a1f8-af633c9238c4"
   },
   "outputs": [
    {
     "data": {
      "text/plain": [
       "array(['CSP50', 'CSP55', 'CSP60', 'CSP48', 'CSP6', 'CSP66', 'CSP1',\n",
       "       'CSP46', 'CSP21', 'CSP47', 'CSP42', 'CSP37', 'CSP22', 'CSP3',\n",
       "       'CSP49', 'CSP20', 'CSP2', 'CSP40', 'CSP7', 'CSP26', 'CSP65',\n",
       "       'CSP41', 'CSP17', 'CSP57', 'CSP56', 'CSP38', 'CSP51', 'CSP59',\n",
       "       'CSP30', 'CSP44', 'CSP61', 'CSP63', 'CSP45', 'CSP16', 'CSP43',\n",
       "       'CSP39', 'CSP5', 'CSP32', 'CSP35', 'CSP73', 'CSP62', 'CSP52',\n",
       "       'CSP27', 'CSP24', 'CSP19', 'CSP70'], dtype=object)"
      ]
     },
     "execution_count": 58,
     "metadata": {},
     "output_type": "execute_result"
    }
   ],
   "source": [
    "df['SocioCateg'].unique()"
   ]
  },
  {
   "cell_type": "code",
   "execution_count": 59,
   "metadata": {
    "colab": {},
    "colab_type": "code",
    "id": "6knnpiia1a-D"
   },
   "outputs": [],
   "source": [
    "df['SocioCateg'] = df.SocioCateg.str.slice(0,4)"
   ]
  },
  {
   "cell_type": "code",
   "execution_count": 60,
   "metadata": {
    "colab": {
     "base_uri": "https://localhost:8080/",
     "height": 266
    },
    "colab_type": "code",
    "executionInfo": {
     "elapsed": 3803,
     "status": "ok",
     "timestamp": 1581008058395,
     "user": {
      "displayName": "Aleksandr Shchegolev",
      "photoUrl": "",
      "userId": "00652555022685556919"
     },
     "user_tz": -180
    },
    "id": "Xa8XgQB306yD",
    "outputId": "00c7ffd0-6b5e-4460-e046-105cd2820d3d"
   },
   "outputs": [
    {
     "data": {
      "text/html": [
       "<div>\n",
       "<style scoped>\n",
       "    .dataframe tbody tr th:only-of-type {\n",
       "        vertical-align: middle;\n",
       "    }\n",
       "\n",
       "    .dataframe tbody tr th {\n",
       "        vertical-align: top;\n",
       "    }\n",
       "\n",
       "    .dataframe thead th {\n",
       "        text-align: right;\n",
       "    }\n",
       "</style>\n",
       "<table border=\"1\" class=\"dataframe\">\n",
       "  <thead>\n",
       "    <tr style=\"text-align: right;\">\n",
       "      <th></th>\n",
       "      <th>Frequency</th>\n",
       "    </tr>\n",
       "  </thead>\n",
       "  <tbody>\n",
       "    <tr>\n",
       "      <th>CSP7</th>\n",
       "      <td>14</td>\n",
       "    </tr>\n",
       "    <tr>\n",
       "      <th>CSP3</th>\n",
       "      <td>1210</td>\n",
       "    </tr>\n",
       "    <tr>\n",
       "      <th>CSP1</th>\n",
       "      <td>2740</td>\n",
       "    </tr>\n",
       "    <tr>\n",
       "      <th>CSP2</th>\n",
       "      <td>3254</td>\n",
       "    </tr>\n",
       "    <tr>\n",
       "      <th>CSP4</th>\n",
       "      <td>7648</td>\n",
       "    </tr>\n",
       "    <tr>\n",
       "      <th>CSP6</th>\n",
       "      <td>24833</td>\n",
       "    </tr>\n",
       "    <tr>\n",
       "      <th>CSP5</th>\n",
       "      <td>75456</td>\n",
       "    </tr>\n",
       "  </tbody>\n",
       "</table>\n",
       "</div>"
      ],
      "text/plain": [
       "      Frequency\n",
       "CSP7         14\n",
       "CSP3       1210\n",
       "CSP1       2740\n",
       "CSP2       3254\n",
       "CSP4       7648\n",
       "CSP6      24833\n",
       "CSP5      75456"
      ]
     },
     "execution_count": 60,
     "metadata": {},
     "output_type": "execute_result"
    }
   ],
   "source": [
    "pd.DataFrame(df.SocioCateg.value_counts().sort_values()).rename({'SocioCateg': 'Frequency'}, axis=1)"
   ]
  },
  {
   "cell_type": "code",
   "execution_count": 61,
   "metadata": {
    "colab": {},
    "colab_type": "code",
    "id": "zPfpFjNiKHtj"
   },
   "outputs": [],
   "source": [
    "df = pd.get_dummies(df, columns=['VehUsage','SocioCateg'])"
   ]
  },
  {
   "cell_type": "markdown",
   "metadata": {
    "colab_type": "text",
    "id": "xuMe7c-wKT3H"
   },
   "source": [
    "Теперь, когда большинство переменных типа `object` обработаны, исключим их из набора данных за ненадобностью."
   ]
  },
  {
   "cell_type": "code",
   "execution_count": 62,
   "metadata": {
    "colab": {},
    "colab_type": "code",
    "id": "HBbmRHUFKRql"
   },
   "outputs": [],
   "source": [
    "df = df.select_dtypes(exclude=['object'])"
   ]
  },
  {
   "cell_type": "markdown",
   "metadata": {
    "colab_type": "text",
    "id": "SYrDMnrEAFwG"
   },
   "source": [
    "Также создадим такую переменную, как квадрат возраста."
   ]
  },
  {
   "cell_type": "code",
   "execution_count": 63,
   "metadata": {
    "colab": {
     "base_uri": "https://localhost:8080/",
     "height": 241
    },
    "colab_type": "code",
    "executionInfo": {
     "elapsed": 4232,
     "status": "ok",
     "timestamp": 1581008058852,
     "user": {
      "displayName": "Aleksandr Shchegolev",
      "photoUrl": "",
      "userId": "00652555022685556919"
     },
     "user_tz": -180
    },
    "id": "Sduuts5fAAmK",
    "outputId": "2affcb26-2aa4-444f-d755-0b69168be9f1"
   },
   "outputs": [
    {
     "data": {
      "text/html": [
       "<div>\n",
       "<style scoped>\n",
       "    .dataframe tbody tr th:only-of-type {\n",
       "        vertical-align: middle;\n",
       "    }\n",
       "\n",
       "    .dataframe tbody tr th {\n",
       "        vertical-align: top;\n",
       "    }\n",
       "\n",
       "    .dataframe thead th {\n",
       "        text-align: right;\n",
       "    }\n",
       "</style>\n",
       "<table border=\"1\" class=\"dataframe\">\n",
       "  <thead>\n",
       "    <tr style=\"text-align: right;\">\n",
       "      <th></th>\n",
       "      <th>Exposure</th>\n",
       "      <th>LicAge</th>\n",
       "      <th>Gender</th>\n",
       "      <th>MariStat</th>\n",
       "      <th>DrivAge</th>\n",
       "      <th>HasKmLimit</th>\n",
       "      <th>BonusMalus</th>\n",
       "      <th>ClaimAmount</th>\n",
       "      <th>ClaimInd</th>\n",
       "      <th>ClaimNbResp</th>\n",
       "      <th>...</th>\n",
       "      <th>VehUsage_Professional</th>\n",
       "      <th>VehUsage_Professional run</th>\n",
       "      <th>SocioCateg_CSP1</th>\n",
       "      <th>SocioCateg_CSP2</th>\n",
       "      <th>SocioCateg_CSP3</th>\n",
       "      <th>SocioCateg_CSP4</th>\n",
       "      <th>SocioCateg_CSP5</th>\n",
       "      <th>SocioCateg_CSP6</th>\n",
       "      <th>SocioCateg_CSP7</th>\n",
       "      <th>DrivAgeSq</th>\n",
       "    </tr>\n",
       "  </thead>\n",
       "  <tbody>\n",
       "    <tr>\n",
       "      <th>0</th>\n",
       "      <td>0.083</td>\n",
       "      <td>332</td>\n",
       "      <td>0</td>\n",
       "      <td>0</td>\n",
       "      <td>46</td>\n",
       "      <td>0</td>\n",
       "      <td>50</td>\n",
       "      <td>0.0</td>\n",
       "      <td>0</td>\n",
       "      <td>0.0</td>\n",
       "      <td>...</td>\n",
       "      <td>1</td>\n",
       "      <td>0</td>\n",
       "      <td>0</td>\n",
       "      <td>0</td>\n",
       "      <td>0</td>\n",
       "      <td>0</td>\n",
       "      <td>1</td>\n",
       "      <td>0</td>\n",
       "      <td>0</td>\n",
       "      <td>2116</td>\n",
       "    </tr>\n",
       "    <tr>\n",
       "      <th>1</th>\n",
       "      <td>0.916</td>\n",
       "      <td>333</td>\n",
       "      <td>0</td>\n",
       "      <td>0</td>\n",
       "      <td>46</td>\n",
       "      <td>0</td>\n",
       "      <td>50</td>\n",
       "      <td>0.0</td>\n",
       "      <td>0</td>\n",
       "      <td>0.0</td>\n",
       "      <td>...</td>\n",
       "      <td>1</td>\n",
       "      <td>0</td>\n",
       "      <td>0</td>\n",
       "      <td>0</td>\n",
       "      <td>0</td>\n",
       "      <td>0</td>\n",
       "      <td>1</td>\n",
       "      <td>0</td>\n",
       "      <td>0</td>\n",
       "      <td>2116</td>\n",
       "    </tr>\n",
       "    <tr>\n",
       "      <th>2</th>\n",
       "      <td>0.550</td>\n",
       "      <td>173</td>\n",
       "      <td>0</td>\n",
       "      <td>0</td>\n",
       "      <td>32</td>\n",
       "      <td>0</td>\n",
       "      <td>68</td>\n",
       "      <td>0.0</td>\n",
       "      <td>0</td>\n",
       "      <td>0.0</td>\n",
       "      <td>...</td>\n",
       "      <td>0</td>\n",
       "      <td>0</td>\n",
       "      <td>0</td>\n",
       "      <td>0</td>\n",
       "      <td>0</td>\n",
       "      <td>0</td>\n",
       "      <td>1</td>\n",
       "      <td>0</td>\n",
       "      <td>0</td>\n",
       "      <td>1024</td>\n",
       "    </tr>\n",
       "    <tr>\n",
       "      <th>3</th>\n",
       "      <td>0.089</td>\n",
       "      <td>364</td>\n",
       "      <td>1</td>\n",
       "      <td>0</td>\n",
       "      <td>52</td>\n",
       "      <td>0</td>\n",
       "      <td>50</td>\n",
       "      <td>0.0</td>\n",
       "      <td>0</td>\n",
       "      <td>0.0</td>\n",
       "      <td>...</td>\n",
       "      <td>0</td>\n",
       "      <td>0</td>\n",
       "      <td>0</td>\n",
       "      <td>0</td>\n",
       "      <td>0</td>\n",
       "      <td>0</td>\n",
       "      <td>1</td>\n",
       "      <td>0</td>\n",
       "      <td>0</td>\n",
       "      <td>2704</td>\n",
       "    </tr>\n",
       "    <tr>\n",
       "      <th>4</th>\n",
       "      <td>0.233</td>\n",
       "      <td>426</td>\n",
       "      <td>0</td>\n",
       "      <td>0</td>\n",
       "      <td>57</td>\n",
       "      <td>0</td>\n",
       "      <td>50</td>\n",
       "      <td>0.0</td>\n",
       "      <td>0</td>\n",
       "      <td>0.0</td>\n",
       "      <td>...</td>\n",
       "      <td>0</td>\n",
       "      <td>0</td>\n",
       "      <td>0</td>\n",
       "      <td>0</td>\n",
       "      <td>0</td>\n",
       "      <td>0</td>\n",
       "      <td>0</td>\n",
       "      <td>1</td>\n",
       "      <td>0</td>\n",
       "      <td>3249</td>\n",
       "    </tr>\n",
       "  </tbody>\n",
       "</table>\n",
       "<p>5 rows × 28 columns</p>\n",
       "</div>"
      ],
      "text/plain": [
       "   Exposure  LicAge  Gender  MariStat  DrivAge  HasKmLimit  BonusMalus  \\\n",
       "0     0.083     332       0         0       46           0          50   \n",
       "1     0.916     333       0         0       46           0          50   \n",
       "2     0.550     173       0         0       32           0          68   \n",
       "3     0.089     364       1         0       52           0          50   \n",
       "4     0.233     426       0         0       57           0          50   \n",
       "\n",
       "   ClaimAmount  ClaimInd  ClaimNbResp  ...  VehUsage_Professional  \\\n",
       "0          0.0         0          0.0  ...                      1   \n",
       "1          0.0         0          0.0  ...                      1   \n",
       "2          0.0         0          0.0  ...                      0   \n",
       "3          0.0         0          0.0  ...                      0   \n",
       "4          0.0         0          0.0  ...                      0   \n",
       "\n",
       "   VehUsage_Professional run  SocioCateg_CSP1  SocioCateg_CSP2  \\\n",
       "0                          0                0                0   \n",
       "1                          0                0                0   \n",
       "2                          0                0                0   \n",
       "3                          0                0                0   \n",
       "4                          0                0                0   \n",
       "\n",
       "   SocioCateg_CSP3  SocioCateg_CSP4  SocioCateg_CSP5  SocioCateg_CSP6  \\\n",
       "0                0                0                1                0   \n",
       "1                0                0                1                0   \n",
       "2                0                0                1                0   \n",
       "3                0                0                1                0   \n",
       "4                0                0                0                1   \n",
       "\n",
       "   SocioCateg_CSP7  DrivAgeSq  \n",
       "0                0       2116  \n",
       "1                0       2116  \n",
       "2                0       1024  \n",
       "3                0       2704  \n",
       "4                0       3249  \n",
       "\n",
       "[5 rows x 28 columns]"
      ]
     },
     "execution_count": 63,
     "metadata": {},
     "output_type": "execute_result"
    }
   ],
   "source": [
    "df['DrivAgeSq'] = df.DrivAge.apply(lambda x: x**2)\n",
    "df.head()"
   ]
  },
  {
   "cell_type": "markdown",
   "metadata": {
    "colab_type": "text",
    "id": "XE_3dSsW3J3X"
   },
   "source": [
    "Для моделирования частоты убытков сгенерируем показатель как сумму индикатора того, что убыток произошел (\"ClaimInd\") и количества заявленных убытков по различным видам ущерба за 4 предшествующих года (\"ClaimNbResp\", \"ClaimNbNonResp\", \"ClaimNbParking\", \"ClaimNbFireTheft\", \"ClaimNbWindscreen\").\n",
    "\n",
    "В случаях, если соответствующая величина убытка равняется нулю, сгенерированную частоту также обнулим."
   ]
  },
  {
   "cell_type": "code",
   "execution_count": 64,
   "metadata": {
    "colab": {},
    "colab_type": "code",
    "id": "R6rz5Oko3rbr"
   },
   "outputs": [],
   "source": [
    "df['ClaimsCount'] = df.ClaimInd + df.ClaimNbResp + df.ClaimNbNonResp + df.ClaimNbParking + df.ClaimNbFireTheft + df.ClaimNbWindscreen\n",
    "df.loc[df.ClaimAmount == 0, 'ClaimsCount'] = 0\n",
    "df.drop([\"ClaimNbResp\", \"ClaimNbNonResp\", \"ClaimNbParking\", \"ClaimNbFireTheft\", \"ClaimNbWindscreen\"], axis=1, inplace=True)"
   ]
  },
  {
   "cell_type": "code",
   "execution_count": 65,
   "metadata": {
    "colab": {
     "base_uri": "https://localhost:8080/",
     "height": 390
    },
    "colab_type": "code",
    "executionInfo": {
     "elapsed": 4675,
     "status": "ok",
     "timestamp": 1581008059318,
     "user": {
      "displayName": "Aleksandr Shchegolev",
      "photoUrl": "",
      "userId": "00652555022685556919"
     },
     "user_tz": -180
    },
    "id": "cJ5_aqnx4FcZ",
    "outputId": "bd26a961-725a-46f4-abeb-ebafcfe8edf2"
   },
   "outputs": [
    {
     "data": {
      "text/html": [
       "<div>\n",
       "<style scoped>\n",
       "    .dataframe tbody tr th:only-of-type {\n",
       "        vertical-align: middle;\n",
       "    }\n",
       "\n",
       "    .dataframe tbody tr th {\n",
       "        vertical-align: top;\n",
       "    }\n",
       "\n",
       "    .dataframe thead th {\n",
       "        text-align: right;\n",
       "    }\n",
       "</style>\n",
       "<table border=\"1\" class=\"dataframe\">\n",
       "  <thead>\n",
       "    <tr style=\"text-align: right;\">\n",
       "      <th></th>\n",
       "      <th>Policies</th>\n",
       "    </tr>\n",
       "  </thead>\n",
       "  <tbody>\n",
       "    <tr>\n",
       "      <th>0.0</th>\n",
       "      <td>104286</td>\n",
       "    </tr>\n",
       "    <tr>\n",
       "      <th>2.0</th>\n",
       "      <td>3529</td>\n",
       "    </tr>\n",
       "    <tr>\n",
       "      <th>1.0</th>\n",
       "      <td>3339</td>\n",
       "    </tr>\n",
       "    <tr>\n",
       "      <th>3.0</th>\n",
       "      <td>2310</td>\n",
       "    </tr>\n",
       "    <tr>\n",
       "      <th>4.0</th>\n",
       "      <td>1101</td>\n",
       "    </tr>\n",
       "    <tr>\n",
       "      <th>5.0</th>\n",
       "      <td>428</td>\n",
       "    </tr>\n",
       "    <tr>\n",
       "      <th>6.0</th>\n",
       "      <td>127</td>\n",
       "    </tr>\n",
       "    <tr>\n",
       "      <th>7.0</th>\n",
       "      <td>26</td>\n",
       "    </tr>\n",
       "    <tr>\n",
       "      <th>8.0</th>\n",
       "      <td>6</td>\n",
       "    </tr>\n",
       "    <tr>\n",
       "      <th>9.0</th>\n",
       "      <td>2</td>\n",
       "    </tr>\n",
       "    <tr>\n",
       "      <th>11.0</th>\n",
       "      <td>1</td>\n",
       "    </tr>\n",
       "  </tbody>\n",
       "</table>\n",
       "</div>"
      ],
      "text/plain": [
       "      Policies\n",
       "0.0     104286\n",
       "2.0       3529\n",
       "1.0       3339\n",
       "3.0       2310\n",
       "4.0       1101\n",
       "5.0        428\n",
       "6.0        127\n",
       "7.0         26\n",
       "8.0          6\n",
       "9.0          2\n",
       "11.0         1"
      ]
     },
     "execution_count": 65,
     "metadata": {},
     "output_type": "execute_result"
    }
   ],
   "source": [
    "pd.DataFrame(df.ClaimsCount.value_counts()).rename({'ClaimsCount': 'Policies'}, axis=1)"
   ]
  },
  {
   "cell_type": "code",
   "execution_count": 66,
   "metadata": {
    "colab": {
     "base_uri": "https://localhost:8080/",
     "height": 562
    },
    "colab_type": "code",
    "executionInfo": {
     "elapsed": 20314,
     "status": "ok",
     "timestamp": 1581008075050,
     "user": {
      "displayName": "Aleksandr Shchegolev",
      "photoUrl": "",
      "userId": "00652555022685556919"
     },
     "user_tz": -180
    },
    "id": "KSdsMa-agl-6",
    "outputId": "e72cd3f1-dd71-498c-8498-fcbaea625e7e",
    "scrolled": true
   },
   "outputs": [
    {
     "name": "stdout",
     "output_type": "stream",
     "text": [
      "Checking whether there is an H2O instance running at http://localhost:54321 . connected.\n"
     ]
    },
    {
     "data": {
      "text/html": [
       "<div style=\"overflow:auto\"><table style=\"width:50%\"><tr><td>H2O cluster uptime:</td>\n",
       "<td>27 mins 22 secs</td></tr>\n",
       "<tr><td>H2O cluster timezone:</td>\n",
       "<td>Europe/Moscow</td></tr>\n",
       "<tr><td>H2O data parsing timezone:</td>\n",
       "<td>UTC</td></tr>\n",
       "<tr><td>H2O cluster version:</td>\n",
       "<td>3.28.0.3</td></tr>\n",
       "<tr><td>H2O cluster version age:</td>\n",
       "<td>7 days, 21 hours and 16 minutes </td></tr>\n",
       "<tr><td>H2O cluster name:</td>\n",
       "<td>H2O_from_python_amelt_000_tumzyg</td></tr>\n",
       "<tr><td>H2O cluster total nodes:</td>\n",
       "<td>1</td></tr>\n",
       "<tr><td>H2O cluster free memory:</td>\n",
       "<td>154.2 Mb</td></tr>\n",
       "<tr><td>H2O cluster total cores:</td>\n",
       "<td>12</td></tr>\n",
       "<tr><td>H2O cluster allowed cores:</td>\n",
       "<td>12</td></tr>\n",
       "<tr><td>H2O cluster status:</td>\n",
       "<td>locked, healthy</td></tr>\n",
       "<tr><td>H2O connection url:</td>\n",
       "<td>http://localhost:54321</td></tr>\n",
       "<tr><td>H2O connection proxy:</td>\n",
       "<td>{'http': None, 'https': None}</td></tr>\n",
       "<tr><td>H2O internal security:</td>\n",
       "<td>False</td></tr>\n",
       "<tr><td>H2O API Extensions:</td>\n",
       "<td>Amazon S3, Algos, AutoML, Core V3, TargetEncoder, Core V4</td></tr>\n",
       "<tr><td>Python version:</td>\n",
       "<td>3.7.4 final</td></tr></table></div>"
      ],
      "text/plain": [
       "--------------------------  ---------------------------------------------------------\n",
       "H2O cluster uptime:         27 mins 22 secs\n",
       "H2O cluster timezone:       Europe/Moscow\n",
       "H2O data parsing timezone:  UTC\n",
       "H2O cluster version:        3.28.0.3\n",
       "H2O cluster version age:    7 days, 21 hours and 16 minutes\n",
       "H2O cluster name:           H2O_from_python_amelt_000_tumzyg\n",
       "H2O cluster total nodes:    1\n",
       "H2O cluster free memory:    154.2 Mb\n",
       "H2O cluster total cores:    12\n",
       "H2O cluster allowed cores:  12\n",
       "H2O cluster status:         locked, healthy\n",
       "H2O connection url:         http://localhost:54321\n",
       "H2O connection proxy:       {'http': None, 'https': None}\n",
       "H2O internal security:      False\n",
       "H2O API Extensions:         Amazon S3, Algos, AutoML, Core V3, TargetEncoder, Core V4\n",
       "Python version:             3.7.4 final\n",
       "--------------------------  ---------------------------------------------------------"
      ]
     },
     "metadata": {},
     "output_type": "display_data"
    }
   ],
   "source": [
    "import h2o\n",
    "from h2o.estimators.glm import H2OGeneralizedLinearEstimator\n",
    "h2o.init()"
   ]
  },
  {
   "cell_type": "code",
   "execution_count": 67,
   "metadata": {},
   "outputs": [
    {
     "name": "stdout",
     "output_type": "stream",
     "text": [
      "Parse progress: |█████████████████████████████████████████████████████████| 100%\n"
     ]
    }
   ],
   "source": [
    "h2o_df = h2o.H2OFrame(df)"
   ]
  },
  {
   "cell_type": "code",
   "execution_count": 68,
   "metadata": {},
   "outputs": [],
   "source": [
    "from sklearn.model_selection import train_test_split"
   ]
  },
  {
   "cell_type": "markdown",
   "metadata": {},
   "source": [
    "## * Домашнее задание: GLM для прогнозирования наступления страхового случая"
   ]
  },
  {
   "cell_type": "code",
   "execution_count": 69,
   "metadata": {
    "colab": {},
    "colab_type": "code",
    "id": "EgD9hvYAIury"
   },
   "outputs": [],
   "source": [
    "# Разбиение датасета на train/val/test\n",
    "\n",
    "x_train_ind, x_test_ind, y_train_ind, y_test_ind = train_test_split(df.drop(['ClaimInd', 'ClaimAmount', 'ClaimsCount'], axis=1), df.ClaimInd, test_size=0.3, random_state=1)\n",
    "x_valid_ind, x_test_ind, y_valid_ind, y_test_ind = train_test_split(x_train_ind, y_train_ind, test_size=0.5, random_state=1)"
   ]
  },
  {
   "cell_type": "code",
   "execution_count": 70,
   "metadata": {
    "colab": {
     "base_uri": "https://localhost:8080/"
    },
    "colab_type": "code",
    "executionInfo": {
     "elapsed": 87289,
     "status": "ok",
     "timestamp": 1576771260224,
     "user": {
      "displayName": "Aleksandr Shchegolev",
      "photoUrl": "",
      "userId": "00652555022685556919"
     },
     "user_tz": -180
    },
    "id": "Bt_i4clofGFR",
    "outputId": "aa0a2454-a71d-4d0e-fb5b-1903137b4e18",
    "scrolled": true
   },
   "outputs": [
    {
     "name": "stdout",
     "output_type": "stream",
     "text": [
      "Parse progress: |█████████████████████████████████████████████████████████| 100%\n",
      "Parse progress: |█████████████████████████████████████████████████████████| 100%\n",
      "Parse progress: |█████████████████████████████████████████████████████████| 100%\n"
     ]
    }
   ],
   "source": [
    "# Преобразование в H2O-Frame\n",
    "\n",
    "h2o_train_ind = h2o.H2OFrame(pd.concat([x_train_ind, y_train_ind], axis=1))\n",
    "h2o_valid_ind = h2o.H2OFrame(pd.concat([x_valid_ind, y_valid_ind], axis=1))\n",
    "h2o_test_ind = h2o.H2OFrame(pd.concat([x_test_ind, y_test_ind], axis=1))"
   ]
  },
  {
   "cell_type": "code",
   "execution_count": 71,
   "metadata": {
    "colab": {
     "base_uri": "https://localhost:8080/"
    },
    "colab_type": "code",
    "executionInfo": {
     "elapsed": 87284,
     "status": "ok",
     "timestamp": 1576771260224,
     "user": {
      "displayName": "Aleksandr Shchegolev",
      "photoUrl": "",
      "userId": "00652555022685556919"
     },
     "user_tz": -180
    },
    "id": "5ETBVckIjIRC",
    "outputId": "323cda4d-7a22-4c17-a4bf-6dc878bb9c37"
   },
   "outputs": [],
   "source": [
    "# Преобразуем целевую переменную ClaimInd в категориальную при помощи метода asfactor во всех наборах данных\n",
    "\n",
    "h2o_train_ind['ClaimInd'] = h2o_train_ind['ClaimInd'].asfactor()\n",
    "h2o_valid_ind['ClaimInd'] = h2o_valid_ind['ClaimInd'].asfactor()\n",
    "h2o_test_ind['ClaimInd'] = h2o_test_ind['ClaimInd'].asfactor()"
   ]
  },
  {
   "cell_type": "code",
   "execution_count": 72,
   "metadata": {
    "colab": {
     "base_uri": "https://localhost:8080/"
    },
    "colab_type": "code",
    "executionInfo": {
     "elapsed": 87275,
     "status": "ok",
     "timestamp": 1576771260225,
     "user": {
      "displayName": "Aleksandr Shchegolev",
      "photoUrl": "",
      "userId": "00652555022685556919"
     },
     "user_tz": -180
    },
    "id": "xoT7OG9ljwKY",
    "outputId": "874df7ed-3b2c-41e7-e32a-52c3f26b7df0"
   },
   "outputs": [
    {
     "name": "stdout",
     "output_type": "stream",
     "text": [
      "glm Model Build progress: |███████████████████████████████████████████████| 100%\n"
     ]
    }
   ],
   "source": [
    "# Инициализируем и обучим GLM модель c кросс-валидацией\n",
    "\n",
    "glm_binomial = H2OGeneralizedLinearEstimator(family = \"binomial\", nfolds=5)\n",
    "glm_binomial.train(y=\"ClaimInd\", x = h2o_train_ind.names[1:-1], training_frame = h2o_train_ind, validation_frame = h2o_valid_ind)"
   ]
  },
  {
   "cell_type": "code",
   "execution_count": 73,
   "metadata": {
    "colab": {
     "base_uri": "https://localhost:8080/"
    },
    "colab_type": "code",
    "executionInfo": {
     "elapsed": 87269,
     "status": "ok",
     "timestamp": 1576771260225,
     "user": {
      "displayName": "Aleksandr Shchegolev",
      "photoUrl": "",
      "userId": "00652555022685556919"
     },
     "user_tz": -180
    },
    "id": "WXbmbcSDoOXs",
    "outputId": "f0b1bda6-3cc3-4fa3-99b6-b7d03e1b7480"
   },
   "outputs": [
    {
     "name": "stdout",
     "output_type": "stream",
     "text": [
      "\n",
      "GLM Model: summary\n"
     ]
    },
    {
     "data": {
      "text/html": [
       "<div>\n",
       "<style scoped>\n",
       "    .dataframe tbody tr th:only-of-type {\n",
       "        vertical-align: middle;\n",
       "    }\n",
       "\n",
       "    .dataframe tbody tr th {\n",
       "        vertical-align: top;\n",
       "    }\n",
       "\n",
       "    .dataframe thead th {\n",
       "        text-align: right;\n",
       "    }\n",
       "</style>\n",
       "<table border=\"1\" class=\"dataframe\">\n",
       "  <thead>\n",
       "    <tr style=\"text-align: right;\">\n",
       "      <th></th>\n",
       "      <th></th>\n",
       "      <th>family</th>\n",
       "      <th>link</th>\n",
       "      <th>regularization</th>\n",
       "      <th>number_of_predictors_total</th>\n",
       "      <th>number_of_active_predictors</th>\n",
       "      <th>number_of_iterations</th>\n",
       "      <th>training_frame</th>\n",
       "    </tr>\n",
       "  </thead>\n",
       "  <tbody>\n",
       "    <tr>\n",
       "      <th>0</th>\n",
       "      <td></td>\n",
       "      <td>binomial</td>\n",
       "      <td>logit</td>\n",
       "      <td>Elastic Net (alpha = 0.5, lambda = 2.368E-5 )</td>\n",
       "      <td>20</td>\n",
       "      <td>20</td>\n",
       "      <td>3</td>\n",
       "      <td>py_4_sid_8830</td>\n",
       "    </tr>\n",
       "  </tbody>\n",
       "</table>\n",
       "</div>"
      ],
      "text/plain": [
       "       family   link                                 regularization  \\\n",
       "0    binomial  logit  Elastic Net (alpha = 0.5, lambda = 2.368E-5 )   \n",
       "\n",
       "   number_of_predictors_total number_of_active_predictors  \\\n",
       "0                          20                          20   \n",
       "\n",
       "   number_of_iterations training_frame  \n",
       "0                     3  py_4_sid_8830  "
      ]
     },
     "metadata": {},
     "output_type": "display_data"
    },
    {
     "data": {
      "text/plain": []
     },
     "execution_count": 73,
     "metadata": {},
     "output_type": "execute_result"
    }
   ],
   "source": [
    "# Параметры модели: распределение, функция связи, гиперпараметры регуляризации, количество использованных объясняющих переменных\n",
    "\n",
    "glm_binomial.summary()"
   ]
  },
  {
   "cell_type": "code",
   "execution_count": 74,
   "metadata": {
    "colab": {
     "base_uri": "https://localhost:8080/"
    },
    "colab_type": "code",
    "executionInfo": {
     "elapsed": 87264,
     "status": "ok",
     "timestamp": 1576771260225,
     "user": {
      "displayName": "Aleksandr Shchegolev",
      "photoUrl": "",
      "userId": "00652555022685556919"
     },
     "user_tz": -180
    },
    "id": "mUvoWpAkoRir",
    "outputId": "9cfa94ff-b9db-4a0f-8c16-405c962168ae"
   },
   "outputs": [
    {
     "data": {
      "text/html": [
       "<div>\n",
       "<style scoped>\n",
       "    .dataframe tbody tr th:only-of-type {\n",
       "        vertical-align: middle;\n",
       "    }\n",
       "\n",
       "    .dataframe tbody tr th {\n",
       "        vertical-align: top;\n",
       "    }\n",
       "\n",
       "    .dataframe thead th {\n",
       "        text-align: right;\n",
       "    }\n",
       "</style>\n",
       "<table border=\"1\" class=\"dataframe\">\n",
       "  <thead>\n",
       "    <tr style=\"text-align: right;\">\n",
       "      <th></th>\n",
       "      <th></th>\n",
       "      <th>mean</th>\n",
       "      <th>sd</th>\n",
       "      <th>cv_1_valid</th>\n",
       "      <th>cv_2_valid</th>\n",
       "      <th>cv_3_valid</th>\n",
       "      <th>cv_4_valid</th>\n",
       "      <th>cv_5_valid</th>\n",
       "    </tr>\n",
       "  </thead>\n",
       "  <tbody>\n",
       "    <tr>\n",
       "      <th>0</th>\n",
       "      <td>accuracy</td>\n",
       "      <td>0.5530939</td>\n",
       "      <td>0.11538466</td>\n",
       "      <td>0.35417175</td>\n",
       "      <td>0.64150596</td>\n",
       "      <td>0.6237402</td>\n",
       "      <td>0.579441</td>\n",
       "      <td>0.5666107</td>\n",
       "    </tr>\n",
       "    <tr>\n",
       "      <th>1</th>\n",
       "      <td>auc</td>\n",
       "      <td>0.5635859</td>\n",
       "      <td>0.006667339</td>\n",
       "      <td>0.55512935</td>\n",
       "      <td>0.5735111</td>\n",
       "      <td>0.563547</td>\n",
       "      <td>0.5610316</td>\n",
       "      <td>0.56471026</td>\n",
       "    </tr>\n",
       "    <tr>\n",
       "      <th>2</th>\n",
       "      <td>aucpr</td>\n",
       "      <td>0.114119954</td>\n",
       "      <td>0.002446286</td>\n",
       "      <td>0.11003464</td>\n",
       "      <td>0.11612347</td>\n",
       "      <td>0.114656836</td>\n",
       "      <td>0.11395653</td>\n",
       "      <td>0.1158283</td>\n",
       "    </tr>\n",
       "    <tr>\n",
       "      <th>3</th>\n",
       "      <td>err</td>\n",
       "      <td>0.4469061</td>\n",
       "      <td>0.11538466</td>\n",
       "      <td>0.64582825</td>\n",
       "      <td>0.35849404</td>\n",
       "      <td>0.3762598</td>\n",
       "      <td>0.420559</td>\n",
       "      <td>0.43338934</td>\n",
       "    </tr>\n",
       "    <tr>\n",
       "      <th>4</th>\n",
       "      <td>err_count</td>\n",
       "      <td>7214.0</td>\n",
       "      <td>1925.9282</td>\n",
       "      <td>10558.0</td>\n",
       "      <td>5818.0</td>\n",
       "      <td>6048.0</td>\n",
       "      <td>6681.0</td>\n",
       "      <td>6965.0</td>\n",
       "    </tr>\n",
       "    <tr>\n",
       "      <th>5</th>\n",
       "      <td>f0point5</td>\n",
       "      <td>0.13580048</td>\n",
       "      <td>0.0057316967</td>\n",
       "      <td>0.12707101</td>\n",
       "      <td>0.14163196</td>\n",
       "      <td>0.13971898</td>\n",
       "      <td>0.13365863</td>\n",
       "      <td>0.13692178</td>\n",
       "    </tr>\n",
       "    <tr>\n",
       "      <th>6</th>\n",
       "      <td>f1</td>\n",
       "      <td>0.18785764</td>\n",
       "      <td>0.0029185014</td>\n",
       "      <td>0.18496217</td>\n",
       "      <td>0.19104561</td>\n",
       "      <td>0.18927614</td>\n",
       "      <td>0.18454778</td>\n",
       "      <td>0.18945654</td>\n",
       "    </tr>\n",
       "    <tr>\n",
       "      <th>7</th>\n",
       "      <td>f2</td>\n",
       "      <td>0.30637658</td>\n",
       "      <td>0.019512875</td>\n",
       "      <td>0.3397425</td>\n",
       "      <td>0.2934142</td>\n",
       "      <td>0.29331118</td>\n",
       "      <td>0.29801324</td>\n",
       "      <td>0.3074018</td>\n",
       "    </tr>\n",
       "    <tr>\n",
       "      <th>8</th>\n",
       "      <td>lift_top_group</td>\n",
       "      <td>1.4530821</td>\n",
       "      <td>0.26426765</td>\n",
       "      <td>1.1509254</td>\n",
       "      <td>1.8523612</td>\n",
       "      <td>1.3093575</td>\n",
       "      <td>1.5350534</td>\n",
       "      <td>1.4177129</td>\n",
       "    </tr>\n",
       "    <tr>\n",
       "      <th>9</th>\n",
       "      <td>logloss</td>\n",
       "      <td>0.3111952</td>\n",
       "      <td>0.0032873082</td>\n",
       "      <td>0.3132478</td>\n",
       "      <td>0.30608967</td>\n",
       "      <td>0.31183487</td>\n",
       "      <td>0.3102081</td>\n",
       "      <td>0.31459558</td>\n",
       "    </tr>\n",
       "    <tr>\n",
       "      <th>10</th>\n",
       "      <td>max_per_class_error</td>\n",
       "      <td>0.5479119</td>\n",
       "      <td>0.08422329</td>\n",
       "      <td>0.68949896</td>\n",
       "      <td>0.5435216</td>\n",
       "      <td>0.5370492</td>\n",
       "      <td>0.49499</td>\n",
       "      <td>0.47449967</td>\n",
       "    </tr>\n",
       "    <tr>\n",
       "      <th>11</th>\n",
       "      <td>mcc</td>\n",
       "      <td>0.05926789</td>\n",
       "      <td>0.007995742</td>\n",
       "      <td>0.050455816</td>\n",
       "      <td>0.071069054</td>\n",
       "      <td>0.062874034</td>\n",
       "      <td>0.05454646</td>\n",
       "      <td>0.057394076</td>\n",
       "    </tr>\n",
       "    <tr>\n",
       "      <th>12</th>\n",
       "      <td>mean_per_class_accuracy</td>\n",
       "      <td>0.54880744</td>\n",
       "      <td>0.0070100254</td>\n",
       "      <td>0.53947115</td>\n",
       "      <td>0.5584484</td>\n",
       "      <td>0.55177236</td>\n",
       "      <td>0.54609734</td>\n",
       "      <td>0.54824805</td>\n",
       "    </tr>\n",
       "    <tr>\n",
       "      <th>13</th>\n",
       "      <td>mean_per_class_error</td>\n",
       "      <td>0.45119256</td>\n",
       "      <td>0.0070100254</td>\n",
       "      <td>0.46052882</td>\n",
       "      <td>0.44155163</td>\n",
       "      <td>0.44822767</td>\n",
       "      <td>0.45390266</td>\n",
       "      <td>0.45175198</td>\n",
       "    </tr>\n",
       "    <tr>\n",
       "      <th>14</th>\n",
       "      <td>mse</td>\n",
       "      <td>0.0853923</td>\n",
       "      <td>0.0011428242</td>\n",
       "      <td>0.086034976</td>\n",
       "      <td>0.08367563</td>\n",
       "      <td>0.085541815</td>\n",
       "      <td>0.08501354</td>\n",
       "      <td>0.08669553</td>\n",
       "    </tr>\n",
       "    <tr>\n",
       "      <th>15</th>\n",
       "      <td>null_deviance</td>\n",
       "      <td>10102.5625</td>\n",
       "      <td>144.5201</td>\n",
       "      <td>10291.979</td>\n",
       "      <td>10024.878</td>\n",
       "      <td>10083.905</td>\n",
       "      <td>9920.1</td>\n",
       "      <td>10191.951</td>\n",
       "    </tr>\n",
       "    <tr>\n",
       "      <th>16</th>\n",
       "      <td>pr_auc</td>\n",
       "      <td>0.114119954</td>\n",
       "      <td>0.002446286</td>\n",
       "      <td>0.11003464</td>\n",
       "      <td>0.11612347</td>\n",
       "      <td>0.114656836</td>\n",
       "      <td>0.11395653</td>\n",
       "      <td>0.1158283</td>\n",
       "    </tr>\n",
       "    <tr>\n",
       "      <th>17</th>\n",
       "      <td>precision</td>\n",
       "      <td>0.114670716</td>\n",
       "      <td>0.0061403275</td>\n",
       "      <td>0.10513383</td>\n",
       "      <td>0.12080183</td>\n",
       "      <td>0.11895535</td>\n",
       "      <td>0.11290322</td>\n",
       "      <td>0.11555934</td>\n",
       "    </tr>\n",
       "    <tr>\n",
       "      <th>18</th>\n",
       "      <td>r2</td>\n",
       "      <td>0.0041208</td>\n",
       "      <td>0.0010107706</td>\n",
       "      <td>0.002714839</td>\n",
       "      <td>0.0054646605</td>\n",
       "      <td>0.0038530861</td>\n",
       "      <td>0.003987478</td>\n",
       "      <td>0.0045839367</td>\n",
       "    </tr>\n",
       "    <tr>\n",
       "      <th>19</th>\n",
       "      <td>recall</td>\n",
       "      <td>0.5436762</td>\n",
       "      <td>0.12890387</td>\n",
       "      <td>0.7684413</td>\n",
       "      <td>0.45647842</td>\n",
       "      <td>0.46295083</td>\n",
       "      <td>0.50501</td>\n",
       "      <td>0.5255003</td>\n",
       "    </tr>\n",
       "    <tr>\n",
       "      <th>20</th>\n",
       "      <td>residual_deviance</td>\n",
       "      <td>10033.908</td>\n",
       "      <td>150.72006</td>\n",
       "      <td>10241.95</td>\n",
       "      <td>9935.059</td>\n",
       "      <td>10024.867</td>\n",
       "      <td>9855.932</td>\n",
       "      <td>10111.73</td>\n",
       "    </tr>\n",
       "    <tr>\n",
       "      <th>21</th>\n",
       "      <td>rmse</td>\n",
       "      <td>0.29221436</td>\n",
       "      <td>0.0019583872</td>\n",
       "      <td>0.2933172</td>\n",
       "      <td>0.28926742</td>\n",
       "      <td>0.2924753</td>\n",
       "      <td>0.2915708</td>\n",
       "      <td>0.29444104</td>\n",
       "    </tr>\n",
       "    <tr>\n",
       "      <th>22</th>\n",
       "      <td>specificity</td>\n",
       "      <td>0.55393875</td>\n",
       "      <td>0.1409833</td>\n",
       "      <td>0.31050104</td>\n",
       "      <td>0.6604184</td>\n",
       "      <td>0.6405938</td>\n",
       "      <td>0.58718467</td>\n",
       "      <td>0.57099575</td>\n",
       "    </tr>\n",
       "  </tbody>\n",
       "</table>\n",
       "</div>"
      ],
      "text/plain": [
       "                                    mean            sd   cv_1_valid  \\\n",
       "0                  accuracy    0.5530939    0.11538466   0.35417175   \n",
       "1                       auc    0.5635859   0.006667339   0.55512935   \n",
       "2                     aucpr  0.114119954   0.002446286   0.11003464   \n",
       "3                       err    0.4469061    0.11538466   0.64582825   \n",
       "4                 err_count       7214.0     1925.9282      10558.0   \n",
       "5                  f0point5   0.13580048  0.0057316967   0.12707101   \n",
       "6                        f1   0.18785764  0.0029185014   0.18496217   \n",
       "7                        f2   0.30637658   0.019512875    0.3397425   \n",
       "8            lift_top_group    1.4530821    0.26426765    1.1509254   \n",
       "9                   logloss    0.3111952  0.0032873082    0.3132478   \n",
       "10      max_per_class_error    0.5479119    0.08422329   0.68949896   \n",
       "11                      mcc   0.05926789   0.007995742  0.050455816   \n",
       "12  mean_per_class_accuracy   0.54880744  0.0070100254   0.53947115   \n",
       "13     mean_per_class_error   0.45119256  0.0070100254   0.46052882   \n",
       "14                      mse    0.0853923  0.0011428242  0.086034976   \n",
       "15            null_deviance   10102.5625      144.5201    10291.979   \n",
       "16                   pr_auc  0.114119954   0.002446286   0.11003464   \n",
       "17                precision  0.114670716  0.0061403275   0.10513383   \n",
       "18                       r2    0.0041208  0.0010107706  0.002714839   \n",
       "19                   recall    0.5436762    0.12890387    0.7684413   \n",
       "20        residual_deviance    10033.908     150.72006     10241.95   \n",
       "21                     rmse   0.29221436  0.0019583872    0.2933172   \n",
       "22              specificity   0.55393875     0.1409833   0.31050104   \n",
       "\n",
       "      cv_2_valid    cv_3_valid   cv_4_valid    cv_5_valid  \n",
       "0     0.64150596     0.6237402     0.579441     0.5666107  \n",
       "1      0.5735111      0.563547    0.5610316    0.56471026  \n",
       "2     0.11612347   0.114656836   0.11395653     0.1158283  \n",
       "3     0.35849404     0.3762598     0.420559    0.43338934  \n",
       "4         5818.0        6048.0       6681.0        6965.0  \n",
       "5     0.14163196    0.13971898   0.13365863    0.13692178  \n",
       "6     0.19104561    0.18927614   0.18454778    0.18945654  \n",
       "7      0.2934142    0.29331118   0.29801324     0.3074018  \n",
       "8      1.8523612     1.3093575    1.5350534     1.4177129  \n",
       "9     0.30608967    0.31183487    0.3102081    0.31459558  \n",
       "10     0.5435216     0.5370492      0.49499    0.47449967  \n",
       "11   0.071069054   0.062874034   0.05454646   0.057394076  \n",
       "12     0.5584484    0.55177236   0.54609734    0.54824805  \n",
       "13    0.44155163    0.44822767   0.45390266    0.45175198  \n",
       "14    0.08367563   0.085541815   0.08501354    0.08669553  \n",
       "15     10024.878     10083.905       9920.1     10191.951  \n",
       "16    0.11612347   0.114656836   0.11395653     0.1158283  \n",
       "17    0.12080183    0.11895535   0.11290322    0.11555934  \n",
       "18  0.0054646605  0.0038530861  0.003987478  0.0045839367  \n",
       "19    0.45647842    0.46295083      0.50501     0.5255003  \n",
       "20      9935.059     10024.867     9855.932      10111.73  \n",
       "21    0.28926742     0.2924753    0.2915708    0.29444104  \n",
       "22     0.6604184     0.6405938   0.58718467    0.57099575  "
      ]
     },
     "execution_count": 74,
     "metadata": {},
     "output_type": "execute_result"
    }
   ],
   "source": [
    "# Метрики качества модели - по всем данным и на кросс-валидации\n",
    "\n",
    "glm_binomial.cross_validation_metrics_summary().as_data_frame()"
   ]
  },
  {
   "cell_type": "code",
   "execution_count": 75,
   "metadata": {
    "colab": {
     "base_uri": "https://localhost:8080/"
    },
    "colab_type": "code",
    "executionInfo": {
     "elapsed": 87259,
     "status": "ok",
     "timestamp": 1576771260226,
     "user": {
      "displayName": "Aleksandr Shchegolev",
      "photoUrl": "",
      "userId": "00652555022685556919"
     },
     "user_tz": -180
    },
    "id": "D8USRdSmoYy_",
    "outputId": "596810a0-a21f-4a78-e8d1-e660c98e2ea9"
   },
   "outputs": [
    {
     "data": {
      "text/html": [
       "<div>\n",
       "<style scoped>\n",
       "    .dataframe tbody tr th:only-of-type {\n",
       "        vertical-align: middle;\n",
       "    }\n",
       "\n",
       "    .dataframe tbody tr th {\n",
       "        vertical-align: top;\n",
       "    }\n",
       "\n",
       "    .dataframe thead th {\n",
       "        text-align: right;\n",
       "    }\n",
       "</style>\n",
       "<table border=\"1\" class=\"dataframe\">\n",
       "  <thead>\n",
       "    <tr style=\"text-align: right;\">\n",
       "      <th></th>\n",
       "      <th>names</th>\n",
       "      <th>coefficients</th>\n",
       "      <th>standardized_coefficients</th>\n",
       "    </tr>\n",
       "  </thead>\n",
       "  <tbody>\n",
       "    <tr>\n",
       "      <th>0</th>\n",
       "      <td>Intercept</td>\n",
       "      <td>-2.534238</td>\n",
       "      <td>-2.279643</td>\n",
       "    </tr>\n",
       "    <tr>\n",
       "      <th>1</th>\n",
       "      <td>LicAge</td>\n",
       "      <td>-0.000312</td>\n",
       "      <td>-0.049906</td>\n",
       "    </tr>\n",
       "    <tr>\n",
       "      <th>2</th>\n",
       "      <td>Gender</td>\n",
       "      <td>0.010311</td>\n",
       "      <td>0.004998</td>\n",
       "    </tr>\n",
       "    <tr>\n",
       "      <th>3</th>\n",
       "      <td>MariStat</td>\n",
       "      <td>-0.066143</td>\n",
       "      <td>-0.023827</td>\n",
       "    </tr>\n",
       "    <tr>\n",
       "      <th>4</th>\n",
       "      <td>DrivAge</td>\n",
       "      <td>-0.001085</td>\n",
       "      <td>-0.016265</td>\n",
       "    </tr>\n",
       "    <tr>\n",
       "      <th>5</th>\n",
       "      <td>HasKmLimit</td>\n",
       "      <td>-0.366059</td>\n",
       "      <td>-0.114316</td>\n",
       "    </tr>\n",
       "    <tr>\n",
       "      <th>6</th>\n",
       "      <td>BonusMalus</td>\n",
       "      <td>0.006341</td>\n",
       "      <td>0.097335</td>\n",
       "    </tr>\n",
       "    <tr>\n",
       "      <th>7</th>\n",
       "      <td>OutUseNb</td>\n",
       "      <td>0.061289</td>\n",
       "      <td>0.042639</td>\n",
       "    </tr>\n",
       "    <tr>\n",
       "      <th>8</th>\n",
       "      <td>RiskArea</td>\n",
       "      <td>0.009015</td>\n",
       "      <td>0.019975</td>\n",
       "    </tr>\n",
       "    <tr>\n",
       "      <th>9</th>\n",
       "      <td>VehUsage_Private</td>\n",
       "      <td>-0.146273</td>\n",
       "      <td>-0.069170</td>\n",
       "    </tr>\n",
       "    <tr>\n",
       "      <th>10</th>\n",
       "      <td>VehUsage_Private+trip to office</td>\n",
       "      <td>-0.020743</td>\n",
       "      <td>-0.010364</td>\n",
       "    </tr>\n",
       "    <tr>\n",
       "      <th>11</th>\n",
       "      <td>VehUsage_Professional</td>\n",
       "      <td>0.226068</td>\n",
       "      <td>0.074715</td>\n",
       "    </tr>\n",
       "    <tr>\n",
       "      <th>12</th>\n",
       "      <td>VehUsage_Professional run</td>\n",
       "      <td>0.296197</td>\n",
       "      <td>0.039739</td>\n",
       "    </tr>\n",
       "    <tr>\n",
       "      <th>13</th>\n",
       "      <td>SocioCateg_CSP1</td>\n",
       "      <td>-0.090657</td>\n",
       "      <td>-0.013736</td>\n",
       "    </tr>\n",
       "    <tr>\n",
       "      <th>14</th>\n",
       "      <td>SocioCateg_CSP2</td>\n",
       "      <td>-0.138184</td>\n",
       "      <td>-0.023021</td>\n",
       "    </tr>\n",
       "    <tr>\n",
       "      <th>15</th>\n",
       "      <td>SocioCateg_CSP3</td>\n",
       "      <td>0.126034</td>\n",
       "      <td>0.013074</td>\n",
       "    </tr>\n",
       "    <tr>\n",
       "      <th>16</th>\n",
       "      <td>SocioCateg_CSP4</td>\n",
       "      <td>0.042206</td>\n",
       "      <td>0.010554</td>\n",
       "    </tr>\n",
       "    <tr>\n",
       "      <th>17</th>\n",
       "      <td>SocioCateg_CSP5</td>\n",
       "      <td>-0.016242</td>\n",
       "      <td>-0.007721</td>\n",
       "    </tr>\n",
       "    <tr>\n",
       "      <th>18</th>\n",
       "      <td>SocioCateg_CSP6</td>\n",
       "      <td>0.059170</td>\n",
       "      <td>0.024302</td>\n",
       "    </tr>\n",
       "    <tr>\n",
       "      <th>19</th>\n",
       "      <td>SocioCateg_CSP7</td>\n",
       "      <td>-0.178004</td>\n",
       "      <td>-0.001881</td>\n",
       "    </tr>\n",
       "    <tr>\n",
       "      <th>20</th>\n",
       "      <td>DrivAgeSq</td>\n",
       "      <td>0.000008</td>\n",
       "      <td>0.012084</td>\n",
       "    </tr>\n",
       "  </tbody>\n",
       "</table>\n",
       "</div>"
      ],
      "text/plain": [
       "                              names  coefficients  standardized_coefficients\n",
       "0                         Intercept     -2.534238                  -2.279643\n",
       "1                            LicAge     -0.000312                  -0.049906\n",
       "2                            Gender      0.010311                   0.004998\n",
       "3                          MariStat     -0.066143                  -0.023827\n",
       "4                           DrivAge     -0.001085                  -0.016265\n",
       "5                        HasKmLimit     -0.366059                  -0.114316\n",
       "6                        BonusMalus      0.006341                   0.097335\n",
       "7                          OutUseNb      0.061289                   0.042639\n",
       "8                          RiskArea      0.009015                   0.019975\n",
       "9                  VehUsage_Private     -0.146273                  -0.069170\n",
       "10  VehUsage_Private+trip to office     -0.020743                  -0.010364\n",
       "11            VehUsage_Professional      0.226068                   0.074715\n",
       "12        VehUsage_Professional run      0.296197                   0.039739\n",
       "13                  SocioCateg_CSP1     -0.090657                  -0.013736\n",
       "14                  SocioCateg_CSP2     -0.138184                  -0.023021\n",
       "15                  SocioCateg_CSP3      0.126034                   0.013074\n",
       "16                  SocioCateg_CSP4      0.042206                   0.010554\n",
       "17                  SocioCateg_CSP5     -0.016242                  -0.007721\n",
       "18                  SocioCateg_CSP6      0.059170                   0.024302\n",
       "19                  SocioCateg_CSP7     -0.178004                  -0.001881\n",
       "20                        DrivAgeSq      0.000008                   0.012084"
      ]
     },
     "execution_count": 75,
     "metadata": {},
     "output_type": "execute_result"
    }
   ],
   "source": [
    "# Таблица коэффициентов модели (в зависимости от модели могут выводиться также стандартная ошибка, z-score и p-value)\n",
    "\n",
    "glm_binomial._model_json['output']['coefficients_table'].as_data_frame()"
   ]
  },
  {
   "cell_type": "code",
   "execution_count": 76,
   "metadata": {
    "colab": {
     "base_uri": "https://localhost:8080/"
    },
    "colab_type": "code",
    "executionInfo": {
     "elapsed": 87254,
     "status": "ok",
     "timestamp": 1576771260226,
     "user": {
      "displayName": "Aleksandr Shchegolev",
      "photoUrl": "",
      "userId": "00652555022685556919"
     },
     "user_tz": -180
    },
    "id": "KZ_XqTchoiYX",
    "outputId": "a48d5223-c9f2-479e-9f36-abd09f9b3947"
   },
   "outputs": [
    {
     "data": {
      "text/html": [
       "<div>\n",
       "<style scoped>\n",
       "    .dataframe tbody tr th:only-of-type {\n",
       "        vertical-align: middle;\n",
       "    }\n",
       "\n",
       "    .dataframe tbody tr th {\n",
       "        vertical-align: top;\n",
       "    }\n",
       "\n",
       "    .dataframe thead th {\n",
       "        text-align: right;\n",
       "    }\n",
       "</style>\n",
       "<table border=\"1\" class=\"dataframe\">\n",
       "  <thead>\n",
       "    <tr style=\"text-align: right;\">\n",
       "      <th></th>\n",
       "      <th>overall</th>\n",
       "      <th>0</th>\n",
       "      <th>1</th>\n",
       "      <th>2</th>\n",
       "      <th>3</th>\n",
       "      <th>4</th>\n",
       "    </tr>\n",
       "  </thead>\n",
       "  <tbody>\n",
       "    <tr>\n",
       "      <th>BonusMalus</th>\n",
       "      <td>0.09734</td>\n",
       "      <td>0.10002</td>\n",
       "      <td>0.09868</td>\n",
       "      <td>0.09211</td>\n",
       "      <td>0.09520</td>\n",
       "      <td>0.09944</td>\n",
       "    </tr>\n",
       "    <tr>\n",
       "      <th>DrivAge</th>\n",
       "      <td>-0.01626</td>\n",
       "      <td>-0.06681</td>\n",
       "      <td>0.00000</td>\n",
       "      <td>-0.01701</td>\n",
       "      <td>-0.01422</td>\n",
       "      <td>-0.00841</td>\n",
       "    </tr>\n",
       "    <tr>\n",
       "      <th>DrivAgeSq</th>\n",
       "      <td>0.01208</td>\n",
       "      <td>0.07838</td>\n",
       "      <td>0.00563</td>\n",
       "      <td>0.01976</td>\n",
       "      <td>0.01031</td>\n",
       "      <td>-0.02398</td>\n",
       "    </tr>\n",
       "    <tr>\n",
       "      <th>Gender</th>\n",
       "      <td>0.00500</td>\n",
       "      <td>0.00080</td>\n",
       "      <td>0.00678</td>\n",
       "      <td>0.01280</td>\n",
       "      <td>-0.00217</td>\n",
       "      <td>0.00683</td>\n",
       "    </tr>\n",
       "    <tr>\n",
       "      <th>HasKmLimit</th>\n",
       "      <td>-0.11432</td>\n",
       "      <td>-0.10735</td>\n",
       "      <td>-0.11645</td>\n",
       "      <td>-0.12448</td>\n",
       "      <td>-0.11821</td>\n",
       "      <td>-0.10537</td>\n",
       "    </tr>\n",
       "    <tr>\n",
       "      <th>Intercept</th>\n",
       "      <td>-2.27964</td>\n",
       "      <td>-2.28307</td>\n",
       "      <td>-2.27263</td>\n",
       "      <td>-2.28102</td>\n",
       "      <td>-2.27889</td>\n",
       "      <td>-2.28384</td>\n",
       "    </tr>\n",
       "    <tr>\n",
       "      <th>LicAge</th>\n",
       "      <td>-0.04991</td>\n",
       "      <td>-0.06069</td>\n",
       "      <td>-0.05047</td>\n",
       "      <td>-0.05642</td>\n",
       "      <td>-0.06657</td>\n",
       "      <td>-0.01781</td>\n",
       "    </tr>\n",
       "    <tr>\n",
       "      <th>MariStat</th>\n",
       "      <td>-0.02383</td>\n",
       "      <td>-0.02550</td>\n",
       "      <td>-0.02080</td>\n",
       "      <td>-0.02286</td>\n",
       "      <td>-0.03722</td>\n",
       "      <td>-0.01372</td>\n",
       "    </tr>\n",
       "    <tr>\n",
       "      <th>OutUseNb</th>\n",
       "      <td>0.04264</td>\n",
       "      <td>0.05084</td>\n",
       "      <td>0.03483</td>\n",
       "      <td>0.04367</td>\n",
       "      <td>0.04126</td>\n",
       "      <td>0.04237</td>\n",
       "    </tr>\n",
       "    <tr>\n",
       "      <th>RiskArea</th>\n",
       "      <td>0.01997</td>\n",
       "      <td>0.02861</td>\n",
       "      <td>0.01621</td>\n",
       "      <td>0.01883</td>\n",
       "      <td>0.01452</td>\n",
       "      <td>0.02178</td>\n",
       "    </tr>\n",
       "    <tr>\n",
       "      <th>SocioCateg_CSP1</th>\n",
       "      <td>-0.01374</td>\n",
       "      <td>-0.00286</td>\n",
       "      <td>-0.00663</td>\n",
       "      <td>-0.01917</td>\n",
       "      <td>-0.01814</td>\n",
       "      <td>-0.01761</td>\n",
       "    </tr>\n",
       "    <tr>\n",
       "      <th>SocioCateg_CSP2</th>\n",
       "      <td>-0.02302</td>\n",
       "      <td>-0.02608</td>\n",
       "      <td>-0.02410</td>\n",
       "      <td>-0.01026</td>\n",
       "      <td>-0.02587</td>\n",
       "      <td>-0.02516</td>\n",
       "    </tr>\n",
       "    <tr>\n",
       "      <th>SocioCateg_CSP3</th>\n",
       "      <td>0.01307</td>\n",
       "      <td>0.01180</td>\n",
       "      <td>0.02440</td>\n",
       "      <td>-0.00424</td>\n",
       "      <td>0.01379</td>\n",
       "      <td>0.02263</td>\n",
       "    </tr>\n",
       "    <tr>\n",
       "      <th>SocioCateg_CSP4</th>\n",
       "      <td>0.01055</td>\n",
       "      <td>0.01643</td>\n",
       "      <td>0.00695</td>\n",
       "      <td>0.01265</td>\n",
       "      <td>0.01196</td>\n",
       "      <td>0.01197</td>\n",
       "    </tr>\n",
       "    <tr>\n",
       "      <th>SocioCateg_CSP5</th>\n",
       "      <td>-0.00772</td>\n",
       "      <td>0.00000</td>\n",
       "      <td>-0.00561</td>\n",
       "      <td>-0.00049</td>\n",
       "      <td>-0.01377</td>\n",
       "      <td>-0.00399</td>\n",
       "    </tr>\n",
       "    <tr>\n",
       "      <th>SocioCateg_CSP6</th>\n",
       "      <td>0.02430</td>\n",
       "      <td>0.02346</td>\n",
       "      <td>0.02373</td>\n",
       "      <td>0.02963</td>\n",
       "      <td>0.02846</td>\n",
       "      <td>0.02740</td>\n",
       "    </tr>\n",
       "    <tr>\n",
       "      <th>SocioCateg_CSP7</th>\n",
       "      <td>-0.00188</td>\n",
       "      <td>-0.00227</td>\n",
       "      <td>0.00103</td>\n",
       "      <td>-0.02899</td>\n",
       "      <td>0.00271</td>\n",
       "      <td>-0.00077</td>\n",
       "    </tr>\n",
       "    <tr>\n",
       "      <th>VehUsage_Private</th>\n",
       "      <td>-0.06917</td>\n",
       "      <td>-0.07181</td>\n",
       "      <td>-0.06143</td>\n",
       "      <td>-0.07058</td>\n",
       "      <td>-0.06493</td>\n",
       "      <td>-0.06880</td>\n",
       "    </tr>\n",
       "    <tr>\n",
       "      <th>VehUsage_Private+trip to office</th>\n",
       "      <td>-0.01036</td>\n",
       "      <td>-0.00648</td>\n",
       "      <td>-0.00540</td>\n",
       "      <td>-0.00957</td>\n",
       "      <td>-0.00880</td>\n",
       "      <td>-0.01109</td>\n",
       "    </tr>\n",
       "    <tr>\n",
       "      <th>VehUsage_Professional</th>\n",
       "      <td>0.07471</td>\n",
       "      <td>0.07822</td>\n",
       "      <td>0.07857</td>\n",
       "      <td>0.07340</td>\n",
       "      <td>0.07580</td>\n",
       "      <td>0.07532</td>\n",
       "    </tr>\n",
       "    <tr>\n",
       "      <th>VehUsage_Professional run</th>\n",
       "      <td>0.03974</td>\n",
       "      <td>0.04232</td>\n",
       "      <td>0.04157</td>\n",
       "      <td>0.03723</td>\n",
       "      <td>0.03788</td>\n",
       "      <td>0.04294</td>\n",
       "    </tr>\n",
       "  </tbody>\n",
       "</table>\n",
       "</div>"
      ],
      "text/plain": [
       "                                 overall        0        1        2        3  \\\n",
       "BonusMalus                       0.09734  0.10002  0.09868  0.09211  0.09520   \n",
       "DrivAge                         -0.01626 -0.06681  0.00000 -0.01701 -0.01422   \n",
       "DrivAgeSq                        0.01208  0.07838  0.00563  0.01976  0.01031   \n",
       "Gender                           0.00500  0.00080  0.00678  0.01280 -0.00217   \n",
       "HasKmLimit                      -0.11432 -0.10735 -0.11645 -0.12448 -0.11821   \n",
       "Intercept                       -2.27964 -2.28307 -2.27263 -2.28102 -2.27889   \n",
       "LicAge                          -0.04991 -0.06069 -0.05047 -0.05642 -0.06657   \n",
       "MariStat                        -0.02383 -0.02550 -0.02080 -0.02286 -0.03722   \n",
       "OutUseNb                         0.04264  0.05084  0.03483  0.04367  0.04126   \n",
       "RiskArea                         0.01997  0.02861  0.01621  0.01883  0.01452   \n",
       "SocioCateg_CSP1                 -0.01374 -0.00286 -0.00663 -0.01917 -0.01814   \n",
       "SocioCateg_CSP2                 -0.02302 -0.02608 -0.02410 -0.01026 -0.02587   \n",
       "SocioCateg_CSP3                  0.01307  0.01180  0.02440 -0.00424  0.01379   \n",
       "SocioCateg_CSP4                  0.01055  0.01643  0.00695  0.01265  0.01196   \n",
       "SocioCateg_CSP5                 -0.00772  0.00000 -0.00561 -0.00049 -0.01377   \n",
       "SocioCateg_CSP6                  0.02430  0.02346  0.02373  0.02963  0.02846   \n",
       "SocioCateg_CSP7                 -0.00188 -0.00227  0.00103 -0.02899  0.00271   \n",
       "VehUsage_Private                -0.06917 -0.07181 -0.06143 -0.07058 -0.06493   \n",
       "VehUsage_Private+trip to office -0.01036 -0.00648 -0.00540 -0.00957 -0.00880   \n",
       "VehUsage_Professional            0.07471  0.07822  0.07857  0.07340  0.07580   \n",
       "VehUsage_Professional run        0.03974  0.04232  0.04157  0.03723  0.03788   \n",
       "\n",
       "                                       4  \n",
       "BonusMalus                       0.09944  \n",
       "DrivAge                         -0.00841  \n",
       "DrivAgeSq                       -0.02398  \n",
       "Gender                           0.00683  \n",
       "HasKmLimit                      -0.10537  \n",
       "Intercept                       -2.28384  \n",
       "LicAge                          -0.01781  \n",
       "MariStat                        -0.01372  \n",
       "OutUseNb                         0.04237  \n",
       "RiskArea                         0.02178  \n",
       "SocioCateg_CSP1                 -0.01761  \n",
       "SocioCateg_CSP2                 -0.02516  \n",
       "SocioCateg_CSP3                  0.02263  \n",
       "SocioCateg_CSP4                  0.01197  \n",
       "SocioCateg_CSP5                 -0.00399  \n",
       "SocioCateg_CSP6                  0.02740  \n",
       "SocioCateg_CSP7                 -0.00077  \n",
       "VehUsage_Private                -0.06880  \n",
       "VehUsage_Private+trip to office -0.01109  \n",
       "VehUsage_Professional            0.07532  \n",
       "VehUsage_Professional run        0.04294  "
      ]
     },
     "execution_count": 76,
     "metadata": {},
     "output_type": "execute_result"
    }
   ],
   "source": [
    "# Таблица нормированных коэффициентов по всем данным и на кросс-валидации\n",
    "\n",
    "pmodels = {}\n",
    "pmodels['overall'] = glm_binomial.coef_norm()\n",
    "for x in range(len(glm_binomial.cross_validation_models())):\n",
    "    pmodels[x] = glm_binomial.cross_validation_models()[x].coef_norm()\n",
    "pd.DataFrame.from_dict(pmodels).round(5)"
   ]
  },
  {
   "cell_type": "code",
   "execution_count": 77,
   "metadata": {
    "colab": {
     "base_uri": "https://localhost:8080/"
    },
    "colab_type": "code",
    "executionInfo": {
     "elapsed": 87249,
     "status": "ok",
     "timestamp": 1576771260227,
     "user": {
      "displayName": "Aleksandr Shchegolev",
      "photoUrl": "",
      "userId": "00652555022685556919"
     },
     "user_tz": -180
    },
    "id": "T9I59UXGpYlh",
    "outputId": "b2724135-2b85-4e15-9135-c324a7b1bf75"
   },
   "outputs": [
    {
     "name": "stdout",
     "output_type": "stream",
     "text": [
      "glm prediction progress: |████████████████████████████████████████████████| 100%\n",
      "glm prediction progress: |████████████████████████████████████████████████| 100%\n",
      "glm prediction progress: |████████████████████████████████████████████████| 100%\n"
     ]
    }
   ],
   "source": [
    "# Построение прогнозных значений для обучающей, валидационной и тестовой выборок\n",
    "\n",
    "ind_train_pred = glm_binomial.predict(h2o_train_ind).as_data_frame()\n",
    "ind_valid_pred = glm_binomial.predict(h2o_valid_ind).as_data_frame()\n",
    "ind_test_pred = glm_binomial.predict(h2o_test_ind).as_data_frame()"
   ]
  },
  {
   "cell_type": "code",
   "execution_count": 78,
   "metadata": {
    "colab": {},
    "colab_type": "code",
    "id": "g00U1gQBp_Wq"
   },
   "outputs": [],
   "source": [
    "from sklearn.metrics import accuracy_score, f1_score, confusion_matrix"
   ]
  },
  {
   "cell_type": "code",
   "execution_count": 79,
   "metadata": {
    "colab": {
     "base_uri": "https://localhost:8080/"
    },
    "colab_type": "code",
    "executionInfo": {
     "elapsed": 87242,
     "status": "ok",
     "timestamp": 1576771260228,
     "user": {
      "displayName": "Aleksandr Shchegolev",
      "photoUrl": "",
      "userId": "00652555022685556919"
     },
     "user_tz": -180
    },
    "id": "oVwiMaWlqRCz",
    "outputId": "c6f65b9c-b2be-4cd9-b1d4-410255c41a90"
   },
   "outputs": [
    {
     "data": {
      "text/plain": [
       "(0.4550913060738388, 0.45608376339817386, 0.4540988487495038)"
      ]
     },
     "execution_count": 79,
     "metadata": {},
     "output_type": "execute_result"
    }
   ],
   "source": [
    "# Выведем импортированные выше метрики классификации для обучающей, валидационной и тестовой выборок\n",
    "\n",
    "accuracy_score(y_train_ind, ind_train_pred['predict']), \\\n",
    "accuracy_score(y_valid_ind, ind_valid_pred['predict']), \\\n",
    "accuracy_score(y_test_ind, ind_test_pred['predict'])"
   ]
  },
  {
   "cell_type": "code",
   "execution_count": 80,
   "metadata": {},
   "outputs": [
    {
     "data": {
      "text/plain": [
       "(0.18614044839725774, 0.18915520047344284, 0.18311427934952104)"
      ]
     },
     "execution_count": 80,
     "metadata": {},
     "output_type": "execute_result"
    }
   ],
   "source": [
    "f1_score(y_train_ind, ind_train_pred['predict']), \\\n",
    "f1_score(y_valid_ind, ind_valid_pred['predict']), \\\n",
    "f1_score(y_test_ind, ind_test_pred['predict'])"
   ]
  },
  {
   "cell_type": "code",
   "execution_count": 81,
   "metadata": {},
   "outputs": [
    {
     "name": "stdout",
     "output_type": "stream",
     "text": [
      "[[31661 41312]\n",
      " [ 2612  5023]] \n",
      "[[15825 20629]\n",
      " [ 1293  2557]] \n",
      "[[15836 20683]\n",
      " [ 1319  2466]]\n"
     ]
    }
   ],
   "source": [
    "print(f\"{confusion_matrix(y_train_ind, ind_train_pred['predict'])} \\n\"  \\\n",
    "f\"{confusion_matrix(y_valid_ind, ind_valid_pred['predict'])} \\n\" \\\n",
    "f\"{confusion_matrix(y_test_ind, ind_test_pred['predict'])}\")"
   ]
  },
  {
   "cell_type": "markdown",
   "metadata": {
    "colab_type": "text",
    "id": "2TNOSiKDs-U6"
   },
   "source": [
    "Какие проблемы вы здесь видите? Как можно улучшить данный результат?"
   ]
  },
  {
   "cell_type": "markdown",
   "metadata": {},
   "source": [
    "\n",
    "Модель дает плохие результаты.\n",
    "Проблемы: не сбалансированная выборка от носительно целевой переменной, в Confusion matrix видно много ложных срабатываний.\n",
    "Как улучшить: ввести параметр stratify,  использовать другое распределение, нелениейную модель, почистить данные."
   ]
  },
  {
   "cell_type": "code",
   "execution_count": null,
   "metadata": {},
   "outputs": [],
   "source": []
  }
 ],
 "metadata": {
  "kernelspec": {
   "display_name": "Python 3",
   "language": "python",
   "name": "python3"
  },
  "language_info": {
   "codemirror_mode": {
    "name": "ipython",
    "version": 3
   },
   "file_extension": ".py",
   "mimetype": "text/x-python",
   "name": "python",
   "nbconvert_exporter": "python",
   "pygments_lexer": "ipython3",
   "version": "3.7.4"
  }
 },
 "nbformat": 4,
 "nbformat_minor": 2
}
