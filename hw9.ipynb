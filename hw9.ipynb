{
  "nbformat": 4,
  "nbformat_minor": 0,
  "metadata": {
    "kernelspec": {
      "display_name": "Python 3",
      "language": "python",
      "name": "python3"
    },
    "language_info": {
      "codemirror_mode": {
        "name": "ipython",
        "version": 3
      },
      "file_extension": ".py",
      "mimetype": "text/x-python",
      "name": "python",
      "nbconvert_exporter": "python",
      "pygments_lexer": "ipython3",
      "version": "3.7.6"
    },
    "colab": {
      "name": "hw9.ipynb",
      "provenance": [],
      "collapsed_sections": [],
      "include_colab_link": true
    }
  },
  "cells": [
    {
      "cell_type": "markdown",
      "metadata": {
        "id": "view-in-github",
        "colab_type": "text"
      },
      "source": [
        "<a href=\"https://colab.research.google.com/github/mindblower5000/ml-in-b/blob/master/hw9.ipynb\" target=\"_parent\"><img src=\"https://colab.research.google.com/assets/colab-badge.svg\" alt=\"Open In Colab\"/></a>"
      ]
    },
    {
      "cell_type": "markdown",
      "metadata": {
        "id": "nZn_6reoNMrb",
        "colab_type": "text"
      },
      "source": [
        "### HW9"
      ]
    },
    {
      "cell_type": "markdown",
      "metadata": {
        "id": "-A2vFl5qGx8c",
        "colab_type": "text"
      },
      "source": [
        "Создать веб-сервис на Flask через Google Colab или на локальной машине. Научиться отправлять post-запросы с помощью Postman и получать на них ответы. Можно использовать любую из обученных моделей в заданиях ко 2 и 3 занятиям."
      ]
    },
    {
      "cell_type": "markdown",
      "metadata": {
        "colab_type": "text",
        "id": "koF_iLbj89XC"
      },
      "source": [
        "## Flask"
      ]
    },
    {
      "cell_type": "markdown",
      "metadata": {
        "colab_type": "text",
        "id": "bDCtyzx2_-OV"
      },
      "source": [
        "Google Colab provides a virtual machine so we cannot access the localhost as we do on our local machine when running a local web server. What we can do is expose it to a public URL using ngrok.\n",
        "https://medium.com/@kshitijvijay271199/flask-on-google-colab-f6525986797b"
      ]
    },
    {
      "cell_type": "code",
      "metadata": {
        "colab_type": "code",
        "id": "22vvlI1qjJjQ",
        "outputId": "1230210d-1a79-42ec-9451-ccf0146a30f0",
        "colab": {
          "base_uri": "https://localhost:8080/",
          "height": 132
        }
      },
      "source": [
        "from google.colab import drive\n",
        "drive.mount('/content/drive')"
      ],
      "execution_count": 1,
      "outputs": [
        {
          "output_type": "stream",
          "text": [
            "Go to this URL in a browser: https://accounts.google.com/o/oauth2/auth?client_id=947318989803-6bn6qk8qdgf4n4g3pfee6491hc0brc4i.apps.googleusercontent.com&redirect_uri=urn%3aietf%3awg%3aoauth%3a2.0%3aoob&response_type=code&scope=email%20https%3a%2f%2fwww.googleapis.com%2fauth%2fdocs.test%20https%3a%2f%2fwww.googleapis.com%2fauth%2fdrive%20https%3a%2f%2fwww.googleapis.com%2fauth%2fdrive.photos.readonly%20https%3a%2f%2fwww.googleapis.com%2fauth%2fpeopleapi.readonly\n",
            "\n",
            "Enter your authorization code:\n",
            "··········\n",
            "Mounted at /content/drive\n"
          ],
          "name": "stdout"
        }
      ]
    },
    {
      "cell_type": "code",
      "metadata": {
        "colab_type": "code",
        "id": "gTzkbmHWkvP0",
        "outputId": "145a3600-5369-4c75-94cd-01def247ff5e",
        "colab": {
          "base_uri": "https://localhost:8080/",
          "height": 178
        }
      },
      "source": [
        "df = pd.read_csv('/content/drive/My Drive/GU_DS/freMPL-R.csv', low_memory=False)"
      ],
      "execution_count": 2,
      "outputs": [
        {
          "output_type": "error",
          "ename": "NameError",
          "evalue": "ignored",
          "traceback": [
            "\u001b[0;31m---------------------------------------------------------------------------\u001b[0m",
            "\u001b[0;31mNameError\u001b[0m                                 Traceback (most recent call last)",
            "\u001b[0;32m<ipython-input-2-8cd9d8625e28>\u001b[0m in \u001b[0;36m<module>\u001b[0;34m()\u001b[0m\n\u001b[0;32m----> 1\u001b[0;31m \u001b[0mdf\u001b[0m \u001b[0;34m=\u001b[0m \u001b[0mpd\u001b[0m\u001b[0;34m.\u001b[0m\u001b[0mread_csv\u001b[0m\u001b[0;34m(\u001b[0m\u001b[0;34m'/content/drive/My Drive/GU_DS/freMPL-R.csv'\u001b[0m\u001b[0;34m,\u001b[0m \u001b[0mlow_memory\u001b[0m\u001b[0;34m=\u001b[0m\u001b[0;32mFalse\u001b[0m\u001b[0;34m)\u001b[0m\u001b[0;34m\u001b[0m\u001b[0;34m\u001b[0m\u001b[0m\n\u001b[0m",
            "\u001b[0;31mNameError\u001b[0m: name 'pd' is not defined"
          ]
        }
      ]
    },
    {
      "cell_type": "code",
      "metadata": {
        "colab_type": "code",
        "id": "2laQ3An4_06O",
        "outputId": "969ab621-aa82-4759-e123-62d717a7db4a",
        "colab": {
          "base_uri": "https://localhost:8080/",
          "height": 302
        }
      },
      "source": [
        "!pip install flask-ngrok"
      ],
      "execution_count": 3,
      "outputs": [
        {
          "output_type": "stream",
          "text": [
            "Collecting flask-ngrok\n",
            "  Downloading https://files.pythonhosted.org/packages/af/6c/f54cb686ad1129e27d125d182f90f52b32f284e6c8df58c1bae54fa1adbc/flask_ngrok-0.0.25-py3-none-any.whl\n",
            "Requirement already satisfied: requests in /usr/local/lib/python3.6/dist-packages (from flask-ngrok) (2.21.0)\n",
            "Requirement already satisfied: Flask>=0.8 in /usr/local/lib/python3.6/dist-packages (from flask-ngrok) (1.1.1)\n",
            "Requirement already satisfied: certifi>=2017.4.17 in /usr/local/lib/python3.6/dist-packages (from requests->flask-ngrok) (2019.11.28)\n",
            "Requirement already satisfied: idna<2.9,>=2.5 in /usr/local/lib/python3.6/dist-packages (from requests->flask-ngrok) (2.8)\n",
            "Requirement already satisfied: chardet<3.1.0,>=3.0.2 in /usr/local/lib/python3.6/dist-packages (from requests->flask-ngrok) (3.0.4)\n",
            "Requirement already satisfied: urllib3<1.25,>=1.21.1 in /usr/local/lib/python3.6/dist-packages (from requests->flask-ngrok) (1.24.3)\n",
            "Requirement already satisfied: itsdangerous>=0.24 in /usr/local/lib/python3.6/dist-packages (from Flask>=0.8->flask-ngrok) (1.1.0)\n",
            "Requirement already satisfied: Werkzeug>=0.15 in /usr/local/lib/python3.6/dist-packages (from Flask>=0.8->flask-ngrok) (1.0.0)\n",
            "Requirement already satisfied: Jinja2>=2.10.1 in /usr/local/lib/python3.6/dist-packages (from Flask>=0.8->flask-ngrok) (2.11.1)\n",
            "Requirement already satisfied: click>=5.1 in /usr/local/lib/python3.6/dist-packages (from Flask>=0.8->flask-ngrok) (7.0)\n",
            "Requirement already satisfied: MarkupSafe>=0.23 in /usr/local/lib/python3.6/dist-packages (from Jinja2>=2.10.1->Flask>=0.8->flask-ngrok) (1.1.1)\n",
            "Installing collected packages: flask-ngrok\n",
            "Successfully installed flask-ngrok-0.0.25\n"
          ],
          "name": "stdout"
        }
      ]
    },
    {
      "cell_type": "code",
      "metadata": {
        "colab_type": "code",
        "id": "KaWqHrF2865_",
        "colab": {}
      },
      "source": [
        "from flask_ngrok import run_with_ngrok\n",
        "from flask import Flask, request, jsonify\n",
        "import pandas as pd"
      ],
      "execution_count": 0,
      "outputs": []
    },
    {
      "cell_type": "code",
      "metadata": {
        "colab_type": "code",
        "id": "YKvAxhnG9f6m",
        "outputId": "6c143e07-6161-4b3c-99b1-a221f93dcfeb",
        "colab": {
          "base_uri": "https://localhost:8080/",
          "height": 131
        }
      },
      "source": [
        "# Пробный запуск Flask\n",
        "\n",
        "app = Flask(__name__)\n",
        "run_with_ngrok(app)  # Start ngrok when app is run\n",
        "\n",
        "@app.route(\"/a\")\n",
        "def hello():\n",
        "    return \"Hello World!\"\n",
        "\n",
        "if __name__ == '__main__':\n",
        "    app.run()"
      ],
      "execution_count": 6,
      "outputs": [
        {
          "output_type": "stream",
          "text": [
            " * Serving Flask app \"__main__\" (lazy loading)\n",
            " * Environment: production\n",
            "   WARNING: This is a development server. Do not use it in a production deployment.\n",
            "   Use a production WSGI server instead.\n",
            " * Debug mode: off\n"
          ],
          "name": "stdout"
        },
        {
          "output_type": "stream",
          "text": [
            " * Running on http://127.0.0.1:5000/ (Press CTRL+C to quit)\n"
          ],
          "name": "stderr"
        }
      ]
    },
    {
      "cell_type": "markdown",
      "metadata": {
        "colab_type": "text",
        "id": "N-_2eEnWyaJp"
      },
      "source": [
        "В качестве примера используем обученную обобщенную линейную модель (GLM) и библиотеку H2O."
      ]
    },
    {
      "cell_type": "markdown",
      "metadata": {
        "colab_type": "text",
        "id": "C185KYSCypLn"
      },
      "source": [
        "Преобразование данных и обучение модели были проведены на втором занятии. Сейчас воспользуемся готовым результатом."
      ]
    },
    {
      "cell_type": "code",
      "metadata": {
        "colab_type": "code",
        "id": "OEPe9Xk99f_U",
        "outputId": "e93dcf2f-faa7-4870-e89b-8ff8baf60b3d",
        "colab": {
          "base_uri": "https://localhost:8080/",
          "height": 378
        }
      },
      "source": [
        "!pip install h2o"
      ],
      "execution_count": 7,
      "outputs": [
        {
          "output_type": "stream",
          "text": [
            "Collecting h2o\n",
            "\u001b[?25l  Downloading https://files.pythonhosted.org/packages/ef/f5/23c0d33d0b4880cbb09327ba8bc0072d366bc80eada9122bd6758ef1d365/h2o-3.28.0.3.tar.gz (126.2MB)\n",
            "\u001b[K     |████████████████████████████████| 126.2MB 94kB/s \n",
            "\u001b[?25hRequirement already satisfied: requests in /usr/local/lib/python3.6/dist-packages (from h2o) (2.21.0)\n",
            "Requirement already satisfied: tabulate in /usr/local/lib/python3.6/dist-packages (from h2o) (0.8.6)\n",
            "Requirement already satisfied: future in /usr/local/lib/python3.6/dist-packages (from h2o) (0.16.0)\n",
            "Collecting colorama>=0.3.8\n",
            "  Downloading https://files.pythonhosted.org/packages/c9/dc/45cdef1b4d119eb96316b3117e6d5708a08029992b2fee2c143c7a0a5cc5/colorama-0.4.3-py2.py3-none-any.whl\n",
            "Requirement already satisfied: certifi>=2017.4.17 in /usr/local/lib/python3.6/dist-packages (from requests->h2o) (2019.11.28)\n",
            "Requirement already satisfied: chardet<3.1.0,>=3.0.2 in /usr/local/lib/python3.6/dist-packages (from requests->h2o) (3.0.4)\n",
            "Requirement already satisfied: idna<2.9,>=2.5 in /usr/local/lib/python3.6/dist-packages (from requests->h2o) (2.8)\n",
            "Requirement already satisfied: urllib3<1.25,>=1.21.1 in /usr/local/lib/python3.6/dist-packages (from requests->h2o) (1.24.3)\n",
            "Building wheels for collected packages: h2o\n",
            "  Building wheel for h2o (setup.py) ... \u001b[?25l\u001b[?25hdone\n",
            "  Created wheel for h2o: filename=h2o-3.28.0.3-py2.py3-none-any.whl size=126303006 sha256=eaf92958730266b5d5aabd06b4db79dc69c9c0d11f58e782ae51ceb255507401\n",
            "  Stored in directory: /root/.cache/pip/wheels/fa/7c/ce/95ae52b4d3f1b14a27c3c961c1f94635aee841ab1eec3aeeca\n",
            "Successfully built h2o\n",
            "Installing collected packages: colorama, h2o\n",
            "Successfully installed colorama-0.4.3 h2o-3.28.0.3\n"
          ],
          "name": "stdout"
        }
      ]
    },
    {
      "cell_type": "code",
      "metadata": {
        "colab_type": "code",
        "id": "54UX4rlg9gDG",
        "outputId": "b79695d5-d841-45f3-95ac-822200196bf9",
        "colab": {
          "base_uri": "https://localhost:8080/",
          "height": 546
        }
      },
      "source": [
        "import h2o\n",
        "h2o.init()"
      ],
      "execution_count": 8,
      "outputs": [
        {
          "output_type": "stream",
          "text": [
            "Checking whether there is an H2O instance running at http://localhost:54321 ..... not found.\n",
            "Attempting to start a local H2O server...\n",
            "  Java Version: openjdk version \"11.0.6\" 2020-01-14; OpenJDK Runtime Environment (build 11.0.6+10-post-Ubuntu-1ubuntu118.04.1); OpenJDK 64-Bit Server VM (build 11.0.6+10-post-Ubuntu-1ubuntu118.04.1, mixed mode, sharing)\n",
            "  Starting server from /usr/local/lib/python3.6/dist-packages/h2o/backend/bin/h2o.jar\n",
            "  Ice root: /tmp/tmpez5uvq9j\n",
            "  JVM stdout: /tmp/tmpez5uvq9j/h2o_unknownUser_started_from_python.out\n",
            "  JVM stderr: /tmp/tmpez5uvq9j/h2o_unknownUser_started_from_python.err\n",
            "  Server is running at http://127.0.0.1:54321\n",
            "Connecting to H2O server at http://127.0.0.1:54321 ... successful.\n"
          ],
          "name": "stdout"
        },
        {
          "output_type": "display_data",
          "data": {
            "text/html": [
              "<div style=\"overflow:auto\"><table style=\"width:50%\"><tr><td>H2O cluster uptime:</td>\n",
              "<td>02 secs</td></tr>\n",
              "<tr><td>H2O cluster timezone:</td>\n",
              "<td>Etc/UTC</td></tr>\n",
              "<tr><td>H2O data parsing timezone:</td>\n",
              "<td>UTC</td></tr>\n",
              "<tr><td>H2O cluster version:</td>\n",
              "<td>3.28.0.3</td></tr>\n",
              "<tr><td>H2O cluster version age:</td>\n",
              "<td>13 days </td></tr>\n",
              "<tr><td>H2O cluster name:</td>\n",
              "<td>H2O_from_python_unknownUser_cki07n</td></tr>\n",
              "<tr><td>H2O cluster total nodes:</td>\n",
              "<td>1</td></tr>\n",
              "<tr><td>H2O cluster free memory:</td>\n",
              "<td>3 Gb</td></tr>\n",
              "<tr><td>H2O cluster total cores:</td>\n",
              "<td>2</td></tr>\n",
              "<tr><td>H2O cluster allowed cores:</td>\n",
              "<td>2</td></tr>\n",
              "<tr><td>H2O cluster status:</td>\n",
              "<td>accepting new members, healthy</td></tr>\n",
              "<tr><td>H2O connection url:</td>\n",
              "<td>http://127.0.0.1:54321</td></tr>\n",
              "<tr><td>H2O connection proxy:</td>\n",
              "<td>{'http': None, 'https': None}</td></tr>\n",
              "<tr><td>H2O internal security:</td>\n",
              "<td>False</td></tr>\n",
              "<tr><td>H2O API Extensions:</td>\n",
              "<td>Amazon S3, XGBoost, Algos, AutoML, Core V3, TargetEncoder, Core V4</td></tr>\n",
              "<tr><td>Python version:</td>\n",
              "<td>3.6.9 final</td></tr></table></div>"
            ],
            "text/plain": [
              "--------------------------  ------------------------------------------------------------------\n",
              "H2O cluster uptime:         02 secs\n",
              "H2O cluster timezone:       Etc/UTC\n",
              "H2O data parsing timezone:  UTC\n",
              "H2O cluster version:        3.28.0.3\n",
              "H2O cluster version age:    13 days\n",
              "H2O cluster name:           H2O_from_python_unknownUser_cki07n\n",
              "H2O cluster total nodes:    1\n",
              "H2O cluster free memory:    3 Gb\n",
              "H2O cluster total cores:    2\n",
              "H2O cluster allowed cores:  2\n",
              "H2O cluster status:         accepting new members, healthy\n",
              "H2O connection url:         http://127.0.0.1:54321\n",
              "H2O connection proxy:       {'http': None, 'https': None}\n",
              "H2O internal security:      False\n",
              "H2O API Extensions:         Amazon S3, XGBoost, Algos, AutoML, Core V3, TargetEncoder, Core V4\n",
              "Python version:             3.6.9 final\n",
              "--------------------------  ------------------------------------------------------------------"
            ]
          },
          "metadata": {
            "tags": []
          }
        }
      ]
    },
    {
      "cell_type": "code",
      "metadata": {
        "colab_type": "code",
        "id": "24JU2uFVT-Sk",
        "colab": {}
      },
      "source": [
        "# Загружаем обученные модели\n",
        "\n",
        "model_glm_poisson = h2o.load_model('/content/drive/My Drive/GU_DS/model_glm_poisson_1582125734823_1')\n",
        "model_glm_gamma = h2o.load_model('/content/drive/My Drive/GU_DS/model_glm_gamma_1582125734823_2')"
      ],
      "execution_count": 0,
      "outputs": []
    },
    {
      "cell_type": "code",
      "metadata": {
        "colab_type": "code",
        "id": "pmii6qPeGInX",
        "outputId": "007725e1-da81-4d18-b09d-ba457aef401d",
        "colab": {
          "base_uri": "https://localhost:8080/",
          "height": 739
        }
      },
      "source": [
        "# Запуск Flask\n",
        "\n",
        "\n",
        "app = Flask(__name__)\n",
        "run_with_ngrok(app)  # Start ngrok when app is run\n",
        "\n",
        "\n",
        "def map_for_dict_Gender(Gender):\n",
        "  dict_Gender = {'Male':0, 'Female':1}\n",
        "  res = dict_Gender.get(Gender)\n",
        "  return res\n",
        "\n",
        "def map_for_dict_MariStat(MariStat):\n",
        "  dict_MariStat = {'Other':0, 'Alone':1}\n",
        "  res = dict_MariStat.get(MariStat)\n",
        "  return res\n",
        "\n",
        "def f_VehUsage_Professional(VehUsage):\n",
        "  if VehUsage == 'Professional':\n",
        "    VehUsage_Professional = 1\n",
        "  else:\n",
        "    VehUsage_Professional = 0\n",
        "  return(VehUsage_Professional)\n",
        "\n",
        "def f_VehUsage_Private_trip_to_office(VehUsage):\n",
        "  if VehUsage == 'Private+trip to office':\n",
        "    VehUsage_Private_trip_to_office = 1\n",
        "  else:\n",
        "    VehUsage_Private_trip_to_office = 0\n",
        "  return(VehUsage_Private_trip_to_office)\n",
        "\n",
        "def f_VehUsage_Private(VehUsage):\n",
        "  if VehUsage == 'Private':\n",
        "    VehUsage_Private = 1\n",
        "  else:\n",
        "    VehUsage_Privatel = 0\n",
        "  return(VehUsage_Private)\n",
        "\n",
        "def f_VehUsage_Professional_run(VehUsage):\n",
        "  if VehUsage == 'Professional run':\n",
        "    VehUsage_Professional_run = 1\n",
        "  else:\n",
        "    VehUsage_Professional_run = 0\n",
        "  return(VehUsage_Professional_run)\n",
        "\n",
        "def return_NewH2o_Frame():\n",
        "  columns = [\n",
        "      'LicAge',\n",
        "      'Gender',\n",
        "      'MariStat',\n",
        "      'DrivAge',\n",
        "      'HasKmLimit',\n",
        "      'BonusMalus',\n",
        "      'OutUseNb',\n",
        "      'RiskArea',\n",
        "      'VehUsg_Private',\n",
        "      'VehUsg_Private+trip to office',\n",
        "      'VehUsg_Professional',\n",
        "      'VehUsg_Professional run',\n",
        "      'CSP1',\n",
        "      'CSP2',\n",
        "      'CSP3',\n",
        "      'CSP6',\n",
        "      'CSP7',\n",
        "      'CSP20',\n",
        "      'CSP21',\n",
        "      'CSP22',\n",
        "      'CSP26',\n",
        "      'CSP37',\n",
        "      'CSP40',\n",
        "      'CSP42',\n",
        "      'CSP46',\n",
        "      'CSP47',\n",
        "      'CSP48',\n",
        "      'CSP49',\n",
        "      'CSP50',\n",
        "      'CSP55',\n",
        "      'CSP56',\n",
        "      'CSP57',\n",
        "      'CSP60',\n",
        "      'CSP65',\n",
        "      'CSP66'\n",
        "      ]\n",
        "  return h2o.H2OFrame([[0,0,0,0,0,0,0,0,0,0,0,0,0,0,0,0,0,0,0,0,0,0,0,0,0,0,0,0,0,0,0,0,0,0,0]], column_names = columns)\n",
        "\n",
        "\n",
        "\n",
        "@app.route('/predict', methods=['GET', 'POST'])\n",
        "def predict3():\n",
        "\n",
        "    try:\n",
        "\n",
        "      json_input = request.json\n",
        "\n",
        "      ID = json_input[\"ID\"]\n",
        "      LicAge = json_input[\"LicAge\"]\n",
        "      Gender = map_for_dict_Gender(json_input[\"Gender\"])\n",
        "      MariStat = map_for_dict_MariStat(json_input[\"MariStat\"])\n",
        "      DrivAge = json_input[\"DrivAge\"]\n",
        "      HasKmLimit = json_input[\"HasKmLimit\"]\n",
        "      BonusMalus = json_input[\"BonusMalus\"]\n",
        "      OutUseNb = json_input[\"OutUseNb\"]\n",
        "      RiskArea = json_input[\"RiskArea\"]\n",
        "      VehUsg_Private = f_VehUsage_Private(json_input[\"VehUsage\"])\n",
        "      VehUsg_Private_trip_to_office = f_VehUsage_Private_trip_to_office(json_input[\"VehUsage\"])\n",
        "      VehUsg_Professional = f_VehUsage_Professional(json_input[\"VehUsage\"])\n",
        "      VehUsg_Professional_run = f_VehUsage_Professional_run(json_input[\"VehUsage\"])\n",
        "      CSP1 = 0\n",
        "      CSP2 = 0\n",
        "      CSP3 = 0\n",
        "      CSP6 = 0\n",
        "      CSP7 = 0\n",
        "      CSP20 = 0\n",
        "      CSP21 = 0\n",
        "      CSP22 = 0\n",
        "      CSP26 = 0\n",
        "      CSP37 = 0\n",
        "      CSP40 = 0\n",
        "      CSP42 = 0\n",
        "      CSP46 = 0\n",
        "      CSP47 = 0\n",
        "      CSP48 = 0\n",
        "      CSP49 = 0\n",
        "      CSP50 = 0\n",
        "      CSP55 = 0\n",
        "      CSP56 = 0\n",
        "      CSP57 = 0\n",
        "      CSP60 = 0\n",
        "      CSP65 = 0\n",
        "      CSP66 = 0\n",
        "\n",
        "      hf = return_NewH2o_Frame()\n",
        "\n",
        "      hf[0, 'LicAge'] = LicAge\n",
        "      hf[0, 'Gender'] = Gender\n",
        "      hf[0, 'MariStat'] = MariStat\n",
        "      hf[0, 'DrivAge'] = DrivAge\n",
        "      hf[0, 'HasKmLimit'] = HasKmLimit\n",
        "      hf[0, 'BonusMalus'] = BonusMalus\n",
        "      hf[0, 'OutUseNb'] = OutUseNb\n",
        "      hf[0, 'RiskArea'] = RiskArea\n",
        "      hf[0, 'VehUsg_Private'] = VehUsg_Private\n",
        "      hf[0, 'VehUsg_Private+trip to office'] = VehUsg_Private_trip_to_office\n",
        "      hf[0, 'VehUsg_Professional'] = VehUsg_Professional\n",
        "      hf[0, 'VehUsg_Professional run'] = VehUsg_Professional_run\n",
        "      hf[0, 'CSP1'] = CSP1\n",
        "      hf[0, 'CSP2'] = CSP2\n",
        "      hf[0, 'CSP3'] = CSP3\n",
        "      hf[0, 'CSP6'] = CSP6\n",
        "      hf[0, 'CSP7'] = CSP7\n",
        "      hf[0, 'CSP20'] = CSP20\n",
        "      hf[0, 'CSP21'] = CSP21\n",
        "      hf[0, 'CSP22'] = CSP22\n",
        "      hf[0, 'CSP26'] = CSP26\n",
        "      hf[0, 'CSP37'] = CSP37\n",
        "      hf[0, 'CSP40'] = CSP40\n",
        "      hf[0, 'CSP42'] = CSP42\n",
        "      hf[0, 'CSP46'] = CSP46\n",
        "      hf[0, 'CSP47'] = CSP47\n",
        "      hf[0, 'CSP48'] = CSP48\n",
        "      hf[0, 'CSP49'] = CSP49\n",
        "      hf[0, 'CSP50'] = CSP50\n",
        "      hf[0, 'CSP55'] = CSP55\n",
        "      hf[0, 'CSP56'] = CSP56\n",
        "      hf[0, 'CSP57'] = CSP57\n",
        "      hf[0, 'CSP60'] = CSP60\n",
        "      hf[0, 'CSP65'] = CSP65\n",
        "      hf[0, 'CSP66'] = CSP66\n",
        "\n",
        "      # prediction_Binomial = model_glm_binomial.predict(hf)\n",
        "      # value_Binomial  = prediction_Binomial.as_data_frame()['predict'][0]\n",
        "      # print('***********')\n",
        "      # print(value_Binomial)\n",
        "      # # return value_Binomial\n",
        "      # # # return jsonify({'ID':ID, 'value_Binomial':value_Binomial}) \n",
        "\n",
        "      prediction_Poisson = model_glm_poisson.predict(hf)\n",
        "      value_Poisson  = prediction_Poisson.as_data_frame()['predict'][0]\n",
        "      prediction_Gamma = model_glm_gamma.predict(hf)\n",
        "      value_Gamma  = prediction_Gamma.as_data_frame()['predict'][0]\n",
        "      value_BurningCost = value_Poisson * value_Gamma\n",
        "\n",
        "      return jsonify({'ID':ID, 'value_Poisson':value_Poisson, 'value_Gamma':value_Gamma, 'value_BurningCost':value_BurningCost}) \n",
        "\n",
        "    except:\n",
        "      \n",
        "      return \"Data Error\"\n",
        "\n",
        "\n",
        "\n",
        "if __name__ == '__main__':\n",
        "    app.run()"
      ],
      "execution_count": 0,
      "outputs": [
        {
          "output_type": "stream",
          "text": [
            " * Serving Flask app \"__main__\" (lazy loading)\n",
            " * Environment: production\n",
            "   WARNING: This is a development server. Do not use it in a production deployment.\n",
            "   Use a production WSGI server instead.\n",
            " * Debug mode: off\n"
          ],
          "name": "stdout"
        },
        {
          "output_type": "stream",
          "text": [
            " * Running on http://127.0.0.1:5000/ (Press CTRL+C to quit)\n",
            "INFO:werkzeug: * Running on http://127.0.0.1:5000/ (Press CTRL+C to quit)\n"
          ],
          "name": "stderr"
        },
        {
          "output_type": "stream",
          "text": [
            " * Running on http://39b0a291.ngrok.io\n",
            " * Traffic stats available on http://127.0.0.1:4040\n",
            "Parse progress: |█████████████████████████████████████████████████████████| 100%\n",
            "glm prediction progress: |████████████████████████████████████████████████| 100%\n"
          ],
          "name": "stdout"
        },
        {
          "output_type": "stream",
          "text": [
            "/usr/local/lib/python3.6/dist-packages/h2o/job.py:70: UserWarning: Test/Validation dataset is missing column 'VehUsage_Private': substituting in a column of NaN\n",
            "  warnings.warn(w)\n",
            "/usr/local/lib/python3.6/dist-packages/h2o/job.py:70: UserWarning: Test/Validation dataset is missing column 'VehUsage_Private+trip to office': substituting in a column of NaN\n",
            "  warnings.warn(w)\n",
            "/usr/local/lib/python3.6/dist-packages/h2o/job.py:70: UserWarning: Test/Validation dataset is missing column 'VehUsage_Professional': substituting in a column of NaN\n",
            "  warnings.warn(w)\n",
            "/usr/local/lib/python3.6/dist-packages/h2o/job.py:70: UserWarning: Test/Validation dataset is missing column 'VehUsage_Professional run': substituting in a column of NaN\n",
            "  warnings.warn(w)\n",
            "/usr/local/lib/python3.6/dist-packages/h2o/job.py:70: UserWarning: Test/Validation dataset is missing column 'SocioCateg_CSP1': substituting in a column of NaN\n",
            "  warnings.warn(w)\n",
            "/usr/local/lib/python3.6/dist-packages/h2o/job.py:70: UserWarning: Test/Validation dataset is missing column 'SocioCateg_CSP2': substituting in a column of NaN\n",
            "  warnings.warn(w)\n",
            "/usr/local/lib/python3.6/dist-packages/h2o/job.py:70: UserWarning: Test/Validation dataset is missing column 'SocioCateg_CSP3': substituting in a column of NaN\n",
            "  warnings.warn(w)\n",
            "/usr/local/lib/python3.6/dist-packages/h2o/job.py:70: UserWarning: Test/Validation dataset is missing column 'SocioCateg_CSP4': substituting in a column of NaN\n",
            "  warnings.warn(w)\n",
            "/usr/local/lib/python3.6/dist-packages/h2o/job.py:70: UserWarning: Test/Validation dataset is missing column 'SocioCateg_CSP5': substituting in a column of NaN\n",
            "  warnings.warn(w)\n",
            "/usr/local/lib/python3.6/dist-packages/h2o/job.py:70: UserWarning: Test/Validation dataset is missing column 'SocioCateg_CSP6': substituting in a column of NaN\n",
            "  warnings.warn(w)\n",
            "/usr/local/lib/python3.6/dist-packages/h2o/job.py:70: UserWarning: Test/Validation dataset is missing column 'SocioCateg_CSP7': substituting in a column of NaN\n",
            "  warnings.warn(w)\n",
            "/usr/local/lib/python3.6/dist-packages/h2o/job.py:70: UserWarning: Test/Validation dataset is missing column 'DrivAgeSq': substituting in a column of NaN\n",
            "  warnings.warn(w)\n"
          ],
          "name": "stderr"
        },
        {
          "output_type": "stream",
          "text": [
            "glm prediction progress: |████████████████████████████████████████████████| 100%\n"
          ],
          "name": "stdout"
        },
        {
          "output_type": "stream",
          "text": [
            "127.0.0.1 - - [19/Feb/2020 15:59:10] \"\u001b[37mPOST /predict HTTP/1.1\u001b[0m\" 200 -\n",
            "INFO:werkzeug:127.0.0.1 - - [19/Feb/2020 15:59:10] \"POST /predict HTTP/1.1\" 200 -\n"
          ],
          "name": "stderr"
        }
      ]
    },
    {
      "cell_type": "markdown",
      "metadata": {
        "colab_type": "text",
        "id": "I3cg93cYxXiR"
      },
      "source": [
        "##Отправляем JSON через postman\n",
        "http://39b0a291.ngrok.io/predict\n",
        "\n",
        "POST' ом\n",
        "\n",
        "Header\n",
        "\n",
        "  Content-type:  application/json\n",
        "\n",
        "Body \n",
        "\n",
        "  Raw: наш запрос\n"
      ]
    },
    {
      "cell_type": "markdown",
      "metadata": {
        "colab_type": "text",
        "id": "WzGEZzEDxaui"
      },
      "source": [
        "\n",
        " <br/>\n",
        "```\n",
        "{\n",
        "\"ID\":1,\n",
        "\"LicAge\":468,\n",
        "\"RecordBeg\":\"2004-03-10\",\n",
        "\"RecordEnd\":\"\",\n",
        "\"VehAge\":\"\",\n",
        "\"Gender\":\"Female\",\n",
        "\"MariStat\":\"Other\",\n",
        "\"SocioCateg\":\"CSP40\",\n",
        "\"VehUsage\":\"Private\",\n",
        "\"DrivAge\":20,\n",
        "\"HasKmLimit\":0,\n",
        "\"BonusMalus\":50,\n",
        "\"OutUseNb\":0,\n",
        "\"RiskArea\":0\n",
        "}\n",
        "```"
      ]
    },
    {
      "cell_type": "markdown",
      "metadata": {
        "id": "qXwper35KZ75",
        "colab_type": "text"
      },
      "source": [
        "Наш сервис работает:"
      ]
    },
    {
      "cell_type": "markdown",
      "metadata": {
        "colab_type": "text",
        "id": "pC8y51CYLguB"
      },
      "source": [
        "![workin service](https://drive.google.com/file/d/1jDoyXx5s524_TTvLRLvpVwgIYLutUmfY/view?usp=sharing)\n"
      ]
    },
    {
      "cell_type": "markdown",
      "metadata": {
        "colab_type": "text",
        "id": "6WQQmeTULaSv"
      },
      "source": [
        "Получаем в ответ:"
      ]
    },
    {
      "cell_type": "markdown",
      "metadata": {
        "colab_type": "text",
        "id": "zpJR-ksKJKRn"
      },
      "source": [
        "![postman screenshot](https://drive.google.com/file/d/1ZvG4cKOHJLpBjn33W_iQ3OpEWscYwksZ/view?usp=sharing)\n"
      ]
    },
    {
      "cell_type": "code",
      "metadata": {
        "id": "2vtdo_jtKK-P",
        "colab_type": "code",
        "colab": {}
      },
      "source": [
        ""
      ],
      "execution_count": 0,
      "outputs": []
    }
  ]
}